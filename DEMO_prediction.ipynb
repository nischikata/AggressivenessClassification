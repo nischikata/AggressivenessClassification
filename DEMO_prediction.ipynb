{
 "cells": [
  {
   "cell_type": "code",
   "execution_count": 1,
   "metadata": {
    "collapsed": true
   },
   "outputs": [],
   "source": [
    "from Utils.model import get_bestPrediction"
   ]
  },
  {
   "cell_type": "code",
   "execution_count": 2,
   "metadata": {},
   "outputs": [
    {
     "name": "stdout",
     "output_type": "stream",
     "text": [
      "\n",
      "\n",
      "\n",
      "---------ORIGINAL SENTENCES---------------------------------------------------------------\n",
      "   God is dead.\n",
      "   God remains dead.\n",
      "   And we have killed him.\n",
      "   Yet his shadow still looms.\n",
      "   How shall we comfort ourselves, the murderers of all murderers?\n",
      "   What was holiest and mightiest of all that the world has yet owned has bled to death under our knives; who will wipe this blood off us?\n",
      "   What water is there for us to clean ourselves?\n",
      "------------------------------------------------------------------------------------------\n",
      "\n",
      "     You EXPECTED:   not aggressive\n",
      "   Wiki PREDICTED:    aggressive \n",
      " Martin PREDICTED:    aggressive\n",
      "------------------------------------------------------------------------------------------\n",
      "\n",
      "\n"
     ]
    }
   ],
   "source": [
    "# Let's test some Nietzsche Quotes...\n",
    "\n",
    "text = \"God is dead. God remains dead. And we have killed him. Yet his shadow still looms. How shall we comfort ourselves, the murderers of all murderers? What was holiest and mightiest of all that the world has yet owned has bled to death under our knives; who will wipe this blood off us? What water is there for us to clean ourselves?\"\n",
    "\n",
    "get_bestPrediction(text, aggressive=False, selection=[40, 1, 59, 24, 46, 34, 17, 7, 5, 61, 3])"
   ]
  },
  {
   "cell_type": "code",
   "execution_count": 3,
   "metadata": {},
   "outputs": [
    {
     "name": "stdout",
     "output_type": "stream",
     "text": [
      "\n",
      "\n",
      "\n",
      "---------ORIGINAL SENTENCES---------------------------------------------------------------\n",
      "   All truly great thoughts are conceived by walking.\n",
      "------------------------------------------------------------------------------------------\n",
      "\n",
      "     You EXPECTED:   not aggressive\n",
      "   Wiki PREDICTED:    not aggressive \n",
      " Martin PREDICTED:    not aggressive\n",
      "------------------------------------------------------------------------------------------\n",
      "\n",
      "\n"
     ]
    }
   ],
   "source": [
    "get_bestPrediction(\"All truly great thoughts are conceived by walking.\", aggressive=False)"
   ]
  },
  {
   "cell_type": "code",
   "execution_count": 4,
   "metadata": {},
   "outputs": [
    {
     "name": "stdout",
     "output_type": "stream",
     "text": [
      "\n",
      "\n",
      "\n",
      "---------ORIGINAL SENTENCES---------------------------------------------------------------\n",
      "   There are horrible people who, instead of solving a problem, tangle it up and make harder to solve for anyone who wants to deal with it.\n",
      "   Whoever does not know how to hit the nail on the head should be asked not to hit at all.\n",
      "------------------------------------------------------------------------------------------\n",
      "\n",
      "     You EXPECTED:   not aggressive\n",
      "   Wiki PREDICTED:    not aggressive \n",
      " Martin PREDICTED:    not aggressive\n",
      "------------------------------------------------------------------------------------------\n",
      "\n",
      "\n"
     ]
    }
   ],
   "source": [
    "get_bestPrediction(\"There are horrible people who, instead of solving a problem, tangle it up and make harder to solve for anyone who wants to deal with it. Whoever does not know how to hit the nail on the head should be asked not to hit at all.\", aggressive=False)"
   ]
  },
  {
   "cell_type": "code",
   "execution_count": 5,
   "metadata": {},
   "outputs": [
    {
     "name": "stdout",
     "output_type": "stream",
     "text": [
      "\n",
      "\n",
      "\n",
      "---------ORIGINAL SENTENCES---------------------------------------------------------------\n",
      "   Is Wagner a human being at all?\n",
      "   Is he not rather a disease?\n",
      "   He contaminates everything he touches - he has made music sick.\n",
      "------------------------------------------------------------------------------------------\n",
      "\n",
      "     You EXPECTED:   aggressive\n",
      "   Wiki PREDICTED:    not aggressive \n",
      " Martin PREDICTED:    not aggressive\n",
      "------------------------------------------------------------------------------------------\n",
      "\n",
      "\n"
     ]
    }
   ],
   "source": [
    "get_bestPrediction(\"Is Wagner a human being at all? Is he not rather a disease? He contaminates everything he touches - he has made music sick.\", aggressive=True)"
   ]
  },
  {
   "cell_type": "code",
   "execution_count": null,
   "metadata": {
    "collapsed": true
   },
   "outputs": [],
   "source": []
  }
 ],
 "metadata": {
  "kernelspec": {
   "display_name": "Python 2",
   "language": "python",
   "name": "python2"
  },
  "language_info": {
   "codemirror_mode": {
    "name": "ipython",
    "version": 2
   },
   "file_extension": ".py",
   "mimetype": "text/x-python",
   "name": "python",
   "nbconvert_exporter": "python",
   "pygments_lexer": "ipython2",
   "version": "2.7.10"
  }
 },
 "nbformat": 4,
 "nbformat_minor": 2
}
