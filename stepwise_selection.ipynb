{
 "cells": [
  {
   "cell_type": "code",
   "execution_count": null,
   "metadata": {
    "collapsed": true
   },
   "outputs": [],
   "source": [
    "%matplotlib inline\n",
    "import matplotlib.pyplot as plt\n",
    "from setupDataset import get_dataset, load\n",
    "from feature_vector import get_feature_names\n",
    "import numpy as np\n",
    "from Utils.univariate_featureSelection import get_selectedFeatures, get_metrics, metrics_feature_selection"
   ]
  },
  {
   "cell_type": "markdown",
   "metadata": {},
   "source": [
    "def metrics_feature_selection(ranks, X_train, y_train, X_test, y_test, n):\n",
    "\n",
    "calls get_metrics"
   ]
  },
  {
   "cell_type": "code",
   "execution_count": null,
   "metadata": {
    "collapsed": true
   },
   "outputs": [],
   "source": [
    "def featureSelectionResults(trainSet, validationSet, rankfile='rank_selections.cvs', RFE_rankfile='RFE_ranks.csv', n=25, k=5):\n",
    "    # 1. get the feature rankings\n",
    "    # 1.1 univariate ranks from file\n",
    "    ranks = getTopFeatures(trainSet, rankfile)\n",
    "    \n",
    "    # 1.2 compute RFE ranks\n",
    "    RFE_ranks = getRFE_ranking(dataset, RFE_rankfile)\n",
    "    ranks = np.concatenate((ranks, RFE_ranks), axis=1)\n",
    "    \n",
    "    # 2. separate into test validation sets    \n",
    "    good, bad = separateByCategory(dataset)\n",
    "    # good, bad, validate = get_testSet_validationSet(good, bad) brauch kein validation set momentan, oder?\n",
    "    sets = getTestSets(good, bad, k) #  returns a list of k datasets (each  { \"data\": data, \"target\": target})\n",
    "    r_len = len(ranks.T) + 1 # +1 for result without feature selection\n",
    "    metrics = [np.zeros(8) for i in range(r_len)]\n",
    "    \n",
    "    for index, set in enumerate(sets):\n",
    "        #actually each set is once the testing set, and then the others are used for training\n",
    "        # 1. the index set is the testing set, \n",
    "        X_train, y_train, X_test, y_test = get_train_test_set(sets, index)\n",
    "\n",
    "        \n",
    "        metrics_temp = metrics_feature_selection(ranks, X_train, y_train, X_test, y_test, n)\n",
    "        metrics = [metrics[i]+metrics_temp[i] for i in range(r_len)] #sum up the metrics (compute avg later)\n",
    "\n",
    "    \n",
    "    # now divide all values of the metrics (except TN, TP, FN, FP) by the number of sets\n",
    "    set_len = len(sets)\n",
    "    avg_mask = np.array([set_len, set_len, set_len, set_len, 1, 1, 1, 1])\n",
    "    metrics = [m/avg_mask for m in metrics] #divide by the number of sets to get the average metrics\n",
    "    \n",
    "    return SelectionMetrics(metrics, ranks, n)"
   ]
  }
 ],
 "metadata": {
  "kernelspec": {
   "display_name": "Python 2",
   "language": "python",
   "name": "python2"
  },
  "language_info": {
   "codemirror_mode": {
    "name": "ipython",
    "version": 2
   },
   "file_extension": ".py",
   "mimetype": "text/x-python",
   "name": "python",
   "nbconvert_exporter": "python",
   "pygments_lexer": "ipython2",
   "version": "2.7.10"
  }
 },
 "nbformat": 4,
 "nbformat_minor": 2
}
