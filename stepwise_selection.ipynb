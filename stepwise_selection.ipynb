{
 "cells": [
  {
   "cell_type": "code",
   "execution_count": null,
   "metadata": {
    "collapsed": true
   },
   "outputs": [],
   "source": [
    "%matplotlib inline\n",
    "import matplotlib.pyplot as plt\n",
    "from Utils.setupDataset import get_dataset, load\n",
    "from Utils.feature_vector import get_feature_names\n",
    "import numpy as np\n",
    "from Utils.univariate_featureSelection import get_selectedFeatures, get_metrics, metrics_feature_selection"
   ]
  },
  {
   "cell_type": "markdown",
   "metadata": {},
   "source": [
    "def metrics_feature_selection(ranks, X_train, y_train, X_test, y_test, n):\n",
    "\n",
    "calls get_metrics"
   ]
  },
  {
   "cell_type": "code",
   "execution_count": null,
   "metadata": {
    "collapsed": true
   },
   "outputs": [],
   "source": [
    "def featureSelectionResults(trainSet, validationSet, rankfile='Datasets/rank_selections.cvs', RFE_rankfile='Datasets/RFE_ranks.csv', n=25):\n",
    "    # 1. get the feature rankings\n",
    "    # 1.1 univariate ranks from file\n",
    "    ranks = getTopFeatures(trainSet, rankfile)\n",
    "    \n",
    "    # 1.2 compute RFE ranks\n",
    "    RFE_ranks = getRFE_ranking(trainset, RFE_rankfile)\n",
    "    ranks = np.concatenate((ranks, RFE_ranks), axis=1)\n",
    "    \n",
    "    X_train = trainSet['data']\n",
    "    y_train = trainSet['target'\n",
    "    X_test = validationSet['data']\n",
    "    y_test = validationSet['target']\n",
    "       \n",
    "    metrics = metrics_feature_selection(ranks, X_train, y_train, X_test, y_test, n)\n",
    "    \n",
    "    return SelectionMetrics(metrics, ranks, n)"
   ]
  }
 ],
 "metadata": {
  "kernelspec": {
   "display_name": "Python 2",
   "language": "python",
   "name": "python2"
  },
  "language_info": {
   "codemirror_mode": {
    "name": "ipython",
    "version": 2
   },
   "file_extension": ".py",
   "mimetype": "text/x-python",
   "name": "python",
   "nbconvert_exporter": "python",
   "pygments_lexer": "ipython2",
   "version": "2.7.10"
  }
 },
 "nbformat": 4,
 "nbformat_minor": 2
}
