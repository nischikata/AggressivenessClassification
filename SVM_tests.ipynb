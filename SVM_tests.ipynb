{
 "cells": [
  {
   "cell_type": "code",
   "execution_count": 12,
   "metadata": {},
   "outputs": [],
   "source": [
    "from Utils.univariate_featureSelection import featureSelectionResults, get_selectedFeatures\n",
    "from Utils.setupDataset import get_dataset\n",
    "from Utils.feature_vector import get_feature_names\n",
    "import numpy as np\n",
    "from sklearn.model_selection import GridSearchCV\n",
    "from sklearn.metrics import classification_report\n",
    "from sklearn.svm import SVC\n",
    "from sklearn.metrics import f1_score, make_scorer\n",
    "from sklearn import metrics as skmetrics\n",
    "from Utils.selection_metrics import SelectionMetrics\n",
    "import pandas as pd\n",
    "from Utils.lasso_selections import get_LassoSelectionResults\n",
    "from Utils.univariate_featureSelection import get_metrics, get_selectedFeatures\n",
    "\n",
    "from sklearn import preprocessing\n",
    "\n",
    "fnames = get_feature_names()\n",
    "\n",
    "m_dev = get_dataset(\"Datasets/M_DEV_dataset.pickle\")\n",
    "w_dev = get_dataset(\"Datasets/W_DEV_dataset.pickle\")\n",
    "m_val = get_dataset(\"Datasets/M_VAL_dataset.pickle\")\n",
    "w_val = get_dataset(\"Datasets/W_VAL_dataset.pickle\")\n",
    "\n",
    "m_filename = 'Datasets/M_SELECTIONS_univariate.csv'\n",
    "w_filename = 'Datasets/W_SELECTIONS_univariate.csv'\n",
    "\n",
    "\n",
    "m_rfe = 'Datasets/M_SELECTIONS_RFE.csv'\n",
    "w_rfe = 'Datasets/W_SELECTIONS_RFE.csv'\n",
    "\n",
    "m_sel_lasso = \"Datasets/M_SELECTIONS_lasso.pickle\"\n",
    "w_sel_lasso = \"Datasets/W_SELECTIONS_lasso.pickle\"\n",
    "\n",
    "\n",
    "# 1. load data (DEV set)\n",
    "X_m = m_dev[\"data\"]\n",
    "y_m = m_dev[\"target\"]\n",
    "X_m_val = m_val[\"data\"]\n",
    "y_m_val = m_val[\"target\"]\n",
    "\n",
    "X_w = w_dev[\"data\"]\n",
    "y_w = w_dev[\"target\"]\n",
    "X_w_val = w_val[\"data\"]\n",
    "y_w_val = w_val[\"target\"]\n",
    "\n",
    "# apply feature selection\n",
    "\n",
    "\n",
    "# 2. scale data (TODO)\n",
    "\n",
    "def test_SVM(train, test, kernel='linear', gamma=1.0, C=10.0, scale=False):\n",
    "    X = train[\"data\"]\n",
    "    y = train[\"target\"]\n",
    "    X_test = test[\"data\"]\n",
    "    y_test = test[\"target\"]\n",
    "    \n",
    "    if scale:\n",
    "        scaler = preprocessing.StandardScaler().fit(X)\n",
    "        X = scaler.transform(X)\n",
    "        X_test = scaler.transform(X_test)\n",
    "    \n",
    "    clf = None\n",
    "    if kernel == 'linear':\n",
    "        clf = SVC(kernel=kernel, C=C)\n",
    "        print 'linear!'\n",
    "    else:\n",
    "        clf = SVC(kernel='rbf', C=C, gamma=gamma)\n",
    "    \n",
    "    \n",
    "    clf.fit(X, y)\n",
    "    y_pred = clf.predict(X_test)\n",
    "    \n",
    "    confusion = skmetrics.confusion_matrix(y_test, y_pred)\n",
    "    TP = confusion[1,1]\n",
    "    TN = confusion[0,0]\n",
    "    FP = confusion[0,1]\n",
    "    FN = confusion[1,0]\n",
    "    accuracy = skmetrics.accuracy_score(y_test, y_pred)\n",
    "    recall = skmetrics.recall_score(y_test,y_pred)\n",
    "\n",
    "    precision = skmetrics.precision_score(y_test, y_pred)\n",
    "    f1 = 2*precision*recall/(precision+recall)\n",
    "    metrics = np.array([ f1, precision, recall, accuracy, TN, FP, FN, TP])\n",
    "    return metrics\n"
   ]
  },
  {
   "cell_type": "code",
   "execution_count": 7,
   "metadata": {},
   "outputs": [
    {
     "data": {
      "text/plain": [
       "array([   0.78125   ,    0.78125   ,    0.78125   ,    0.78294574,\n",
       "        102.        ,   28.        ,   28.        ,  100.        ])"
      ]
     },
     "execution_count": 7,
     "metadata": {},
     "output_type": "execute_result"
    }
   ],
   "source": [
    "m_m = test_SVM(m_dev, m_val, kernel='rbf', gamma=0.0001, C= 100)\n",
    "m_m"
   ]
  },
  {
   "cell_type": "code",
   "execution_count": 9,
   "metadata": {},
   "outputs": [
    {
     "data": {
      "text/plain": [
       "array([   0.79389313,    0.7761194 ,    0.8125    ,    0.79069767,\n",
       "        100.        ,   30.        ,   24.        ,  104.        ])"
      ]
     },
     "execution_count": 9,
     "metadata": {},
     "output_type": "execute_result"
    }
   ],
   "source": [
    "m2m = test_SVM(m_dev, m_val, kernel='rbf', gamma=0.00001, C= 1000)\n",
    "m2m"
   ]
  },
  {
   "cell_type": "code",
   "execution_count": 10,
   "metadata": {},
   "outputs": [
    {
     "data": {
      "text/plain": [
       "array([  0.75294118,   0.75590551,   0.75      ,   0.75581395,\n",
       "        99.        ,  31.        ,  32.        ,  96.        ])"
      ]
     },
     "execution_count": 10,
     "metadata": {},
     "output_type": "execute_result"
    }
   ],
   "source": [
    "m_lin = test_SVM(m_dev, m_val, kernel='linear',  C= 10)\n",
    "m_lin"
   ]
  },
  {
   "cell_type": "code",
   "execution_count": 11,
   "metadata": {},
   "outputs": [
    {
     "data": {
      "text/plain": [
       "array([   0.75697211,    0.77235772,    0.7421875 ,    0.76356589,\n",
       "        102.        ,   28.        ,   33.        ,   95.        ])"
      ]
     },
     "execution_count": 11,
     "metadata": {},
     "output_type": "execute_result"
    }
   ],
   "source": [
    "m_lin2 = test_SVM(m_dev, m_val, kernel='linear',  C= 1000)\n",
    "m_lin2"
   ]
  },
  {
   "cell_type": "code",
   "execution_count": 13,
   "metadata": {},
   "outputs": [
    {
     "name": "stdout",
     "output_type": "stream",
     "text": [
      "linear!\n"
     ]
    },
    {
     "data": {
      "text/plain": [
       "array([   0.7755102 ,    0.81196581,    0.7421875 ,    0.78682171,\n",
       "        108.        ,   22.        ,   33.        ,   95.        ])"
      ]
     },
     "execution_count": 13,
     "metadata": {},
     "output_type": "execute_result"
    }
   ],
   "source": [
    "m_lin2 = test_SVM(m_dev, m_val, kernel='linear',  C= 200)\n",
    "m_lin2"
   ]
  },
  {
   "cell_type": "code",
   "execution_count": 16,
   "metadata": {},
   "outputs": [
    {
     "data": {
      "text/plain": [
       "array([   0.744     ,    0.76229508,    0.7265625 ,    0.75193798,\n",
       "        101.        ,   29.        ,   35.        ,   93.        ])"
      ]
     },
     "execution_count": 16,
     "metadata": {},
     "output_type": "execute_result"
    }
   ],
   "source": [
    "m2m = test_SVM(m_dev, m_val, kernel='rbf', gamma=0.00005, C= 1000)\n",
    "m2m"
   ]
  },
  {
   "cell_type": "code",
   "execution_count": 49,
   "metadata": {},
   "outputs": [
    {
     "data": {
      "text/plain": [
       "array([   0.7890625 ,    0.7890625 ,    0.7890625 ,    0.79069767,\n",
       "        103.        ,   27.        ,   27.        ,  101.        ])"
      ]
     },
     "execution_count": 49,
     "metadata": {},
     "output_type": "execute_result"
    }
   ],
   "source": [
    "m2m = test_SVM(m_dev, m_val, kernel='rbf', gamma=0.000075, C= 150) # gamma=0.00001, C= 1000\n",
    "m2m"
   ]
  },
  {
   "cell_type": "code",
   "execution_count": 66,
   "metadata": {},
   "outputs": [
    {
     "data": {
      "text/plain": [
       "array([   0.79844961,    0.79230769,    0.8046875 ,    0.79844961,\n",
       "        103.        ,   27.        ,   25.        ,  103.        ])"
      ]
     },
     "execution_count": 66,
     "metadata": {},
     "output_type": "execute_result"
    }
   ],
   "source": [
    "m2m = test_SVM(m_dev, m_val, kernel='rbf', gamma=0.00005, C= 200)\n",
    "m2m"
   ]
  },
  {
   "cell_type": "code",
   "execution_count": 87,
   "metadata": {},
   "outputs": [
    {
     "name": "stdout",
     "output_type": "stream",
     "text": [
      "linear!\n"
     ]
    },
    {
     "data": {
      "text/plain": [
       "array([   0.87325652,    0.93023256,    0.82285714,    0.88029782,\n",
       "        817.        ,   54.        ,  155.        ,  720.        ])"
      ]
     },
     "execution_count": 87,
     "metadata": {},
     "output_type": "execute_result"
    }
   ],
   "source": [
    "w = test_SVM(w_dev, w_val, kernel='linear', C= 100, scale=True)\n",
    "w"
   ]
  },
  {
   "cell_type": "code",
   "execution_count": 88,
   "metadata": {},
   "outputs": [
    {
     "name": "stdout",
     "output_type": "stream",
     "text": [
      "linear!\n"
     ]
    },
    {
     "data": {
      "text/plain": [
       "array([   0.87307236,    0.90752158,    0.84114286,    0.87743414,\n",
       "        796.        ,   75.        ,  139.        ,  736.        ])"
      ]
     },
     "execution_count": 88,
     "metadata": {},
     "output_type": "execute_result"
    }
   ],
   "source": [
    "w = test_SVM(w_dev, w_val, kernel='linear', C= 100)\n",
    "w"
   ]
  },
  {
   "cell_type": "code",
   "execution_count": 89,
   "metadata": {},
   "outputs": [
    {
     "name": "stdout",
     "output_type": "stream",
     "text": [
      "linear!\n"
     ]
    },
    {
     "data": {
      "text/plain": [
       "array([   0.87014563,    0.92755498,    0.81942857,    0.87743414,\n",
       "        815.        ,   56.        ,  158.        ,  717.        ])"
      ]
     },
     "execution_count": 89,
     "metadata": {},
     "output_type": "execute_result"
    }
   ],
   "source": [
    "w = test_SVM(w_dev, w_val, kernel='linear', C= 200, scale=True)\n",
    "w"
   ]
  },
  {
   "cell_type": "code",
   "execution_count": 90,
   "metadata": {},
   "outputs": [
    {
     "name": "stdout",
     "output_type": "stream",
     "text": [
      "linear!\n"
     ]
    },
    {
     "data": {
      "text/plain": [
       "array([   0.87151515,    0.92774194,    0.82171429,    0.87857961,\n",
       "        815.        ,   56.        ,  156.        ,  719.        ])"
      ]
     },
     "execution_count": 90,
     "metadata": {},
     "output_type": "execute_result"
    }
   ],
   "source": [
    "w = test_SVM(w_dev, w_val, kernel='linear', C= 220, scale=True)\n",
    "w"
   ]
  },
  {
   "cell_type": "code",
   "execution_count": 91,
   "metadata": {},
   "outputs": [
    {
     "name": "stdout",
     "output_type": "stream",
     "text": [
      "linear!\n"
     ]
    },
    {
     "data": {
      "text/plain": [
       "array([   0.8716707 ,    0.92664093,    0.82285714,    0.87857961,\n",
       "        814.        ,   57.        ,  155.        ,  720.        ])"
      ]
     },
     "execution_count": 91,
     "metadata": {},
     "output_type": "execute_result"
    }
   ],
   "source": [
    "w = test_SVM(w_dev, w_val, kernel='linear', C= 300, scale=True)\n",
    "w"
   ]
  },
  {
   "cell_type": "code",
   "execution_count": 92,
   "metadata": {},
   "outputs": [
    {
     "name": "stdout",
     "output_type": "stream",
     "text": [
      "linear!\n"
     ]
    },
    {
     "data": {
      "text/plain": [
       "array([   0.87287639,    0.89543269,    0.85142857,    0.87571592,\n",
       "        784.        ,   87.        ,  130.        ,  745.        ])"
      ]
     },
     "execution_count": 92,
     "metadata": {},
     "output_type": "execute_result"
    }
   ],
   "source": [
    "w = test_SVM(w_dev, w_val, kernel='linear', C= 300)\n",
    "w"
   ]
  },
  {
   "cell_type": "code",
   "execution_count": 93,
   "metadata": {},
   "outputs": [
    {
     "name": "stdout",
     "output_type": "stream",
     "text": [
      "linear!\n"
     ]
    },
    {
     "data": {
      "text/plain": [
       "array([   0.87279152,    0.90036452,    0.84685714,    0.87628866,\n",
       "        789.        ,   82.        ,  134.        ,  741.        ])"
      ]
     },
     "execution_count": 93,
     "metadata": {},
     "output_type": "execute_result"
    }
   ],
   "source": [
    "w = test_SVM(w_dev, w_val, kernel='linear', C= 220)\n",
    "w"
   ]
  },
  {
   "cell_type": "code",
   "execution_count": 94,
   "metadata": {},
   "outputs": [
    {
     "name": "stdout",
     "output_type": "stream",
     "text": [
      "linear!\n"
     ]
    },
    {
     "data": {
      "text/plain": [
       "array([   0.86725664,    0.89634146,    0.84      ,    0.87113402,\n",
       "        786.        ,   85.        ,  140.        ,  735.        ])"
      ]
     },
     "execution_count": 94,
     "metadata": {},
     "output_type": "execute_result"
    }
   ],
   "source": [
    "w = test_SVM(w_dev, w_val, kernel='linear', C= 200)\n",
    "w"
   ]
  },
  {
   "cell_type": "code",
   "execution_count": 96,
   "metadata": {},
   "outputs": [
    {
     "name": "stdout",
     "output_type": "stream",
     "text": [
      "linear!\n"
     ]
    },
    {
     "data": {
      "text/plain": [
       "array([   0.87310261,    0.93134715,    0.82171429,    0.88029782,\n",
       "        818.        ,   53.        ,  156.        ,  719.        ])"
      ]
     },
     "execution_count": 96,
     "metadata": {},
     "output_type": "execute_result"
    }
   ],
   "source": [
    "w = test_SVM(w_dev, w_val, kernel='linear', C= 10, scale=True)\n",
    "w"
   ]
  },
  {
   "cell_type": "code",
   "execution_count": 99,
   "metadata": {},
   "outputs": [
    {
     "name": "stdout",
     "output_type": "stream",
     "text": [
      "linear!\n"
     ]
    },
    {
     "data": {
      "text/plain": [
       "array([   0.87378641,    0.93143596,    0.82285714,    0.88087056,\n",
       "        818.        ,   53.        ,  155.        ,  720.        ])"
      ]
     },
     "execution_count": 99,
     "metadata": {},
     "output_type": "execute_result"
    }
   ],
   "source": [
    "w = test_SVM(w_dev, w_val, kernel='linear', C= 50, scale=True)\n",
    "w"
   ]
  },
  {
   "cell_type": "code",
   "execution_count": 100,
   "metadata": {},
   "outputs": [
    {
     "name": "stdout",
     "output_type": "stream",
     "text": [
      "linear!\n"
     ]
    },
    {
     "data": {
      "text/plain": [
       "array([   0.87257282,    0.9301423 ,    0.82171429,    0.87972509,\n",
       "        817.        ,   54.        ,  156.        ,  719.        ])"
      ]
     },
     "execution_count": 100,
     "metadata": {},
     "output_type": "execute_result"
    }
   ],
   "source": [
    "w = test_SVM(w_dev, w_val, kernel='linear', C= 70, scale=True)\n",
    "w"
   ]
  },
  {
   "cell_type": "code",
   "execution_count": 101,
   "metadata": {},
   "outputs": [
    {
     "name": "stdout",
     "output_type": "stream",
     "text": [
      "linear!\n"
     ]
    },
    {
     "data": {
      "text/plain": [
       "array([   0.87241798,    0.93125811,    0.82057143,    0.87972509,\n",
       "        818.        ,   53.        ,  157.        ,  718.        ])"
      ]
     },
     "execution_count": 101,
     "metadata": {},
     "output_type": "execute_result"
    }
   ],
   "source": [
    "w = test_SVM(w_dev, w_val, kernel='linear', C= 20, scale=True)\n",
    "w"
   ]
  },
  {
   "cell_type": "code",
   "execution_count": 102,
   "metadata": {},
   "outputs": [],
   "source": [
    "w = test_SVM(w_dev, w_val, kernel='linear', C= 20)\n",
    "w"
   ]
  },
  {
   "cell_type": "code",
   "execution_count": 103,
   "metadata": {},
   "outputs": [
    {
     "data": {
      "text/plain": [
       "array([   0.8697204 ,    0.90694789,    0.83542857,    0.87457045,\n",
       "        796.        ,   75.        ,  144.        ,  731.        ])"
      ]
     },
     "execution_count": 103,
     "metadata": {},
     "output_type": "execute_result"
    }
   ],
   "source": [
    "w = test_SVM(w_dev, w_val, kernel='linear', C= 50)\n",
    "w"
   ]
  },
  {
   "cell_type": "code",
   "execution_count": 104,
   "metadata": {},
   "outputs": [
    {
     "name": "stdout",
     "output_type": "stream",
     "text": [
      "linear!\n"
     ]
    },
    {
     "data": {
      "text/plain": [
       "array([   0.87179487,    0.91147132,    0.83542857,    0.8768614 ,\n",
       "        800.        ,   71.        ,  144.        ,  731.        ])"
      ]
     },
     "execution_count": 104,
     "metadata": {},
     "output_type": "execute_result"
    }
   ],
   "source": [
    "w = test_SVM(w_dev, w_val, kernel='linear', C= 70)\n",
    "w"
   ]
  },
  {
   "cell_type": "code",
   "execution_count": null,
   "metadata": {
    "collapsed": true
   },
   "outputs": [],
   "source": []
  }
 ],
 "metadata": {
  "kernelspec": {
   "display_name": "Python 2",
   "language": "python",
   "name": "python2"
  },
  "language_info": {
   "codemirror_mode": {
    "name": "ipython",
    "version": 2
   },
   "file_extension": ".py",
   "mimetype": "text/x-python",
   "name": "python",
   "nbconvert_exporter": "python",
   "pygments_lexer": "ipython2",
   "version": "2.7.10"
  }
 },
 "nbformat": 4,
 "nbformat_minor": 2
}
