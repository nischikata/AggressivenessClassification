{
 "cells": [
  {
   "cell_type": "code",
   "execution_count": 1,
   "metadata": {},
   "outputs": [
    {
     "name": "stderr",
     "output_type": "stream",
     "text": [
      "/Users/nischikata/Documents/FHHGB/PycharmProjects/AggressivenessClassification/venv/lib/python2.7/site-packages/sklearn/cross_validation.py:44: DeprecationWarning: This module was deprecated in version 0.18 in favor of the model_selection module into which all the refactored classes and functions are moved. Also note that the interface of the new CV iterators are different from that of this module. This module will be removed in 0.20.\n",
      "  \"This module will be removed in 0.20.\", DeprecationWarning)\n"
     ]
    }
   ],
   "source": [
    "%matplotlib inline\n",
    "from __future__ import division\n",
    "import matplotlib.pyplot as plt\n",
    "from sklearn.feature_selection import chi2, f_classif, mutual_info_classif\n",
    "import numpy as np\n",
    "import pandas as pd\n",
    "import scipy\n",
    "from scipy import stats\n",
    "from setupDataset import get_dataset\n",
    "from feature_vector import get_feature_names\n",
    "from model import compute_avg\n",
    "fnames = get_feature_names()\n",
    "\n",
    "def get_selectedFeatures(X, indices = []):\n",
    "    # select column indices\n",
    "    return X[:, indices]"
   ]
  },
  {
   "cell_type": "code",
   "execution_count": 9,
   "metadata": {},
   "outputs": [
    {
     "name": "stdout",
     "output_type": "stream",
     "text": [
      "set([56, 60])\n",
      "set([56])\n"
     ]
    }
   ],
   "source": [
    "first_selection = [0,1,4,7,10,11,12,13,16,18,19,20,21,23,24,26,31,32,33,34,35,36,40,43,53,54,56,58,59,60,61,62]\n",
    "first_selection = [0,1,4,7,10,11,12,13,16,18,19,20,21,23,24,26,31,32,33,34,35,36,40,43,53,54,58,59,61,62]\n",
    "wiki_f = [60,61,4,62,24,0,7,33,6,32,53,44,23,49,64,54,31,35,59,1,67,26,34,29,66,40,28,47,11,13,\n",
    "         56, 36,19,12,51,18,20, # best from mi & ranksum\n",
    "         16, 10, 43, 45, 21]#, best 10 from chi non overlap 5, 36, 30, \n",
    "          #14, 27, 56, 51, 10, 16, 21, 43, 45, 12, 18, 19, 20]\n",
    "\n",
    "wiki_f = [40,61,4,62,24,0,7,33,6,32,53,44,23,49,64,54,31,35,59,1,67,26,34,29,66,28,47,11,13,\n",
    "         36,19,12,51,18,20, # best from mi & ranksum\n",
    "         16, 10, 43, 45, 21, 39]\n",
    "    \n",
    "wiki_ranksum = [60,56,40,1,51,12,62,7,13,18,19,33,20,32,6,24,10,4,43,41,57,23,48,54,31,14,0,36,44,64]\n",
    "\n",
    "wiki_chi = [40,36,56,1,10,7,43,16,21,45,34,9,55,20,39,19,50,44,42,61,0,60,46,3,41,54,12,4,53,17]\n",
    "\n",
    "wiki_mi = [60,56,40,7,1,51,61,62,24,12,13,32,36,19,4,33,6,10,23,18,0,41,35,26,59,31,57,58,43,46]\n",
    "wiki_all = [40,36,56,1,10,7,43,16,21,45,34,9,55,20,39,19,50,44,42,61,0,60,46,3,41,54,12,4,53,17]\n",
    "wiki_all = [40,36,56,1,10,7,43,16,21,45,34,9,55,20,39,19,50,44,42,61,0,46,3,41,54,12,4,53,17]\n",
    "\n",
    "f = [1,43,40,10,59,11,26,35,56,24,60,62,0,61,2,12,18,34,19,20,46,53,58,52,54,47,42,3,23,4]\n",
    "f = [1,43,40,10,59,11,26,35,24,62,0,61,2,12,18,34,19,20,46,53,58,52,54,47,42,3,23,4,39]\n",
    "ranksum = [1,43,10,26,11,35,12,59,19,62,24,20,18,60,40,56,2,52,23,61,9,0,21,55,51,13,33,50,48,32]\n",
    "chi = [43,10,1,18,20,19,40,34,8,16,3,56,46,2,7,47,54,21,42,0,12,53,38,61,36,55,66,45,9,17]\n",
    "mi = [10,1,59,43,61,60,40,19,24,56,55,33,20,35,58,46,18,11,23,26,12,62,13,57,22,50,64,47,32,16]\n",
    "dall = [43,10,1,40,59,18,19,56,20,24,11,60,35,26,61,62,12,2,0,34,55,46,23,33,47,52,58,16,54,13]\n",
    "dall = [43,10,1,40,59,18,19,56,20,24,11,35,26,61,62,12,2,0,34,55,46,23,33,47,52,58,16,54,13,39]\n",
    "\n",
    "a = set(set(wiki_mi[:15]) - set(wiki_f))\n",
    "b = set(set(wiki_chi[:10]) - set(wiki_f))\n",
    "c =  set(set(wiki_ranksum[:15]) - set(wiki_f))\n",
    "print a\n",
    "print b\n",
    "\n",
    "#TODO combine set a und c und fuege es zu wiki_f hinzu"
   ]
  },
  {
   "cell_type": "code",
   "execution_count": 10,
   "metadata": {},
   "outputs": [
    {
     "name": "stdout",
     "output_type": "stream",
     "text": [
      "Wiki before feature selection\n",
      "   recall 0.791259764696   precision:  0.915899343075    accuracy:  0.858452285485 f-score:  0.849029590022\n",
      "[[ 57510.   4581.]\n",
      " [ 13070.  49539.]]\n",
      "Wiki AFTER feature selection\n",
      "   recall 0.776413869053   precision:  0.91819507752    accuracy:  0.852574178027 f-score:  0.841373337636\n",
      "[[ 57682.   4363.]\n",
      " [ 14021.  48634.]]\n",
      "wiki f feature selection\n",
      "   recall 0.783927567186   precision:  0.914767879668    accuracy:  0.854995990377 f-score:  0.844308801529\n",
      "[[ 57664.   4586.]\n",
      " [ 13496.  48954.]]\n",
      "wiki d f feature selection\n",
      "   recall 0.767322692705   precision:  0.910107376391    accuracy:  0.844282277466 f-score:  0.83263804026\n",
      "[[ 57331.   4874.]\n",
      " [ 14544.  47951.]]\n",
      "Wiki ranksum feature selection\n",
      "   recall 0.768113179882   precision:  0.922409614994    accuracy:  0.851210906175 f-score:  0.8382199692\n",
      "[[ 58122.   4052.]\n",
      " [ 14502.  48024.]]\n",
      "Wiki d ranksum feature selection\n",
      "   recall 0.725394815786   precision:  0.94844332416    accuracy:  0.842349639134 f-score:  0.822057825059\n",
      "[[ 59672.   2481.]\n",
      " [ 17178.  45369.]]\n",
      "wiki chi feature selection\n",
      "   recall 0.7849926052   precision:  0.913498515112    accuracy:  0.855372894948 f-score:  0.844384254529\n",
      "[[ 57954.   4689.]\n",
      " [ 13346.  48711.]]\n",
      "wiki d chi feature selection\n",
      "   recall 0.759951583032   precision:  0.93262831019    accuracy:  0.852076984763 f-score:  0.837481720712\n",
      "[[ 58865.   3470.]\n",
      " [ 14976.  47389.]]\n",
      "Wiki mi feature selection\n",
      "   recall 0.765542618284   precision:  0.935259653351    accuracy:  0.855004009623 f-score:  0.841933404891\n",
      "[[ 58662.   3384.]\n",
      " [ 14697.  47957.]]\n",
      "Wiki d mi feature selection\n",
      "   recall 0.725506937192   precision:  0.949142645391    accuracy:  0.84235765838 f-score:  0.822392434546\n",
      "[[ 59573.   2446.]\n",
      " [ 17212.  45469.]]\n",
      "wiki all feature selection\n",
      "   recall 0.781674547396   precision:  0.918194613161    accuracy:  0.854979951885 f-score:  0.844452473541\n",
      "[[ 57739.   4423.]\n",
      " [ 13661.  48877.]]\n",
      "wiki dall feature selection\n",
      "   recall 0.739568120994   precision:  0.942686629572    accuracy:  0.846944667201 f-score:  0.828864925582\n",
      "[[ 59431.   2819.]\n",
      " [ 16267.  46183.]]\n",
      "\n",
      "Before feature selection\n",
      "   recall 0.78152157923   precision:  0.809385307886    accuracy:  0.798301158301 f-score:  0.795209435759\n",
      "[[ 10561.   2391.]\n",
      " [  2833.  10115.]]\n",
      "AFTER feature selection\n",
      "   recall 0.747053806806   precision:  0.799607259161    accuracy:  0.779575289575 f-score:  0.772437685347\n",
      "[[ 10547.   2429.]\n",
      " [  3280.   9644.]]\n",
      "f feature selection\n",
      "   recall 0.77707010741   precision:  0.794097043844    accuracy:  0.789961389961 f-score:  0.785491314099\n",
      "[[ 10530.   2583.]\n",
      " [  2857.   9930.]]\n",
      "d f feature selection\n",
      "   recall 0.780356930717   precision:  0.800353789129    accuracy:  0.794864864865 f-score:  0.790228874305\n",
      "[[ 10618.   2497.]\n",
      " [  2816.   9969.]]\n",
      "ranksum feature selection\n",
      "   recall 0.736991900432   precision:  0.776127352681    accuracy:  0.761042471042 f-score:  0.756053525131\n",
      "[[ 10143.   2766.]\n",
      " [  3423.   9568.]]\n",
      "d ranksum feature selection\n",
      "   recall 0.760634183971   precision:  0.770726491583    accuracy:  0.766833976834 f-score:  0.765647081512\n",
      "[[ 10037.   2937.]\n",
      " [  3102.   9824.]]\n",
      "chi feature selection\n",
      "   recall 0.766308140624   precision:  0.799695577179    accuracy:  0.788301158301 f-score:  0.782645946298\n",
      "[[ 10586.   2474.]\n",
      " [  3009.   9831.]]\n",
      "d chi feature selection\n",
      "   recall 0.767911040592   precision:  0.794912817189    accuracy:  0.785752895753 f-score:  0.781178666538\n",
      "[[ 10468.   2558.]\n",
      " [  2991.   9883.]]\n",
      "mi feature selection\n",
      "   recall 0.729623572501   precision:  0.782395663747    accuracy:  0.763513513514 f-score:  0.755088699412\n",
      "[[ 10374.   2630.]\n",
      " [  3495.   9401.]]\n",
      "d mi feature selection\n",
      "   recall 0.755335574354   precision:  0.793246168807    accuracy:  0.779382239382 f-score:  0.773826829828\n",
      "[[ 10436.   2553.]\n",
      " [  3161.   9750.]]\n",
      "all feature selection\n",
      "   recall 0.767929675755   precision:  0.804149417996    accuracy:  0.790849420849 f-score:  0.785622306504\n",
      "[[ 10595.   2422.]\n",
      " [  2995.   9888.]]\n",
      "d all feature selection\n",
      "   recall 0.775882880204   precision:  0.800869360728    accuracy:  0.790926640927 f-score:  0.788178142562\n",
      "[[ 10441.   2503.]\n",
      " [  2912.  10044.]]\n"
     ]
    }
   ],
   "source": [
    "dataset_wiki = get_dataset(\"wiki_dataset.pickle\")\n",
    "dataset = get_dataset(\"dataset.pickle\")\n",
    "\n",
    "# BEFORE FEATURE SELECTION\n",
    "\n",
    "\n",
    "X_wiki = get_selectedFeatures(dataset_wiki[\"data\"], first_selection)\n",
    "y_wiki = dataset_wiki[\"target\"]\n",
    "\n",
    "# TODO finde verhaeltnis heraus von wiki target 0 vs 1 \n",
    "\n",
    "X = get_selectedFeatures(dataset[\"data\"], first_selection)\n",
    "y = dataset[\"target\"]\n",
    "\n",
    "Xf = get_selectedFeatures(dataset[\"data\"], wiki_f)\n",
    "Xrank = get_selectedFeatures(dataset[\"data\"], wiki_ranksum)\n",
    "Xchi = get_selectedFeatures(dataset[\"data\"], wiki_chi)\n",
    "Xmi = get_selectedFeatures(dataset[\"data\"], wiki_mi)\n",
    "Xall = get_selectedFeatures(dataset[\"data\"], wiki_all)\n",
    "\n",
    "Xf_wiki = get_selectedFeatures(dataset_wiki[\"data\"], wiki_f)\n",
    "Xrank_wiki = get_selectedFeatures(dataset_wiki[\"data\"], wiki_ranksum)\n",
    "Xchi_wiki = get_selectedFeatures(dataset_wiki[\"data\"], wiki_chi)\n",
    "Xmi_wiki = get_selectedFeatures(dataset_wiki[\"data\"], wiki_mi)\n",
    "Xall_wiki = get_selectedFeatures(dataset_wiki[\"data\"], wiki_all)\n",
    "\n",
    "dXf = get_selectedFeatures(dataset[\"data\"], f)\n",
    "dXrank = get_selectedFeatures(dataset[\"data\"], ranksum)\n",
    "dXchi = get_selectedFeatures(dataset[\"data\"], chi)\n",
    "dXmi = get_selectedFeatures(dataset[\"data\"], mi)\n",
    "dXall = get_selectedFeatures(dataset[\"data\"], dall)\n",
    "\n",
    "dXf_wiki = get_selectedFeatures(dataset_wiki[\"data\"], f)\n",
    "dXrank_wiki = get_selectedFeatures(dataset_wiki[\"data\"], ranksum)\n",
    "dXchi_wiki = get_selectedFeatures(dataset_wiki[\"data\"], chi)\n",
    "dXmi_wiki = get_selectedFeatures(dataset_wiki[\"data\"], mi)\n",
    "dXall_wiki = get_selectedFeatures(dataset_wiki[\"data\"], dall)\n",
    "\n",
    "\n",
    "print \"Wiki before feature selection\"\n",
    "compute_avg(dataset_wiki[\"data\"], y_wiki, 100)\n",
    "print \"Wiki AFTER feature selection\"\n",
    "compute_avg(X_wiki, y_wiki, 100)\n",
    "\n",
    "print \"wiki f feature selection\"\n",
    "compute_avg(Xf_wiki, y_wiki, 100)\n",
    "print \"wiki d f feature selection\"\n",
    "compute_avg(dXf_wiki, y_wiki, 100)\n",
    "\n",
    "print \"Wiki ranksum feature selection\"\n",
    "compute_avg(Xrank_wiki, y_wiki, 100)\n",
    "print \"Wiki d ranksum feature selection\"\n",
    "compute_avg(dXrank_wiki, y_wiki, 100)\n",
    "\n",
    "print \"wiki chi feature selection\"\n",
    "compute_avg(Xchi_wiki, y_wiki, 100)\n",
    "print \"wiki d chi feature selection\"\n",
    "compute_avg(dXchi_wiki, y_wiki, 100)\n",
    "\n",
    "print \"Wiki mi feature selection\"\n",
    "compute_avg(Xmi_wiki, y_wiki, 100)\n",
    "print \"Wiki d mi feature selection\"\n",
    "compute_avg(dXmi_wiki, y_wiki, 100)\n",
    "\n",
    "print \"wiki all feature selection\"\n",
    "compute_avg(Xall_wiki, y_wiki, 100)\n",
    "print \"wiki dall feature selection\"\n",
    "compute_avg(dXall_wiki, y_wiki, 100)\n",
    "\n",
    "\n",
    "print \"\\nBefore feature selection\"\n",
    "compute_avg(dataset[\"data\"], y, 100)\n",
    "print \"AFTER feature selection\"\n",
    "compute_avg(X, y, 100)\n",
    "\n",
    "print \"f feature selection\"\n",
    "compute_avg(Xf, y, 100)\n",
    "print \"d f feature selection\"\n",
    "compute_avg(dXf, y, 100)\n",
    "\n",
    "print \"ranksum feature selection\"\n",
    "compute_avg(Xrank, y, 100)\n",
    "print \"d ranksum feature selection\"\n",
    "compute_avg(dXrank, y, 100)\n",
    "\n",
    "print \"chi feature selection\"\n",
    "compute_avg(Xchi, y, 100)\n",
    "print \"d chi feature selection\"\n",
    "compute_avg(dXchi, y, 100)\n",
    "\n",
    "print \"mi feature selection\"\n",
    "compute_avg(Xmi, y, 100)\n",
    "print \"d mi feature selection\"\n",
    "compute_avg(dXmi, y, 100)\n",
    "\n",
    "print \"all feature selection\"\n",
    "compute_avg(Xall, y, 100)\n",
    "print \"d all feature selection\"\n",
    "compute_avg(dXall, y, 100)\n",
    "\n",
    "\n",
    "\n",
    "\n",
    "\n",
    "\n",
    "\n"
   ]
  },
  {
   "cell_type": "code",
   "execution_count": null,
   "metadata": {
    "collapsed": true
   },
   "outputs": [],
   "source": [
    "for index, name in enumerate(fnames):\n",
    "    print index, \" \", name"
   ]
  },
  {
   "cell_type": "code",
   "execution_count": 23,
   "metadata": {},
   "outputs": [
    {
     "data": {
      "text/plain": [
       "array([2488, 2500])"
      ]
     },
     "execution_count": 23,
     "metadata": {},
     "output_type": "execute_result"
    }
   ],
   "source": [
    "np.bincount(y_wiki)"
   ]
  },
  {
   "cell_type": "code",
   "execution_count": 24,
   "metadata": {},
   "outputs": [
    {
     "data": {
      "text/plain": [
       "array([520, 514])"
      ]
     },
     "execution_count": 24,
     "metadata": {},
     "output_type": "execute_result"
    }
   ],
   "source": [
    "np.bincount(y)"
   ]
  },
  {
   "cell_type": "code",
   "execution_count": null,
   "metadata": {
    "collapsed": true
   },
   "outputs": [],
   "source": []
  }
 ],
 "metadata": {
  "kernelspec": {
   "display_name": "Python 2",
   "language": "python",
   "name": "python2"
  },
  "language_info": {
   "codemirror_mode": {
    "name": "ipython",
    "version": 2
   },
   "file_extension": ".py",
   "mimetype": "text/x-python",
   "name": "python",
   "nbconvert_exporter": "python",
   "pygments_lexer": "ipython2",
   "version": "2.7.10"
  }
 },
 "nbformat": 4,
 "nbformat_minor": 2
}
