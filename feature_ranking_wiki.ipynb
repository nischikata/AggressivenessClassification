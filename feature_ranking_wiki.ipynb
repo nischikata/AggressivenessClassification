{
 "cells": [
  {
   "cell_type": "code",
   "execution_count": 11,
   "metadata": {
    "collapsed": true
   },
   "outputs": [],
   "source": [
    "%matplotlib inline\n",
    "from __future__ import division\n",
    "import matplotlib.pyplot as plt\n",
    "from sklearn.feature_selection import chi2, f_classif, mutual_info_classif\n",
    "import numpy as np\n",
    "import pandas as pd\n",
    "import scipy\n",
    "from scipy import stats\n",
    "from Utils.setupDataset import get_dataset\n",
    "from Utils.feature_vector import get_feature_names\n",
    "from Utils.model import compute_avg\n",
    "fnames = get_feature_names()\n",
    "\n",
    "def get_selectedFeatures(X, indices = []):\n",
    "    # select column indices\n",
    "    return X[:, indices]"
   ]
  },
  {
   "cell_type": "code",
   "execution_count": null,
   "metadata": {
    "collapsed": true
   },
   "outputs": [],
   "source": []
  },
  {
   "cell_type": "code",
   "execution_count": 12,
   "metadata": {},
   "outputs": [
    {
     "name": "stdout",
     "output_type": "stream",
     "text": [
      "set([56, 60])\n",
      "set([56])\n"
     ]
    }
   ],
   "source": [
    "first_selection = [0,1,4,7,10,11,12,13,16,18,19,20,21,23,24,26,31,32,33,34,35,36,40,43,53,54,56,58,59,60,61,62]\n",
    "first_selection = [0,1,4,7,10,11,12,13,16,18,19,20,21,23,24,26,31,32,33,34,35,36,40,43,53,54,58,59,61,62]\n",
    "wiki_f = [60,61,4,62,24,0,7,33,6,32,53,44,23,49,64,54,31,35,59,1,67,26,34,29,66,40,28,47,11,13,\n",
    "         56, 36,19,12,51,18,20, # best from mi & ranksum\n",
    "         16, 10, 43, 45, 21]#, best 10 from chi non overlap 5, 36, 30, \n",
    "          #14, 27, 56, 51, 10, 16, 21, 43, 45, 12, 18, 19, 20]\n",
    "\n",
    "wiki_f = [40,61,4,62,24,0,7,33,6,32,53,44,23,49,64,54,31,35,59,1,67,26,34,29,66,28,47,11,13,\n",
    "         36,19,12,51,18,20, # best from mi & ranksum\n",
    "         16, 10, 43, 45, 21, 39]\n",
    "    \n",
    "wiki_ranksum = [60,56,40,1,51,12,62,7,13,18,19,33,20,32,6,24,10,4,43,41,57,23,48,54,31,14,0,36,44,64]\n",
    "\n",
    "wiki_chi = [40,36,56,1,10,7,43,16,21,45,34,9,55,20,39,19,50,44,42,61,0,60,46,3,41,54,12,4,53,17]\n",
    "\n",
    "wiki_mi = [60,56,40,7,1,51,61,62,24,12,13,32,36,19,4,33,6,10,23,18,0,41,35,26,59,31,57,58,43,46]\n",
    "wiki_all = [40,36,56,1,10,7,43,16,21,45,34,9,55,20,39,19,50,44,42,61,0,60,46,3,41,54,12,4,53,17]\n",
    "wiki_all = [40,36,56,1,10,7,43,16,21,45,34,9,55,20,39,19,50,44,42,61,0,46,3,41,54,12,4,53,17]\n",
    "\n",
    "f = [1,43,40,10,59,11,26,35,56,24,60,62,0,61,2,12,18,34,19,20,46,53,58,52,54,47,42,3,23,4]\n",
    "f = [1,43,40,10,59,11,26,35,24,62,0,61,2,12,18,34,19,20,46,53,58,52,54,47,42,3,23,4,39]\n",
    "ranksum = [1,43,10,26,11,35,12,59,19,62,24,20,18,60,40,56,2,52,23,61,9,0,21,55,51,13,33,50,48,32]\n",
    "chi = [43,10,1,18,20,19,40,34,8,16,3,56,46,2,7,47,54,21,42,0,12,53,38,61,36,55,66,45,9,17]\n",
    "mi = [10,1,59,43,61,60,40,19,24,56,55,33,20,35,58,46,18,11,23,26,12,62,13,57,22,50,64,47,32,16]\n",
    "dall = [43,10,1,40,59,18,19,56,20,24,11,60,35,26,61,62,12,2,0,34,55,46,23,33,47,52,58,16,54,13]\n",
    "dall = [ 4,  5, 11, 23, 24, 28, 33, 38, 40, 47, 52, 53, 59, 61, 62]\n",
    "\n",
    "a = set(set(wiki_mi[:15]) - set(wiki_f))\n",
    "b = set(set(wiki_chi[:10]) - set(wiki_f))\n",
    "c =  set(set(wiki_ranksum[:15]) - set(wiki_f))\n",
    "print a\n",
    "print b\n",
    "\n",
    "#TODO combine set a und c und fuege es zu wiki_f hinzu"
   ]
  },
  {
   "cell_type": "code",
   "execution_count": 13,
   "metadata": {},
   "outputs": [
    {
     "name": "stdout",
     "output_type": "stream",
     "text": [
      "Wiki before feature selection\n",
      "   recall 0.788570680424   precision:  0.911999199528    accuracy:  0.85578989575 f-score:  0.845805677022\n",
      "[[ 57511.   4787.]\n",
      " [ 13196.  49206.]]\n",
      "Wiki AFTER feature selection\n",
      "   recall 0.777960011495   precision:  0.919452356628    accuracy:  0.854001603849 f-score:  0.842808947743\n",
      "[[ 57743.   4286.]\n",
      " [ 13920.  48751.]]\n",
      "wiki f feature selection\n",
      "   recall 0.780547992828   precision:  0.908463220663    accuracy:  0.850056134723 f-score:  0.839661853968\n",
      "[[ 57198.   4970.]\n",
      " [ 13728.  48804.]]\n",
      "wiki d f feature selection\n",
      "   recall 0.765806121247   precision:  0.908838108722    accuracy:  0.84286287089 f-score:  0.83121390732\n",
      "[[ 57214.   4945.]\n",
      " [ 14650.  47891.]]\n",
      "Wiki ranksum feature selection\n",
      "   recall 0.770154126521   precision:  0.924273784504    accuracy:  0.853464314354 f-score:  0.840204843817\n",
      "[[ 58430.   3945.]\n",
      " [ 14328.  47997.]]\n",
      "Wiki d ranksum feature selection\n",
      "   recall 0.732182138419   precision:  0.947754574199    accuracy:  0.845068163593 f-score:  0.826137039117\n",
      "[[ 59546.   2543.]\n",
      " [ 16777.  45834.]]\n",
      "wiki chi feature selection\n",
      "   recall 0.781506338527   precision:  0.914501399513    accuracy:  0.853215717723 f-score:  0.842789362668\n",
      "[[ 57533.   4646.]\n",
      " [ 13658.  48863.]]\n",
      "wiki d chi feature selection\n",
      "   recall 0.761067518073   precision:  0.934018088325    accuracy:  0.852983159583 f-score:  0.838719679565\n",
      "[[ 58813.   3395.]\n",
      " [ 14938.  47554.]]\n",
      "Wiki mi feature selection\n",
      "   recall 0.761970088233   precision:  0.930606097844    accuracy:  0.851371291099 f-score:  0.837887258863\n",
      "[[ 58629.   3671.]\n",
      " [ 14863.  47537.]]\n",
      "Wiki d mi feature selection\n",
      "   recall 0.729936900977   precision:  0.944636430967    accuracy:  0.842830793905 f-score:  0.823523193421\n",
      "[[ 59517.   2735.]\n",
      " [ 16864.  45584.]]\n",
      "wiki all feature selection\n",
      "   recall 0.78129740331   precision:  0.913165955608    accuracy:  0.852991178829 f-score:  0.842100463433\n",
      "[[ 57660.   4696.]\n",
      " [ 13636.  48708.]]\n",
      "wiki dall feature selection\n",
      "   recall 0.804669608624   precision:  0.908457092637    accuracy:  0.861539695269 f-score:  0.853419437857\n",
      "[[ 57179.   5067.]\n",
      " [ 12199.  50255.]]\n",
      "\n",
      "Before feature selection\n",
      "   recall 0.771172582646   precision:  0.802560208219    accuracy:  0.793204633205 f-score:  0.786553387073\n",
      "[[ 10705.   2428.]\n",
      " [  2928.   9839.]]\n",
      "AFTER feature selection\n",
      "   recall 0.751926217196   precision:  0.803358312412    accuracy:  0.783474903475 f-score:  0.776791854359\n",
      "[[ 10584.   2394.]\n",
      " [  3214.   9708.]]\n",
      "f feature selection\n",
      "   recall 0.777155061856   precision:  0.801706834475    accuracy:  0.793822393822 f-score:  0.789240054478\n",
      "[[ 10571.   2475.]\n",
      " [  2865.   9989.]]\n",
      "d f feature selection\n",
      "   recall 0.767568752871   precision:  0.802084287387    accuracy:  0.79027027027 f-score:  0.784447034315\n",
      "[[ 10612.   2443.]\n",
      " [  2989.   9856.]]\n",
      "ranksum feature selection\n",
      "   recall 0.735937319657   precision:  0.768169407977    accuracy:  0.757915057915 f-score:  0.751708006836\n",
      "[[ 10161.   2866.]\n",
      " [  3404.   9469.]]\n",
      "d ranksum feature selection\n",
      "   recall 0.763698176951   precision:  0.772181404966    accuracy:  0.77166023166 f-score:  0.767916362964\n",
      "[[ 10236.   2893.]\n",
      " [  3021.   9750.]]\n",
      "chi feature selection\n",
      "   recall 0.76821883783   precision:  0.796064099661    accuracy:  0.787837837838 f-score:  0.781893636787\n",
      "[[ 10591.   2527.]\n",
      " [  2968.   9814.]]\n",
      "d chi feature selection\n",
      "   recall 0.766700010494   precision:  0.797628044597    accuracy:  0.786409266409 f-score:  0.781858291389\n",
      "[[ 10498.   2515.]\n",
      " [  3017.   9870.]]\n",
      "mi feature selection\n",
      "   recall 0.732815757068   precision:  0.785064147231    accuracy:  0.76667953668 f-score:  0.758040706344\n",
      "[[ 10399.   2594.]\n",
      " [  3449.   9458.]]\n",
      "d mi feature selection\n",
      "   recall 0.761108025619   precision:  0.794914939488    accuracy:  0.783474903475 f-score:  0.777644229804\n",
      "[[ 10513.   2532.]\n",
      " [  3076.   9779.]]\n",
      "all feature selection\n",
      "   recall 0.761864390434   precision:  0.801204859085    accuracy:  0.786254826255 f-score:  0.781039549933\n",
      "[[ 10533.   2451.]\n",
      " [  3085.   9831.]]\n",
      "d all feature selection\n",
      "   recall 0.678501835926   precision:  0.858022389481    accuracy:  0.782664092664 f-score:  0.757774927205\n",
      "[[ 11494.   1455.]\n",
      " [  4174.   8777.]]\n"
     ]
    }
   ],
   "source": [
    "dataset_wiki = get_dataset(\"wiki_dataset.pickle\")\n",
    "dataset = get_dataset(\"dataset.pickle\")\n",
    "\n",
    "# BEFORE FEATURE SELECTION\n",
    "\n",
    "\n",
    "X_wiki = get_selectedFeatures(dataset_wiki[\"data\"], first_selection)\n",
    "y_wiki = dataset_wiki[\"target\"]\n",
    "\n",
    "# TODO finde verhaeltnis heraus von wiki target 0 vs 1 \n",
    "\n",
    "X = get_selectedFeatures(dataset[\"data\"], first_selection)\n",
    "y = dataset[\"target\"]\n",
    "\n",
    "Xf = get_selectedFeatures(dataset[\"data\"], wiki_f)\n",
    "Xrank = get_selectedFeatures(dataset[\"data\"], wiki_ranksum)\n",
    "Xchi = get_selectedFeatures(dataset[\"data\"], wiki_chi)\n",
    "Xmi = get_selectedFeatures(dataset[\"data\"], wiki_mi)\n",
    "Xall = get_selectedFeatures(dataset[\"data\"], wiki_all)\n",
    "\n",
    "Xf_wiki = get_selectedFeatures(dataset_wiki[\"data\"], wiki_f)\n",
    "Xrank_wiki = get_selectedFeatures(dataset_wiki[\"data\"], wiki_ranksum)\n",
    "Xchi_wiki = get_selectedFeatures(dataset_wiki[\"data\"], wiki_chi)\n",
    "Xmi_wiki = get_selectedFeatures(dataset_wiki[\"data\"], wiki_mi)\n",
    "Xall_wiki = get_selectedFeatures(dataset_wiki[\"data\"], wiki_all)\n",
    "\n",
    "dXf = get_selectedFeatures(dataset[\"data\"], f)\n",
    "dXrank = get_selectedFeatures(dataset[\"data\"], ranksum)\n",
    "dXchi = get_selectedFeatures(dataset[\"data\"], chi)\n",
    "dXmi = get_selectedFeatures(dataset[\"data\"], mi)\n",
    "dXall = get_selectedFeatures(dataset[\"data\"], dall)\n",
    "\n",
    "dXf_wiki = get_selectedFeatures(dataset_wiki[\"data\"], f)\n",
    "dXrank_wiki = get_selectedFeatures(dataset_wiki[\"data\"], ranksum)\n",
    "dXchi_wiki = get_selectedFeatures(dataset_wiki[\"data\"], chi)\n",
    "dXmi_wiki = get_selectedFeatures(dataset_wiki[\"data\"], mi)\n",
    "dXall_wiki = get_selectedFeatures(dataset_wiki[\"data\"], dall)\n",
    "\n",
    "\n",
    "print \"Wiki before feature selection\"\n",
    "compute_avg(dataset_wiki[\"data\"], y_wiki, 100)\n",
    "print \"Wiki AFTER feature selection\"\n",
    "compute_avg(X_wiki, y_wiki, 100)\n",
    "\n",
    "print \"wiki f feature selection\"\n",
    "compute_avg(Xf_wiki, y_wiki, 100)\n",
    "print \"wiki d f feature selection\"\n",
    "compute_avg(dXf_wiki, y_wiki, 100)\n",
    "\n",
    "print \"Wiki ranksum feature selection\"\n",
    "compute_avg(Xrank_wiki, y_wiki, 100)\n",
    "print \"Wiki d ranksum feature selection\"\n",
    "compute_avg(dXrank_wiki, y_wiki, 100)\n",
    "\n",
    "print \"wiki chi feature selection\"\n",
    "compute_avg(Xchi_wiki, y_wiki, 100)\n",
    "print \"wiki d chi feature selection\"\n",
    "compute_avg(dXchi_wiki, y_wiki, 100)\n",
    "\n",
    "print \"Wiki mi feature selection\"\n",
    "compute_avg(Xmi_wiki, y_wiki, 100)\n",
    "print \"Wiki d mi feature selection\"\n",
    "compute_avg(dXmi_wiki, y_wiki, 100)\n",
    "\n",
    "print \"wiki all feature selection\"\n",
    "compute_avg(Xall_wiki, y_wiki, 100)\n",
    "print \"wiki dall feature selection\"\n",
    "compute_avg(dXall_wiki, y_wiki, 100)\n",
    "\n",
    "\n",
    "print \"\\nBefore feature selection\"\n",
    "compute_avg(dataset[\"data\"], y, 100)\n",
    "print \"AFTER feature selection\"\n",
    "compute_avg(X, y, 100)\n",
    "\n",
    "print \"f feature selection\"\n",
    "compute_avg(Xf, y, 100)\n",
    "print \"d f feature selection\"\n",
    "compute_avg(dXf, y, 100)\n",
    "\n",
    "print \"ranksum feature selection\"\n",
    "compute_avg(Xrank, y, 100)\n",
    "print \"d ranksum feature selection\"\n",
    "compute_avg(dXrank, y, 100)\n",
    "\n",
    "print \"chi feature selection\"\n",
    "compute_avg(Xchi, y, 100)\n",
    "print \"d chi feature selection\"\n",
    "compute_avg(dXchi, y, 100)\n",
    "\n",
    "print \"mi feature selection\"\n",
    "compute_avg(Xmi, y, 100)\n",
    "print \"d mi feature selection\"\n",
    "compute_avg(dXmi, y, 100)\n",
    "\n",
    "print \"all feature selection\"\n",
    "compute_avg(Xall, y, 100)\n",
    "print \"d all feature selection\"\n",
    "compute_avg(dXall, y, 100)\n",
    "\n",
    "\n",
    "\n",
    "\n",
    "\n",
    "\n",
    "\n"
   ]
  },
  {
   "cell_type": "code",
   "execution_count": null,
   "metadata": {
    "collapsed": true
   },
   "outputs": [],
   "source": []
  },
  {
   "cell_type": "code",
   "execution_count": null,
   "metadata": {
    "collapsed": true
   },
   "outputs": [],
   "source": [
    "for index, name in enumerate(fnames):\n",
    "    print index, \" \", name"
   ]
  },
  {
   "cell_type": "code",
   "execution_count": 23,
   "metadata": {},
   "outputs": [
    {
     "data": {
      "text/plain": [
       "array([2488, 2500])"
      ]
     },
     "execution_count": 23,
     "metadata": {},
     "output_type": "execute_result"
    }
   ],
   "source": [
    "np.bincount(y_wiki)"
   ]
  },
  {
   "cell_type": "code",
   "execution_count": 24,
   "metadata": {},
   "outputs": [
    {
     "data": {
      "text/plain": [
       "array([520, 514])"
      ]
     },
     "execution_count": 24,
     "metadata": {},
     "output_type": "execute_result"
    }
   ],
   "source": [
    "np.bincount(y)"
   ]
  },
  {
   "cell_type": "code",
   "execution_count": null,
   "metadata": {
    "collapsed": true
   },
   "outputs": [],
   "source": []
  }
 ],
 "metadata": {
  "kernelspec": {
   "display_name": "Python 2",
   "language": "python",
   "name": "python2"
  },
  "language_info": {
   "codemirror_mode": {
    "name": "ipython",
    "version": 2
   },
   "file_extension": ".py",
   "mimetype": "text/x-python",
   "name": "python",
   "nbconvert_exporter": "python",
   "pygments_lexer": "ipython2",
   "version": "2.7.10"
  }
 },
 "nbformat": 4,
 "nbformat_minor": 2
}
