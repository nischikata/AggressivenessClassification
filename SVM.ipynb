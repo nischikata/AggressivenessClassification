{
 "cells": [
  {
   "cell_type": "code",
   "execution_count": 1,
   "metadata": {
    "collapsed": true
   },
   "outputs": [],
   "source": [
    "%matplotlib inline\n",
    "import matplotlib.pyplot as plt\n",
    "from Utils.univariate_featureSelection import featureSelectionResults, get_selectedFeatures\n",
    "from Utils.setupDataset import get_dataset\n",
    "from Utils.feature_vector import get_feature_names\n",
    "import numpy as np\n",
    "from sklearn.model_selection import GridSearchCV\n",
    "from sklearn.metrics import classification_report\n",
    "from sklearn.svm import SVC\n",
    "from sklearn.metrics import f1_score, make_scorer\n",
    "from sklearn import metrics as skmetrics\n",
    "from Utils.selection_metrics import SelectionMetrics\n",
    "import pandas as pd\n",
    "from Utils.lasso_selections import get_LassoSelectionResults\n",
    "from Utils.univariate_featureSelection import get_metrics, get_selectedFeatures\n",
    "from sklearn import preprocessing\n",
    "\n",
    "fnames = get_feature_names()\n",
    "\n",
    "m_dev = get_dataset(\"Datasets/M_DEV_dataset.pickle\")\n",
    "w_dev = get_dataset(\"Datasets/W_DEV_dataset.pickle\")\n",
    "m_val = get_dataset(\"Datasets/M_VAL_dataset.pickle\")\n",
    "w_val = get_dataset(\"Datasets/W_VAL_dataset.pickle\")\n",
    "\n",
    "m_filename = 'Datasets/M_SELECTIONS_univariate.csv'\n",
    "w_filename = 'Datasets/W_SELECTIONS_univariate.csv'\n",
    "\n",
    "\n",
    "m_rfe = 'Datasets/M_SELECTIONS_RFE.csv'\n",
    "w_rfe = 'Datasets/W_SELECTIONS_RFE.csv'\n",
    "\n",
    "m_sel_lasso = \"Datasets/M_SELECTIONS_lasso.pickle\"\n",
    "w_sel_lasso = \"Datasets/W_SELECTIONS_lasso.pickle\"\n",
    "\n",
    "\n",
    "# 1. load data (DEV set)\n",
    "X_dev = m_dev[\"data\"]\n",
    "y_dev = m_dev[\"target\"]\n",
    "\n",
    "X_w = w_dev[\"data\"]\n",
    "y_w = w_dev[\"target\"]\n",
    "\n",
    "# apply feature selection\n",
    "\n",
    "\n",
    "# 2. scale data (TODO)\n",
    "\n",
    "# make scorer:\n",
    "f1 = make_scorer(f1_score)\n",
    "\n",
    "\n"
   ]
  },
  {
   "cell_type": "code",
   "execution_count": 6,
   "metadata": {},
   "outputs": [
    {
     "name": "stdout",
     "output_type": "stream",
     "text": [
      "ok\n",
      "best params:  0.1  C:  5.6234132519\n"
     ]
    }
   ],
   "source": [
    "#def compute_SVM_params(trainSet, selection): \n",
    "import warnings\n",
    "warnings.filterwarnings('ignore')\n",
    "# THIS COMBINATION PRODUCES ERROR:\n",
    "# gamma_range = np.logspace(-7,2,10)\n",
    "# C_range = np.logspace(-2,3,6)\n",
    "gamma_range = np.logspace(-4,1,6)\n",
    "C_range = np.logspace(-0,3,5)\n",
    "\n",
    "X_train = preprocessing.minmax_scale(X_dev)\n",
    "y = m_dev[\"target\"]\n",
    "\n",
    "tuning_params = [{'kernel': ['rbf'], 'gamma': gamma_range, 'C':  C_range}]\n",
    "\n",
    "clf = GridSearchCV(SVC(C=1), tuning_params, cv=5, scoring=f1, n_jobs=3)\n",
    "print \"ok\"\n",
    "clf.fit(X_train, y)\n",
    "\n",
    "# parameters for best training result\n",
    "C = clf.best_params_['C']\n",
    "gamma =  clf.best_params_['gamma']\n",
    "\n",
    "print \"best params: \", gamma, \" C: \", C"
   ]
  },
  {
   "cell_type": "code",
   "execution_count": 5,
   "metadata": {},
   "outputs": [
    {
     "name": "stderr",
     "output_type": "stream",
     "text": [
      "/Users/nischikata/Documents/FHHGB/PycharmProjects/AggressivenessClassification/venv/lib/python2.7/site-packages/sklearn/metrics/classification.py:1113: UndefinedMetricWarning: F-score is ill-defined and being set to 0.0 due to no predicted samples.\n",
      "  'precision', 'predicted', average, warn_for)\n",
      "/Users/nischikata/Documents/FHHGB/PycharmProjects/AggressivenessClassification/venv/lib/python2.7/site-packages/sklearn/metrics/classification.py:1113: UndefinedMetricWarning: F-score is ill-defined and being set to 0.0 due to no predicted samples.\n",
      "  'precision', 'predicted', average, warn_for)\n",
      "/Users/nischikata/Documents/FHHGB/PycharmProjects/AggressivenessClassification/venv/lib/python2.7/site-packages/sklearn/metrics/classification.py:1113: UndefinedMetricWarning: F-score is ill-defined and being set to 0.0 due to no predicted samples.\n",
      "  'precision', 'predicted', average, warn_for)\n"
     ]
    },
    {
     "name": "stdout",
     "output_type": "stream",
     "text": [
      "{'kernel': 'rbf', 'C': 10.0, 'gamma': 0.10000000000000001}\n"
     ]
    }
   ],
   "source": [
    "# # set the parameters by cross validation\n",
    "#tuning_params = [# {'kernel': ['rbf'], 'gamma': [1e-3, 1e-4], 'C': [1,10,100,1000] },\n",
    "#                  {'kernel': ['linear'], 'C': [1,10,100,1000]}]\n",
    "gamma_range = np.logspace(-2,1,4)\n",
    "C_range = np.logspace(-1,3,5)\n",
    "\n",
    "#{'C': np.logspace(-3, 2, 6), 'gamma': np.logspace(-3, 2, 6)}\n",
    "tuning_params = [{'kernel': ['rbf'], 'gamma': gamma_range, 'C':  C_range}]\n",
    "tuning_params = [{'kernel': ['rbf'], 'gamma': gamma_range, 'C':  C_range}]\n",
    "X_train = preprocessing.minmax_scale(m_dev[\"data\"])\n",
    "y = m_dev[\"target\"]\n",
    "#Xm_scaled = preprocessing.minmax_scale(X_dev)\n",
    "clf = GridSearchCV(SVC(C=1), tuning_params, cv=5, scoring=f1, n_jobs=3)\n",
    "\n",
    "clf.fit(X_train, y)\n",
    "print clf.best_params_"
   ]
  },
  {
   "cell_type": "code",
   "execution_count": null,
   "metadata": {
    "collapsed": true
   },
   "outputs": [],
   "source": [
    "clf.best_params_['gamma']"
   ]
  },
  {
   "cell_type": "code",
   "execution_count": null,
   "metadata": {
    "collapsed": true
   },
   "outputs": [],
   "source": [
    "clf.best_score_"
   ]
  },
  {
   "cell_type": "code",
   "execution_count": null,
   "metadata": {
    "collapsed": true
   },
   "outputs": [],
   "source": [
    "clf.best_score_"
   ]
  },
  {
   "cell_type": "code",
   "execution_count": 7,
   "metadata": {},
   "outputs": [
    {
     "name": "stderr",
     "output_type": "stream",
     "text": [
      "/Users/nischikata/Documents/FHHGB/PycharmProjects/AggressivenessClassification/venv/lib/python2.7/site-packages/sklearn/metrics/classification.py:1113: UndefinedMetricWarning: F-score is ill-defined and being set to 0.0 due to no predicted samples.\n",
      "  'precision', 'predicted', average, warn_for)\n",
      "/Users/nischikata/Documents/FHHGB/PycharmProjects/AggressivenessClassification/venv/lib/python2.7/site-packages/sklearn/metrics/classification.py:1113: UndefinedMetricWarning: F-score is ill-defined and being set to 0.0 due to no predicted samples.\n",
      "  'precision', 'predicted', average, warn_for)\n",
      "/Users/nischikata/Documents/FHHGB/PycharmProjects/AggressivenessClassification/venv/lib/python2.7/site-packages/sklearn/metrics/classification.py:1113: UndefinedMetricWarning: F-score is ill-defined and being set to 0.0 due to no predicted samples.\n",
      "  'precision', 'predicted', average, warn_for)\n"
     ]
    },
    {
     "name": "stdout",
     "output_type": "stream",
     "text": [
      "{'kernel': 'rbf', 'C': 10.0, 'gamma': 0.10000000000000001}\n"
     ]
    }
   ],
   "source": [
    "gamma_range =np.logspace(-3, 2, 6)\n",
    "C_range = np.logspace(-3, 2, 6)\n",
    "\n",
    "#{'C': np.logspace(-3, 2, 6), 'gamma': np.logspace(-3, 2, 6)}\n",
    "tuning_params = [{'kernel': ['rbf'], 'gamma': gamma_range, 'C':  C_range}]\n",
    "\n",
    "Xm_scaled = preprocessing.minmax_scale(X_dev)\n",
    "clf = GridSearchCV(SVC(C=1), tuning_params, cv=5, scoring=f1, n_jobs=3)\n",
    "\n",
    "clf.fit(Xm_scaled, y_dev)\n",
    "print clf.best_params_"
   ]
  },
  {
   "cell_type": "code",
   "execution_count": null,
   "metadata": {
    "collapsed": true
   },
   "outputs": [],
   "source": [
    "clf.best_score_"
   ]
  },
  {
   "cell_type": "code",
   "execution_count": null,
   "metadata": {
    "collapsed": true
   },
   "outputs": [],
   "source": [
    "gamma_range =np.logspace(-3, 2, 6)\n",
    "C_range = np.logspace(-3, 2, 6)\n",
    "\n",
    "#{'C': np.logspace(-3, 2, 6), 'gamma': np.logspace(-3, 2, 6)}\n",
    "tuning_params = [{'kernel': ['rbf'], 'gamma': gamma_range, 'C':  C_range}]\n",
    "\n",
    "Xw_scaled = preprocessing.minmax_scale(X_w)\n",
    "clf = GridSearchCV(SVC(C=1), tuning_params, cv=5, scoring=f1, n_jobs=3)\n",
    "\n",
    "clf.fit(Xw_scaled, y_w)\n",
    "print clf.best_params_"
   ]
  },
  {
   "cell_type": "code",
   "execution_count": null,
   "metadata": {
    "collapsed": true
   },
   "outputs": [],
   "source": [
    "clf.best_score_"
   ]
  },
  {
   "cell_type": "code",
   "execution_count": null,
   "metadata": {
    "collapsed": true
   },
   "outputs": [],
   "source": [
    "#tuning_params = [ {'kernel': ['rbf'], 'gamma': [1e-5, 1e-6], 'C': [1,10,100,1000] },\n",
    "                  {'kernel': ['linear'], 'C': [10000,100000,1000000,10000]}]\n",
    "                  \n",
    "#clf = GridSearchCV(SVC(C=1), tuning_params, cv=5, scoring=f1)\n",
    "\n",
    "#clf.fit(X_dev, y_dev)\n",
    "#print clf.best_params_"
   ]
  },
  {
   "cell_type": "markdown",
   "metadata": {},
   "source": [
    "tuning_params = [ {'kernel': ['rbf'], 'gamma': [1e-5, 1e-6], 'C': [1,10,100,1000] },\n",
    "                  {'kernel': ['linear'], 'C': [10000,100000,1000000,10000]}]\n",
    "                  \n",
    "clf = GridSearchCV(SVC(C=1), tuning_params, cv=5, scoring=f1)\n",
    "\n",
    "clf.fit(X_dev, y_dev)\n",
    "print clf.best_params_\n",
    "{'kernel': 'rbf', 'C': 1000, 'gamma': 1e-05}\n",
    "\n",
    "dauert viel zu lange hoert nie auf"
   ]
  },
  {
   "cell_type": "code",
   "execution_count": null,
   "metadata": {
    "collapsed": true
   },
   "outputs": [],
   "source": [
    "tuning_params = [ {'kernel': ['rbf'], 'gamma': [1e-2, 1e-3, 1e-4], 'C': [1,10,50,100] },\n",
    "                  {'kernel': ['linear'], 'C': [1,10,50,100]}]\n",
    "#normal scaled:\n",
    "\n",
    "X_scaled = preprocessing.scale(X_dev)\n",
    "\n",
    "clf3 = GridSearchCV(SVC(C=1), tuning_params, cv=5, scoring=f1, n_jobs=2)\n",
    "\n",
    "clf3.fit(X_scaled, y_dev)\n",
    "print clf3.best_params_"
   ]
  },
  {
   "cell_type": "code",
   "execution_count": null,
   "metadata": {
    "collapsed": true
   },
   "outputs": [],
   "source": [
    "X_rscaled = preprocessing.robust_scale(X_dev)\n",
    "\n",
    "clf4 = GridSearchCV(SVC(C=1), tuning_params, cv=5, scoring=f1, n_jobs=2)\n",
    "\n",
    "clf4.fit(X_rscaled, y_dev)\n",
    "print clf4.best_params_"
   ]
  },
  {
   "cell_type": "code",
   "execution_count": null,
   "metadata": {
    "collapsed": true
   },
   "outputs": [],
   "source": [
    "clf4.best_estimator_"
   ]
  },
  {
   "cell_type": "code",
   "execution_count": null,
   "metadata": {
    "collapsed": true
   },
   "outputs": [],
   "source": [
    "clf3.best_score_"
   ]
  },
  {
   "cell_type": "code",
   "execution_count": null,
   "metadata": {
    "collapsed": true
   },
   "outputs": [],
   "source": [
    "clf4.best_score_"
   ]
  },
  {
   "cell_type": "code",
   "execution_count": null,
   "metadata": {
    "collapsed": true
   },
   "outputs": [],
   "source": [
    "print \"hello\""
   ]
  },
  {
   "cell_type": "code",
   "execution_count": null,
   "metadata": {
    "collapsed": true
   },
   "outputs": [],
   "source": [
    "clf3.best_estimator_"
   ]
  },
  {
   "cell_type": "code",
   "execution_count": null,
   "metadata": {
    "collapsed": true
   },
   "outputs": [],
   "source": [
    "clf1 = GridSearchCV(SVC(C=1), tuning_params, cv=5, scoring=f1,  n_jobs=3)\n",
    "\n",
    "clf1.fit(X_dev, y_dev)\n",
    "print clf1.best_params_\n",
    "clf1.best_score_"
   ]
  },
  {
   "cell_type": "markdown",
   "metadata": {},
   "source": [
    "# wiki Dataset"
   ]
  },
  {
   "cell_type": "code",
   "execution_count": null,
   "metadata": {
    "collapsed": true
   },
   "outputs": [],
   "source": [
    "clf1 = GridSearchCV(SVC(C=1), tuning_params, cv=5, scoring=f1,  n_jobs=4)\n",
    "\n",
    "clf1.fit(X_w, y_w)\n",
    "print clf1.best_params_\n",
    "clf1.best_score_"
   ]
  },
  {
   "cell_type": "code",
   "execution_count": null,
   "metadata": {
    "collapsed": true
   },
   "outputs": [],
   "source": [
    "tuning_params = [ {'kernel': ['rbf'], 'gamma': [1e-2, 1e-3, 1e-4], 'C': [1,10,50,100] },\n",
    "                  {'kernel': ['linear'], 'C': [1,10,50,100]}]\n",
    "#normal scaled:\n",
    "\n",
    "Xw_scaled = preprocessing.scale(X_w)\n",
    "\n",
    "clf_wscaled = GridSearchCV(SVC(C=1), tuning_params, cv=5, scoring=f1, n_jobs=2)\n",
    "\n",
    "clf_wscaled.fit(Xw_scaled, y_w)\n",
    "print clf_wscaled.best_params_\n",
    "clf_wscaled.best_score_"
   ]
  },
  {
   "cell_type": "code",
   "execution_count": null,
   "metadata": {
    "collapsed": true
   },
   "outputs": [],
   "source": [
    "Xw_rscaled = preprocessing.robust_scale(X_dev)\n",
    "\n",
    "clf_wrscaled = GridSearchCV(SVC(C=1), tuning_params, cv=5, scoring=f1, n_jobs=2)\n",
    "\n",
    "clf_wrscaled.fit(Xw_rscaled, y_dev)\n",
    "print clf_wrscaled.best_params_"
   ]
  },
  {
   "cell_type": "code",
   "execution_count": null,
   "metadata": {
    "collapsed": true
   },
   "outputs": [],
   "source": [
    "clf_wrscaled.best_score_"
   ]
  },
  {
   "cell_type": "code",
   "execution_count": null,
   "metadata": {
    "collapsed": true
   },
   "outputs": [],
   "source": [
    "import time\n",
    "tuning_params = [ #{'kernel': ['rbf'], 'gamma': [1e-2, 1e-3, 1e-4], 'C': [220,250,280,300] },\n",
    "                  {'kernel': ['linear'], 'C': [210,217,222,225]}]\n",
    "#normal scaled:\n",
    "\n",
    "Xw_scaled = preprocessing.scale(X_w)\n",
    "\n",
    "clf_wscaled = GridSearchCV(SVC(C=1), tuning_params, cv=5, scoring=f1, n_jobs=2)\n",
    "\n",
    "print \"Starting to do grid search  \", time.ctime()\n",
    "\n",
    "clf_wscaled.fit(Xw_scaled, y_w)\n",
    "print \"Grid Search Done  \", time.ctime(), \"\\n\"\n",
    "\n",
    "print clf_wscaled.best_params_\n",
    "clf_wscaled.best_score_"
   ]
  },
  {
   "cell_type": "code",
   "execution_count": null,
   "metadata": {
    "collapsed": true
   },
   "outputs": [],
   "source": [
    "tuning_params = [ #{'kernel': ['rbf'], 'gamma': [1e-2, 1e-3, 1e-4], 'C': [220,250,280,300] },\n",
    "                  {'kernel': ['linear'], 'C': [210,217,222,225]}]\n",
    "#normal scaled:\n",
    "\n",
    "Xw_scaled = preprocessing.scale(X_w)\n",
    "\n",
    "clf_wscaled = GridSearchCV(SVC(C=1), tuning_params, cv=5, scoring=f1, n_jobs=2)\n",
    "\n",
    "print \"Starting to do grid search  \", time.ctime()\n",
    "\n",
    "clf_wscaled.fit(Xw_scaled, y_w)\n",
    "print \"Grid Search Done  \", time.ctime(), \"\\n\"\n",
    "\n",
    "print clf_wscaled.best_params_\n",
    "clf_wscaled.best_score_"
   ]
  },
  {
   "cell_type": "code",
   "execution_count": null,
   "metadata": {
    "collapsed": true
   },
   "outputs": [],
   "source": [
    "tuning_params = [ {'kernel': ['rbf'], 'gamma': [1e-2, 1e-3, 1e-4, 5e-4, 5e-5, 5e-1], 'C': [100, 200, 220,250,280,300] }\n",
    "                  \n",
    "                ]\n",
    "#normal scaled:\n",
    "\n",
    "Xw_scaled = preprocessing.scale(X_w)\n",
    "\n",
    "clf_wscaled = GridSearchCV(SVC(C=1), tuning_params, cv=5, scoring=f1, n_jobs=2)\n",
    "\n",
    "print \"Starting to do grid search  \", time.ctime()\n",
    "\n",
    "clf_wscaled.fit(Xw_scaled, y_w)\n",
    "print \"Grid Search Done  \", time.ctime(), \"\\n\"\n",
    "\n",
    "print clf_wscaled.best_params_\n",
    "clf_wscaled.best_score_"
   ]
  },
  {
   "cell_type": "code",
   "execution_count": null,
   "metadata": {
    "collapsed": true
   },
   "outputs": [],
   "source": [
    "tuning_params = [ {'kernel': ['rbf'], 'gamma': [1e-2, 1e-3, 1e-4, 5e-4, 5e-5, 5e-1], 'C': [100, 200, 220,250,280,300] }\n",
    "                  \n",
    "                ]\n",
    "#normal scaled:\n",
    "\n",
    "#Xw_scaled = preprocessing.scale(X_w)\n",
    "\n",
    "clf_w = GridSearchCV(SVC(C=1), tuning_params, cv=5, scoring=f1, n_jobs=2)\n",
    "\n",
    "print \"Starting to do grid search  \", time.ctime()\n",
    "\n",
    "clf_w.fit(X_w, y_w)\n",
    "print \"Grid Search Done  \", time.ctime(), \"\\n\"\n",
    "\n",
    "print clf_w.best_params_\n",
    "clf_w.best_score_"
   ]
  },
  {
   "cell_type": "code",
   "execution_count": null,
   "metadata": {
    "collapsed": true
   },
   "outputs": [],
   "source": []
  }
 ],
 "metadata": {
  "kernelspec": {
   "display_name": "Python 2",
   "language": "python",
   "name": "python2"
  },
  "language_info": {
   "codemirror_mode": {
    "name": "ipython",
    "version": 2
   },
   "file_extension": ".py",
   "mimetype": "text/x-python",
   "name": "python",
   "nbconvert_exporter": "python",
   "pygments_lexer": "ipython2",
   "version": "2.7.10"
  }
 },
 "nbformat": 4,
 "nbformat_minor": 2
}
