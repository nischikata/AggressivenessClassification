{
 "cells": [
  {
   "cell_type": "code",
   "execution_count": 13,
   "metadata": {},
   "outputs": [],
   "source": [
    "%matplotlib inline\n",
    "import matplotlib.pyplot as plt\n",
    "from Utils.univariate_featureSelection import featureSelectionResults, get_selectedFeatures\n",
    "from Utils.setupDataset import get_dataset\n",
    "from Utils.feature_vector import get_feature_names\n",
    "import numpy as np\n",
    "from sklearn.model_selection import GridSearchCV\n",
    "from sklearn.metrics import classification_report\n",
    "from sklearn.svm import SVC\n",
    "from sklearn.metrics import f1_score, make_scorer\n",
    "from sklearn import metrics as skmetrics\n",
    "from Utils.selection_metrics import SelectionMetrics\n",
    "import pandas as pd\n",
    "from Utils.lasso_selections import get_LassoSelectionResults\n",
    "from Utils.univariate_featureSelection import get_metrics, get_selectedFeatures\n",
    "from sklearn import preprocessing\n",
    "\n",
    "fnames = get_feature_names()\n",
    "\n",
    "m_dev = get_dataset(\"Datasets/M_DEV_dataset.pickle\")\n",
    "w_dev = get_dataset(\"Datasets/W_DEV_dataset.pickle\")\n",
    "m_val = get_dataset(\"Datasets/M_VAL_dataset.pickle\")\n",
    "w_val = get_dataset(\"Datasets/W_VAL_dataset.pickle\")\n",
    "\n",
    "m_filename = 'Datasets/M_SELECTIONS_univariate.csv'\n",
    "w_filename = 'Datasets/W_SELECTIONS_univariate.csv'\n",
    "\n",
    "\n",
    "m_rfe = 'Datasets/M_SELECTIONS_RFE.csv'\n",
    "w_rfe = 'Datasets/W_SELECTIONS_RFE.csv'\n",
    "\n",
    "m_sel_lasso = \"Datasets/M_SELECTIONS_lasso.pickle\"\n",
    "w_sel_lasso = \"Datasets/W_SELECTIONS_lasso.pickle\"\n",
    "\n",
    "\n",
    "# 1. load data (DEV set)\n",
    "X_dev = m_dev[\"data\"]\n",
    "y_dev = m_dev[\"target\"]\n",
    "\n",
    "X_w = w_dev[\"data\"]\n",
    "y_w = w_dev[\"target\"]\n",
    "\n",
    "# apply feature selection\n",
    "\n",
    "\n",
    "# 2. scale data (TODO)\n",
    "\n",
    "# make scorer:\n",
    "f1 = make_scorer(f1_score)\n"
   ]
  },
  {
   "cell_type": "code",
   "execution_count": null,
   "metadata": {
    "collapsed": true
   },
   "outputs": [],
   "source": [
    "# # set the parameters by cross validation\n",
    "tuning_params = [ {'kernel': ['rbf'], 'gamma': [1e-3, 1e-4], 'C': [1,10,100,1000] },\n",
    "                  {'kernel': ['linear'], 'C': [1,10,100,1000]}]\n",
    "                  \n",
    "clf = GridSearchCV(SVC(C=1), tuning_params, cv=5, scoring=f1)\n",
    "\n",
    "clf.fit(X_dev, y_dev)\n",
    "print clf.best_params_"
   ]
  },
  {
   "cell_type": "code",
   "execution_count": 6,
   "metadata": {},
   "outputs": [
    {
     "data": {
      "text/plain": [
       "{'C': 10, 'kernel': 'linear'}"
      ]
     },
     "execution_count": 6,
     "metadata": {},
     "output_type": "execute_result"
    }
   ],
   "source": [
    "clf.best_params_"
   ]
  },
  {
   "cell_type": "code",
   "execution_count": 7,
   "metadata": {},
   "outputs": [
    {
     "data": {
      "text/plain": [
       "0.8101222678804082"
      ]
     },
     "execution_count": 7,
     "metadata": {},
     "output_type": "execute_result"
    }
   ],
   "source": [
    "clf.best_score_"
   ]
  },
  {
   "cell_type": "code",
   "execution_count": 8,
   "metadata": {},
   "outputs": [
    {
     "data": {
      "text/plain": [
       "{'mean_fit_time': array([  2.88379669e-02,   2.71453857e-02,   2.70099640e-02,\n",
       "          2.59660721e-02,   4.01561737e-02,   2.63332367e-02,\n",
       "          9.73181725e-02,   5.82462311e-02,   7.04949999e-01,\n",
       "          1.03902125e+01,   9.98153942e+01,   3.48068316e+02]),\n",
       " 'mean_score_time': array([ 0.00652723,  0.00601535,  0.00569983,  0.00557299,  0.00472078,\n",
       "         0.00484481,  0.00445523,  0.00466819,  0.00339499,  0.002988  ,\n",
       "         0.0029254 ,  0.00264902]),\n",
       " 'mean_test_score': array([ 0.68191293,  0.68471137,  0.74166569,  0.73303257,  0.73033727,\n",
       "         0.77865515,  0.72164786,  0.78541707,  0.7992739 ,  0.81012227,\n",
       "         0.8073397 ,  0.79275415]),\n",
       " 'mean_train_score': array([ 0.73387596,  0.69442361,  0.84000534,  0.76215822,  0.93346742,\n",
       "         0.8288631 ,  0.98733711,  0.8606928 ,  0.84574173,  0.86430741,\n",
       "         0.87163659,  0.85755839]),\n",
       " 'param_C': masked_array(data = [1 1 10 10 100 100 1000 1000 1 10 100 1000],\n",
       "              mask = [False False False False False False False False False False False False],\n",
       "        fill_value = ?),\n",
       " 'param_gamma': masked_array(data = [0.001 0.0001 0.001 0.0001 0.001 0.0001 0.001 0.0001 -- -- -- --],\n",
       "              mask = [False False False False False False False False  True  True  True  True],\n",
       "        fill_value = ?),\n",
       " 'param_kernel': masked_array(data = ['rbf' 'rbf' 'rbf' 'rbf' 'rbf' 'rbf' 'rbf' 'rbf' 'linear' 'linear' 'linear'\n",
       "  'linear'],\n",
       "              mask = [False False False False False False False False False False False False],\n",
       "        fill_value = ?),\n",
       " 'params': ({'C': 1, 'gamma': 0.001, 'kernel': 'rbf'},\n",
       "  {'C': 1, 'gamma': 0.0001, 'kernel': 'rbf'},\n",
       "  {'C': 10, 'gamma': 0.001, 'kernel': 'rbf'},\n",
       "  {'C': 10, 'gamma': 0.0001, 'kernel': 'rbf'},\n",
       "  {'C': 100, 'gamma': 0.001, 'kernel': 'rbf'},\n",
       "  {'C': 100, 'gamma': 0.0001, 'kernel': 'rbf'},\n",
       "  {'C': 1000, 'gamma': 0.001, 'kernel': 'rbf'},\n",
       "  {'C': 1000, 'gamma': 0.0001, 'kernel': 'rbf'},\n",
       "  {'C': 1, 'kernel': 'linear'},\n",
       "  {'C': 10, 'kernel': 'linear'},\n",
       "  {'C': 100, 'kernel': 'linear'},\n",
       "  {'C': 1000, 'kernel': 'linear'}),\n",
       " 'rank_test_score': array([12, 11,  7,  8,  9,  6, 10,  5,  3,  1,  2,  4], dtype=int32),\n",
       " 'split0_test_score': array([ 0.57931034,  0.60810811,  0.70588235,  0.67515924,  0.74025974,\n",
       "         0.78205128,  0.71604938,  0.79487179,  0.79738562,  0.80794702,\n",
       "         0.80263158,  0.80263158]),\n",
       " 'split0_train_score': array([ 0.72512648,  0.69736842,  0.84193548,  0.76038339,  0.93030794,\n",
       "         0.84019769,  0.99022801,  0.86319218,  0.8538961 ,  0.85385878,\n",
       "         0.87562189,  0.86333333]),\n",
       " 'split1_test_score': array([ 0.67088608,  0.65408805,  0.72483221,  0.72289157,  0.70063694,\n",
       "         0.81290323,  0.7125    ,  0.75816993,  0.8       ,  0.8       ,\n",
       "         0.8       ,  0.83221477]),\n",
       " 'split1_train_score': array([ 0.73021002,  0.70607029,  0.8319739 ,  0.75692308,  0.93870968,\n",
       "         0.8195122 ,  0.9821718 ,  0.86885246,  0.84729064,  0.86138614,\n",
       "         0.86235489,  0.83360791]),\n",
       " 'split2_test_score': array([ 0.70886076,  0.72049689,  0.74324324,  0.74390244,  0.72483221,\n",
       "         0.74829932,  0.73333333,  0.76470588,  0.7972028 ,  0.81944444,\n",
       "         0.82191781,  0.75      ]),\n",
       " 'split2_train_score': array([ 0.73617694,  0.68899522,  0.83849918,  0.76407915,  0.93964111,\n",
       "         0.83386581,  0.99025974,  0.85807504,  0.83774834,  0.85526316,\n",
       "         0.85809683,  0.84717608]),\n",
       " 'split3_test_score': array([ 0.69620253,  0.69135802,  0.77027027,  0.72611465,  0.75862069,\n",
       "         0.75      ,  0.73972603,  0.79166667,  0.79166667,  0.80272109,\n",
       "         0.79166667,  0.76595745]),\n",
       " 'split3_train_score': array([ 0.73700787,  0.69316375,  0.84109149,  0.77230769,  0.93485342,\n",
       "         0.82544861,  0.99350649,  0.85996705,  0.84349259,  0.87644152,\n",
       "         0.88669951,  0.87112561]),\n",
       " 'split4_test_score': array([ 0.75496689,  0.75      ,  0.76433121,  0.79746835,  0.72727273,\n",
       "         0.8       ,  0.70666667,  0.81761006,  0.81012658,  0.82051282,\n",
       "         0.82051282,  0.81290323]),\n",
       " 'split4_train_score': array([ 0.74085851,  0.68652038,  0.84652666,  0.75709779,  0.92382496,\n",
       "         0.82529118,  0.98051948,  0.85337727,  0.84628099,  0.87458746,\n",
       "         0.87540984,  0.87254902]),\n",
       " 'std_fit_time': array([  2.53843056e-03,   7.13103426e-04,   2.25397313e-03,\n",
       "          7.43359133e-04,   7.60314485e-04,   1.02680413e-03,\n",
       "          6.17981911e-03,   7.40361477e-03,   1.34812121e-01,\n",
       "          3.83434067e+00,   3.13065288e+01,   1.61283181e+02]),\n",
       " 'std_score_time': array([  7.81008776e-04,   1.06685790e-04,   7.77232814e-04,\n",
       "          1.25983987e-04,   1.70180409e-04,   1.47896301e-04,\n",
       "          2.33266603e-04,   4.51625067e-04,   8.43204779e-05,\n",
       "          5.35905570e-05,   1.41922952e-04,   7.06946105e-05]),\n",
       " 'std_test_score': array([ 0.05824461,  0.04982986,  0.02409467,  0.03945051,  0.01907093,\n",
       "         0.02599375,  0.01266491,  0.02160446,  0.00606331,  0.00844283,\n",
       "         0.01189088,  0.03033599]),\n",
       " 'std_train_score': array([ 0.00554711,  0.00689685,  0.00477923,  0.0057073 ,  0.00583911,\n",
       "         0.00728501,  0.00506203,  0.00517153,  0.00525617,  0.00951233,\n",
       "         0.01026145,  0.01499037])}"
      ]
     },
     "execution_count": 8,
     "metadata": {},
     "output_type": "execute_result"
    }
   ],
   "source": [
    "clf.cv_results_"
   ]
  },
  {
   "cell_type": "code",
   "execution_count": 9,
   "metadata": {},
   "outputs": [
    {
     "data": {
      "text/plain": [
       "SVC(C=10, cache_size=200, class_weight=None, coef0=0.0,\n",
       "  decision_function_shape=None, degree=3, gamma='auto', kernel='linear',\n",
       "  max_iter=-1, probability=False, random_state=None, shrinking=True,\n",
       "  tol=0.001, verbose=False)"
      ]
     },
     "execution_count": 9,
     "metadata": {},
     "output_type": "execute_result"
    }
   ],
   "source": [
    "clf.best_estimator_"
   ]
  },
  {
   "cell_type": "code",
   "execution_count": null,
   "metadata": {},
   "outputs": [],
   "source": [
    "#tuning_params = [ {'kernel': ['rbf'], 'gamma': [1e-5, 1e-6], 'C': [1,10,100,1000] },\n",
    "                  {'kernel': ['linear'], 'C': [10000,100000,1000000,10000]}]\n",
    "                  \n",
    "#clf = GridSearchCV(SVC(C=1), tuning_params, cv=5, scoring=f1)\n",
    "\n",
    "#clf.fit(X_dev, y_dev)\n",
    "#print clf.best_params_"
   ]
  },
  {
   "cell_type": "markdown",
   "metadata": {},
   "source": [
    "tuning_params = [ {'kernel': ['rbf'], 'gamma': [1e-5, 1e-6], 'C': [1,10,100,1000] },\n",
    "                  {'kernel': ['linear'], 'C': [10000,100000,1000000,10000]}]\n",
    "                  \n",
    "clf = GridSearchCV(SVC(C=1), tuning_params, cv=5, scoring=f1)\n",
    "\n",
    "clf.fit(X_dev, y_dev)\n",
    "print clf.best_params_\n",
    "{'kernel': 'rbf', 'C': 1000, 'gamma': 1e-05}\n",
    "\n",
    "dauert viel zu lange hoert nie auf"
   ]
  },
  {
   "cell_type": "code",
   "execution_count": 2,
   "metadata": {},
   "outputs": [
    {
     "name": "stdout",
     "output_type": "stream",
     "text": [
      "{'kernel': 'rbf', 'C': 100, 'gamma': 0.0001}\n"
     ]
    }
   ],
   "source": [
    "tuning_params = [ {'kernel': ['rbf'], 'gamma': [1e-2, 1e-3, 1e-4], 'C': [1,10,50,100] },\n",
    "                  {'kernel': ['linear'], 'C': [1,10,50,100]}]\n",
    "#normal scaled:\n",
    "\n",
    "X_scaled = preprocessing.scale(X_dev)\n",
    "\n",
    "clf3 = GridSearchCV(SVC(C=1), tuning_params, cv=5, scoring=f1, n_jobs=2)\n",
    "\n",
    "clf3.fit(X_scaled, y_dev)\n",
    "print clf3.best_params_"
   ]
  },
  {
   "cell_type": "code",
   "execution_count": 5,
   "metadata": {},
   "outputs": [
    {
     "name": "stdout",
     "output_type": "stream",
     "text": [
      "{'kernel': 'linear', 'C': 1}\n"
     ]
    }
   ],
   "source": [
    "X_rscaled = preprocessing.robust_scale(X_dev)\n",
    "\n",
    "clf4 = GridSearchCV(SVC(C=1), tuning_params, cv=5, scoring=f1, n_jobs=2)\n",
    "\n",
    "clf4.fit(X_rscaled, y_dev)\n",
    "print clf4.best_params_"
   ]
  },
  {
   "cell_type": "code",
   "execution_count": 9,
   "metadata": {},
   "outputs": [
    {
     "data": {
      "text/plain": [
       "SVC(C=1, cache_size=200, class_weight=None, coef0=0.0,\n",
       "  decision_function_shape=None, degree=3, gamma='auto', kernel='linear',\n",
       "  max_iter=-1, probability=False, random_state=None, shrinking=True,\n",
       "  tol=0.001, verbose=False)"
      ]
     },
     "execution_count": 9,
     "metadata": {},
     "output_type": "execute_result"
    }
   ],
   "source": [
    "clf4.best_estimator_"
   ]
  },
  {
   "cell_type": "code",
   "execution_count": 3,
   "metadata": {},
   "outputs": [
    {
     "data": {
      "text/plain": [
       "0.82465774992500396"
      ]
     },
     "execution_count": 3,
     "metadata": {},
     "output_type": "execute_result"
    }
   ],
   "source": [
    "clf3.best_score_"
   ]
  },
  {
   "cell_type": "code",
   "execution_count": 6,
   "metadata": {},
   "outputs": [
    {
     "data": {
      "text/plain": [
       "0.81560231719460974"
      ]
     },
     "execution_count": 6,
     "metadata": {},
     "output_type": "execute_result"
    }
   ],
   "source": [
    "clf4.best_score_"
   ]
  },
  {
   "cell_type": "code",
   "execution_count": null,
   "metadata": {
    "collapsed": true
   },
   "outputs": [],
   "source": [
    "print \"hello\""
   ]
  },
  {
   "cell_type": "code",
   "execution_count": 4,
   "metadata": {},
   "outputs": [
    {
     "data": {
      "text/plain": [
       "SVC(C=100, cache_size=200, class_weight=None, coef0=0.0,\n",
       "  decision_function_shape=None, degree=3, gamma=0.0001, kernel='rbf',\n",
       "  max_iter=-1, probability=False, random_state=None, shrinking=True,\n",
       "  tol=0.001, verbose=False)"
      ]
     },
     "execution_count": 4,
     "metadata": {},
     "output_type": "execute_result"
    }
   ],
   "source": [
    "clf3.best_estimator_"
   ]
  },
  {
   "cell_type": "code",
   "execution_count": 11,
   "metadata": {},
   "outputs": [
    {
     "name": "stdout",
     "output_type": "stream",
     "text": [
      "{'kernel': 'linear', 'C': 10}\n"
     ]
    },
    {
     "data": {
      "text/plain": [
       "0.8101222678804082"
      ]
     },
     "execution_count": 11,
     "metadata": {},
     "output_type": "execute_result"
    }
   ],
   "source": [
    "clf1 = GridSearchCV(SVC(C=1), tuning_params, cv=5, scoring=f1,  n_jobs=3)\n",
    "\n",
    "clf1.fit(X_dev, y_dev)\n",
    "print clf1.best_params_\n",
    "clf1.best_score_"
   ]
  },
  {
   "cell_type": "markdown",
   "metadata": {},
   "source": [
    "# wiki Dataset"
   ]
  },
  {
   "cell_type": "code",
   "execution_count": 14,
   "metadata": {},
   "outputs": [
    {
     "name": "stdout",
     "output_type": "stream",
     "text": [
      "{'kernel': 'linear', 'C': 10}\n"
     ]
    },
    {
     "data": {
      "text/plain": [
       "0.88176014576429962"
      ]
     },
     "execution_count": 14,
     "metadata": {},
     "output_type": "execute_result"
    }
   ],
   "source": [
    "clf1 = GridSearchCV(SVC(C=1), tuning_params, cv=5, scoring=f1,  n_jobs=4)\n",
    "\n",
    "clf1.fit(X_w, y_w)\n",
    "print clf1.best_params_\n",
    "clf1.best_score_"
   ]
  },
  {
   "cell_type": "code",
   "execution_count": 15,
   "metadata": {},
   "outputs": [
    {
     "name": "stdout",
     "output_type": "stream",
     "text": [
      "{'kernel': 'linear', 'C': 100}\n"
     ]
    },
    {
     "data": {
      "text/plain": [
       "0.88123935389277974"
      ]
     },
     "execution_count": 15,
     "metadata": {},
     "output_type": "execute_result"
    }
   ],
   "source": [
    "tuning_params = [ {'kernel': ['rbf'], 'gamma': [1e-2, 1e-3, 1e-4], 'C': [1,10,50,100] },\n",
    "                  {'kernel': ['linear'], 'C': [1,10,50,100]}]\n",
    "#normal scaled:\n",
    "\n",
    "Xw_scaled = preprocessing.scale(X_w)\n",
    "\n",
    "clf_wscaled = GridSearchCV(SVC(C=1), tuning_params, cv=5, scoring=f1, n_jobs=2)\n",
    "\n",
    "clf_wscaled.fit(Xw_scaled, y_w)\n",
    "print clf_wscaled.best_params_\n",
    "clf_wscaled.best_score_"
   ]
  },
  {
   "cell_type": "code",
   "execution_count": 16,
   "metadata": {},
   "outputs": [
    {
     "name": "stdout",
     "output_type": "stream",
     "text": [
      "{'kernel': 'linear', 'C': 1}\n"
     ]
    }
   ],
   "source": [
    "Xw_rscaled = preprocessing.robust_scale(X_dev)\n",
    "\n",
    "clf_wrscaled = GridSearchCV(SVC(C=1), tuning_params, cv=5, scoring=f1, n_jobs=2)\n",
    "\n",
    "clf_wrscaled.fit(Xw_rscaled, y_dev)\n",
    "print clf_wrscaled.best_params_"
   ]
  },
  {
   "cell_type": "code",
   "execution_count": 17,
   "metadata": {},
   "outputs": [
    {
     "data": {
      "text/plain": [
       "0.81560231719460974"
      ]
     },
     "execution_count": 17,
     "metadata": {},
     "output_type": "execute_result"
    }
   ],
   "source": [
    "clf_wrscaled.best_score_"
   ]
  },
  {
   "cell_type": "code",
   "execution_count": 19,
   "metadata": {},
   "outputs": [
    {
     "name": "stdout",
     "output_type": "stream",
     "text": [
      "Starting to do grid search   Thu May 18 14:43:48 2017\n",
      "Grid Search Done   Thu May 18 15:04:08 2017 \n",
      "\n",
      "{'kernel': 'linear', 'C': 220}\n"
     ]
    },
    {
     "data": {
      "text/plain": [
       "0.88219456650951977"
      ]
     },
     "execution_count": 19,
     "metadata": {},
     "output_type": "execute_result"
    }
   ],
   "source": [
    "import time\n",
    "tuning_params = [ #{'kernel': ['rbf'], 'gamma': [1e-2, 1e-3, 1e-4], 'C': [220,250,280,300] },\n",
    "                  {'kernel': ['linear'], 'C': [210,217,222,225]}]\n",
    "#normal scaled:\n",
    "\n",
    "Xw_scaled = preprocessing.scale(X_w)\n",
    "\n",
    "clf_wscaled = GridSearchCV(SVC(C=1), tuning_params, cv=5, scoring=f1, n_jobs=2)\n",
    "\n",
    "print \"Starting to do grid search  \", time.ctime()\n",
    "\n",
    "clf_wscaled.fit(Xw_scaled, y_w)\n",
    "print \"Grid Search Done  \", time.ctime(), \"\\n\"\n",
    "\n",
    "print clf_wscaled.best_params_\n",
    "clf_wscaled.best_score_"
   ]
  },
  {
   "cell_type": "code",
   "execution_count": 20,
   "metadata": {},
   "outputs": [
    {
     "name": "stdout",
     "output_type": "stream",
     "text": [
      "Starting to do grid search   Thu May 18 15:08:47 2017\n",
      "Grid Search Done   Thu May 18 15:24:28 2017 \n",
      "\n",
      "{'kernel': 'linear', 'C': 217}\n"
     ]
    },
    {
     "data": {
      "text/plain": [
       "0.88219456650951977"
      ]
     },
     "execution_count": 20,
     "metadata": {},
     "output_type": "execute_result"
    }
   ],
   "source": [
    "tuning_params = [ #{'kernel': ['rbf'], 'gamma': [1e-2, 1e-3, 1e-4], 'C': [220,250,280,300] },\n",
    "                  {'kernel': ['linear'], 'C': [210,217,222,225]}]\n",
    "#normal scaled:\n",
    "\n",
    "Xw_scaled = preprocessing.scale(X_w)\n",
    "\n",
    "clf_wscaled = GridSearchCV(SVC(C=1), tuning_params, cv=5, scoring=f1, n_jobs=2)\n",
    "\n",
    "print \"Starting to do grid search  \", time.ctime()\n",
    "\n",
    "clf_wscaled.fit(Xw_scaled, y_w)\n",
    "print \"Grid Search Done  \", time.ctime(), \"\\n\"\n",
    "\n",
    "print clf_wscaled.best_params_\n",
    "clf_wscaled.best_score_"
   ]
  },
  {
   "cell_type": "code",
   "execution_count": 21,
   "metadata": {},
   "outputs": [
    {
     "name": "stdout",
     "output_type": "stream",
     "text": [
      "Starting to do grid search   Thu May 18 15:27:12 2017\n",
      "Grid Search Done   Thu May 18 15:29:59 2017 \n",
      "\n",
      "{'kernel': 'rbf', 'C': 300, 'gamma': 0.0005}\n"
     ]
    },
    {
     "data": {
      "text/plain": [
       "0.88170460766801606"
      ]
     },
     "execution_count": 21,
     "metadata": {},
     "output_type": "execute_result"
    }
   ],
   "source": [
    "tuning_params = [ {'kernel': ['rbf'], 'gamma': [1e-2, 1e-3, 1e-4, 5e-4, 5e-5, 5e-1], 'C': [100, 200, 220,250,280,300] }\n",
    "                  \n",
    "                ]\n",
    "#normal scaled:\n",
    "\n",
    "Xw_scaled = preprocessing.scale(X_w)\n",
    "\n",
    "clf_wscaled = GridSearchCV(SVC(C=1), tuning_params, cv=5, scoring=f1, n_jobs=2)\n",
    "\n",
    "print \"Starting to do grid search  \", time.ctime()\n",
    "\n",
    "clf_wscaled.fit(Xw_scaled, y_w)\n",
    "print \"Grid Search Done  \", time.ctime(), \"\\n\"\n",
    "\n",
    "print clf_wscaled.best_params_\n",
    "clf_wscaled.best_score_"
   ]
  },
  {
   "cell_type": "code",
   "execution_count": 22,
   "metadata": {},
   "outputs": [
    {
     "name": "stdout",
     "output_type": "stream",
     "text": [
      "Starting to do grid search   Thu May 18 15:38:28 2017\n",
      "Grid Search Done   Thu May 18 15:42:16 2017 \n",
      "\n",
      "{'kernel': 'rbf', 'C': 300, 'gamma': 0.0001}\n"
     ]
    },
    {
     "data": {
      "text/plain": [
       "0.8624897609341371"
      ]
     },
     "execution_count": 22,
     "metadata": {},
     "output_type": "execute_result"
    }
   ],
   "source": [
    "tuning_params = [ {'kernel': ['rbf'], 'gamma': [1e-2, 1e-3, 1e-4, 5e-4, 5e-5, 5e-1], 'C': [100, 200, 220,250,280,300] }\n",
    "                  \n",
    "                ]\n",
    "#normal scaled:\n",
    "\n",
    "#Xw_scaled = preprocessing.scale(X_w)\n",
    "\n",
    "clf_w = GridSearchCV(SVC(C=1), tuning_params, cv=5, scoring=f1, n_jobs=2)\n",
    "\n",
    "print \"Starting to do grid search  \", time.ctime()\n",
    "\n",
    "clf_w.fit(X_w, y_w)\n",
    "print \"Grid Search Done  \", time.ctime(), \"\\n\"\n",
    "\n",
    "print clf_w.best_params_\n",
    "clf_w.best_score_"
   ]
  },
  {
   "cell_type": "code",
   "execution_count": null,
   "metadata": {
    "collapsed": true
   },
   "outputs": [],
   "source": []
  }
 ],
 "metadata": {
  "kernelspec": {
   "display_name": "Python 2",
   "language": "python",
   "name": "python2"
  },
  "language_info": {
   "codemirror_mode": {
    "name": "ipython",
    "version": 2
   },
   "file_extension": ".py",
   "mimetype": "text/x-python",
   "name": "python",
   "nbconvert_exporter": "python",
   "pygments_lexer": "ipython2",
   "version": "2.7.10"
  }
 },
 "nbformat": 4,
 "nbformat_minor": 2
}
