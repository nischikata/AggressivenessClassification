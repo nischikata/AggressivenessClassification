{
 "cells": [
  {
   "cell_type": "code",
   "execution_count": 80,
   "metadata": {},
   "outputs": [
    {
     "data": {
      "text/plain": [
       "array([ 0,  1,  2,  3,  4,  5,  6,  7,  8,  9, 11, 14, 17, 22, 23, 24, 25,\n",
       "       26, 27, 28, 29, 30, 33, 34, 35, 36, 37, 38, 39, 40, 41, 42, 44, 45,\n",
       "       46, 47, 48, 49, 50, 51, 52, 53, 54, 56, 58, 59, 61, 62, 63, 64, 66,\n",
       "       67])"
      ]
     },
     "execution_count": 80,
     "metadata": {},
     "output_type": "execute_result"
    }
   ],
   "source": [
    "from sklearn.feature_selection import RFE\n",
    "from sklearn.linear_model import LogisticRegression\n",
    "from sklearn.svm import SVR\n",
    "from feature_vector import get_feature_names\n",
    "from Utils.feature_ranking import load_rankSelections\n",
    "import pandas as pd\n",
    "import numpy as np\n",
    "\n",
    "\n",
    "\n",
    "from setupDataset import get_dataset, combine_datasets\n",
    "\n",
    "m_dataset = get_dataset(\"dataset.pickle\")\n",
    "w_dataset = get_dataset(\"wiki_dataset.pickle\")\n",
    "\n",
    "c_dataset = combine_datasets(m_dataset, w_dataset)\n",
    "\n",
    "X, y = m_dataset[\"data\"], m_dataset[\"target\"]\n",
    "#X, y = w_dataset[\"data\"], w_dataset[\"target\"]\n",
    "#X, y = c_dataset[\"data\"], c_dataset[\"target\"]\n",
    "\n",
    "estimator = LogisticRegression()\n",
    "selector = RFE(estimator, 52, step=1)\n",
    "selector = selector.fit(X, y)\n",
    "sel = selector.get_support(indices=True)\n",
    "sel"
   ]
  },
  {
   "cell_type": "code",
   "execution_count": 41,
   "metadata": {},
   "outputs": [
    {
     "data": {
      "text/plain": [
       "numpy.ndarray"
      ]
     },
     "execution_count": 41,
     "metadata": {},
     "output_type": "execute_result"
    }
   ],
   "source": [
    "type(sel)"
   ]
  },
  {
   "cell_type": "markdown",
   "metadata": {},
   "source": [
    "Ok, was ist zu tun, was will ich?\n",
    "Ich moechte gerne ein RFE-Feature Selection Ranking haben für alle Datensets, also genauso wie ich es bei den univariaten habe. von mir aus in einer separaten File, wichtig ist mir einfach die Reihung der Indices.\n",
    "\n",
    "Plan, zuerst einmal fuer das kleinste Datenset durchfuehren und dann fuer die beiden weiteren Sets ebenso.\n",
    "\n",
    "Wie also vorgehen?\n",
    "\n"
   ]
  },
  {
   "cell_type": "code",
   "execution_count": 83,
   "metadata": {},
   "outputs": [],
   "source": [
    "def getRFE_ranking(dataset, out):\n",
    "    X = dataset[\"data\"]\n",
    "    y = dataset[\"target\"]\n",
    "    \n",
    "    n = len(get_feature_names())+1\n",
    "    \n",
    "    first = getRFE_selection(X, y, 1)\n",
    "    RFE_ranks = [first[0]]\n",
    "   \n",
    "    for i in range(2, n):\n",
    "        sel = getRFE_selection(X,y,i)\n",
    "        diff = list(set(RFE_ranks).symmetric_difference(sel))\n",
    "        \n",
    "        for d in diff:\n",
    "            if d not in RFE_ranks:  # apparently the ranking is not always identical, prevents an index from being added twice     \n",
    "                RFE_ranks.append(d)\n",
    "        \n",
    "\n",
    "    RFE_ranks = np.array(RFE_ranks)\n",
    "    save_RFE_ranks(RFE_ranks, out)\n",
    "    \n",
    "    return RFE_ranks\n",
    "        \n",
    "\n",
    "def save_RFE_ranks(ranks, out):\n",
    "    col_label = [\"RFE\"]\n",
    "    df = pd.DataFrame(ranks, columns=col_label)\n",
    "    df.to_csv(out, sep='\\t')\n",
    "    \n",
    "\n",
    "def getRFE_selection(X, y, n):\n",
    "    estimator = LogisticRegression()\n",
    "    selector = RFE(estimator, n, step=1)\n",
    "    selector = selector.fit(X, y)\n",
    "    selection = selector.get_support(indices=True)\n",
    "    return selection.tolist()"
   ]
  },
  {
   "cell_type": "code",
   "execution_count": 94,
   "metadata": {},
   "outputs": [
    {
     "name": "stdout",
     "output_type": "stream",
     "text": [
      "hello\n"
     ]
    },
    {
     "data": {
      "text/plain": [
       "array([24, 56, 62, 61, 64, 59, 60, 23,  0, 33, 47, 28, 29, 32,  5,  4, 30,\n",
       "       40, 44, 52, 22, 67, 45, 15, 17, 35, 31, 66, 38,  7, 27,  6, 34, 58,\n",
       "       51,  3, 50, 53,  2, 49, 11, 54, 55, 36, 57,  9,  1, 16, 42, 10, 14,\n",
       "       39, 37, 46, 26, 41, 48, 65, 19, 21, 18,  8, 13, 25, 12, 43, 20, 63])"
      ]
     },
     "execution_count": 94,
     "metadata": {},
     "output_type": "execute_result"
    }
   ],
   "source": [
    "m_RFE = getRFE_ranking(c_dataset, 'c_RFE_ranks.csv')\n",
    "print \"hello\"\n",
    "m_RFE"
   ]
  },
  {
   "cell_type": "code",
   "execution_count": 96,
   "metadata": {},
   "outputs": [
    {
     "data": {
      "text/plain": [
       "array([[ 1,  1, 43, 60,  1, 24],\n",
       "       [43, 43, 10,  1, 10, 56],\n",
       "       [40, 10,  1, 56, 43, 62],\n",
       "       [10, 26, 18, 10, 40, 61],\n",
       "       [59, 11, 20, 59, 56, 64],\n",
       "       [11, 35, 19, 24, 19, 59],\n",
       "       [26, 12, 40, 12, 20, 60],\n",
       "       [35, 59, 34, 61, 18, 23],\n",
       "       [56, 19,  8, 43, 12,  0],\n",
       "       [24, 62, 16, 19, 59, 33],\n",
       "       [60, 24,  3, 20, 26, 47],\n",
       "       [62, 20, 56, 40, 61, 28],\n",
       "       [ 0, 18, 46, 62, 60, 29],\n",
       "       [61, 60,  2, 46, 24, 32],\n",
       "       [ 2, 40,  7, 26, 62,  5],\n",
       "       [12, 56, 47, 11, 11,  4],\n",
       "       [18,  2, 54, 18, 34, 30],\n",
       "       [34, 52, 21, 23, 35, 40],\n",
       "       [19, 23, 42, 34,  0, 44],\n",
       "       [20, 61,  0, 45, 46, 52],\n",
       "       [46,  9, 12, 35, 52, 22],\n",
       "       [53,  0, 53, 64,  3, 67],\n",
       "       [58, 21, 38, 16, 47, 45],\n",
       "       [52, 55, 61, 52,  2, 15],\n",
       "       [54, 51, 36, 66, 16, 17],\n",
       "       [47, 13, 55, 51, 54, 35],\n",
       "       [42, 33, 66, 58,  8, 31],\n",
       "       [ 3, 50, 45, 33, 23, 66],\n",
       "       [23, 48,  9, 13,  7, 38],\n",
       "       [ 4, 32, 17, 31,  9,  7],\n",
       "       [63, 31, 41,  8, 42, 27],\n",
       "       [55, 47, 52, 22, 53,  6],\n",
       "       [38,  7, 39,  3, 45, 34],\n",
       "       [49,  3, 48, 47, 21, 58],\n",
       "       [66,  4, 44,  0, 55, 51],\n",
       "       [ 8,  6, 15, 32, 66,  3],\n",
       "       [16,  5, 49, 54, 33, 50],\n",
       "       [ 9, 63, 26, 37, 58, 53],\n",
       "       [13, 53, 50, 17, 13,  2],\n",
       "       [ 7, 34, 57,  6, 48, 49],\n",
       "       [48, 42, 60,  7, 38, 11],\n",
       "       [17, 16,  5,  9, 50, 54],\n",
       "       [45, 46, 59, 21,  4, 55],\n",
       "       [36, 54, 37, 36, 63, 36],\n",
       "       [33, 49, 24, 38, 17, 57],\n",
       "       [32, 45,  4, 42, 49,  9],\n",
       "       [ 5, 39, 33, 50, 32,  1],\n",
       "       [50,  8, 62, 63, 36, 16],\n",
       "       [57, 44, 28, 14, 51, 42],\n",
       "       [44, 58, 63, 25, 31, 10],\n",
       "       [41, 28, 58, 53,  5, 14],\n",
       "       [28, 27, 25,  4, 37, 39],\n",
       "       [39, 37, 35, 49, 44, 37],\n",
       "       [37, 66, 29,  5, 39, 46],\n",
       "       [21, 57, 30, 48,  6, 26],\n",
       "       [31, 29, 11, 29, 41, 41],\n",
       "       [ 6, 41, 27, 55, 57, 48],\n",
       "       [29, 17, 13, 27, 64, 65],\n",
       "       [30, 38, 23, 15, 28, 19],\n",
       "       [27, 22, 32, 44, 22, 21],\n",
       "       [15, 36, 51, 57, 15, 18],\n",
       "       [22, 30, 31, 41, 29,  8],\n",
       "       [25, 64, 67, 39, 27, 13],\n",
       "       [51, 25, 22, 28, 25, 25],\n",
       "       [64, 15, 64, 30, 30, 12],\n",
       "       [14, 14, 14,  2, 14, 43],\n",
       "       [67, 67,  6, 65, 67, 20],\n",
       "       [65, 65, 65, 67, 65, 63]])"
      ]
     },
     "execution_count": 96,
     "metadata": {},
     "output_type": "execute_result"
    }
   ],
   "source": [
    "r = load_rankSelections('c_RFE_ranks.csv')\n",
    "r2 = load_rankSelections('rankSelections_myDataset.csv')\n",
    "np.concatenate((r2, r), axis=1)"
   ]
  },
  {
   "cell_type": "code",
   "execution_count": 34,
   "metadata": {},
   "outputs": [
    {
     "data": {
      "text/plain": [
       "[58, 60, 63, 65, 66]"
      ]
     },
     "execution_count": 34,
     "metadata": {},
     "output_type": "execute_result"
    }
   ],
   "source": [
    "list(set(range(0,68)).symmetric_difference(m_RFE))"
   ]
  },
  {
   "cell_type": "code",
   "execution_count": null,
   "metadata": {
    "collapsed": true
   },
   "outputs": [],
   "source": []
  }
 ],
 "metadata": {
  "kernelspec": {
   "display_name": "Python 2",
   "language": "python",
   "name": "python2"
  },
  "language_info": {
   "codemirror_mode": {
    "name": "ipython",
    "version": 2
   },
   "file_extension": ".py",
   "mimetype": "text/x-python",
   "name": "python",
   "nbconvert_exporter": "python",
   "pygments_lexer": "ipython2",
   "version": "2.7.10"
  }
 },
 "nbformat": 4,
 "nbformat_minor": 2
}
