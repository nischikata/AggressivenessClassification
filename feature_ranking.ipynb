{
 "cells": [
  {
   "cell_type": "code",
   "execution_count": 39,
   "metadata": {
    "collapsed": true
   },
   "outputs": [],
   "source": [
    "%matplotlib inline\n",
    "from __future__ import division\n",
    "import matplotlib.pyplot as plt\n",
    "from sklearn.feature_selection import chi2, f_classif, mutual_info_classif\n",
    "import numpy as np\n",
    "import pandas as pd\n",
    "import scipy\n",
    "from scipy import stats\n",
    "from setupDataset import get_dataset\n",
    "from feature_vector import get_feature_names\n",
    "\n"
   ]
  },
  {
   "cell_type": "code",
   "execution_count": 40,
   "metadata": {
    "collapsed": true
   },
   "outputs": [],
   "source": [
    "fnames = get_feature_names()"
   ]
  },
  {
   "cell_type": "code",
   "execution_count": 41,
   "metadata": {},
   "outputs": [
    {
     "data": {
      "text/plain": [
       "68"
      ]
     },
     "execution_count": 41,
     "metadata": {},
     "output_type": "execute_result"
    }
   ],
   "source": [
    "len(fnames)"
   ]
  },
  {
   "cell_type": "markdown",
   "metadata": {},
   "source": [
    "# f-test, chi2, mutual information\n",
    "Input: X, y  (X... die feature vectors in einem array; y... das Target passend zu X)\n",
    "\n",
    "<hr>\n",
    "per Feature:\n",
    "# Wilcoxon T-Test\n",
    "Input: good, bad (sprich pro Array die Samples einer Kategorie)\n",
    "\n",
    "# Correlation Coefficient\n",
    "Input: feature, target (ergo: alle Samples einer Feature Spalte, das zugehörige Target)"
   ]
  },
  {
   "cell_type": "code",
   "execution_count": 46,
   "metadata": {},
   "outputs": [],
   "source": [
    "def compute_scores(dataset, out):\n",
    "\n",
    "    X = dataset[\"data\"]\n",
    "    y = dataset[\"target\"]\n",
    "    \n",
    "    f_test_scores, _ = f_classif(X, y)\n",
    "    mi = mutual_info_classif(X, y)   \n",
    "    chi_scores, _ = chi2(X, y)\n",
    "\n",
    "    \n",
    "    data = []\n",
    "    \n",
    "    for i in range(len(fnames)):\n",
    "        \n",
    "        indices_good = np.where(y == 1)[0]\n",
    "        indices_bad = np.where(y == 0)[0]\n",
    "        good = X[:, i][indices_good]\n",
    "        bad  = X[:, i][indices_bad]\n",
    "        ranksum, _ = stats.ranksums(good, bad) # wilcoxon\n",
    "        \n",
    "        data.append([i, abs(f_test_scores[i]), abs(ranksum), abs(chi_scores[i]), abs(mi[i])])\n",
    "\n",
    "    \n",
    "    row_label = fnames\n",
    "    #print data\n",
    "    col_label = [\"index\", \"f\", \"ranksum\", \"chi\", \"mi\"]\n",
    "    data = np.array(data)\n",
    "    df = pd.DataFrame(data, index=row_label, columns=col_label)\n",
    "    df.to_csv(out, sep='\\t')\n",
    "    \n",
    "    return data\n",
    "\n",
    "def getTopFeatures(data):\n",
    "    ranks = np.zeros(shape=(len(data), len(data[0])+1))\n",
    "    ranks[:,0] = data[:,0]\n",
    "\n",
    "    \n",
    "    rankrange = np.arange(1, len(data)+1) # [1,2,3,....67,68]\n",
    "    sums = np.zeros(len(data)) # for the summation of ranks per score\n",
    "    \n",
    "    for i in range(1,5):\n",
    "        ranks = ranks[data[:,i].argsort()[::-1]] #sort descending by column idx i (e.g. fscore)\n",
    "\n",
    "        temp_ranks = ranks[:,0] # feature indices sorted by best first for current idx i\n",
    "        sums += rankrange[ranks[:,0].argsort()]\n",
    "        ranks = ranks[ranks[:,0].argsort()] # bring back into order by indices\n",
    "        ranks[:,i] = temp_ranks # remember feature indices sorted by best first for current idx i\n",
    "        \n",
    "    ranks[:,-1]  = sums \n",
    "    \n",
    "    ranks = ranks[ranks[:,-1].argsort()] # sort by summations of ranks\n",
    "    temp_ranks = ranks[:,0]\n",
    "    ranks = ranks[ranks[:,0].argsort()] # sort again by indices\n",
    "    ranks[:,-1]  = temp_ranks\n",
    "    \n",
    "    return ranks \n",
    "    \n",
    "        \n",
    "dataset = get_dataset(\"dataset.pickle\")   \n",
    "scores = compute_scores(dataset, 'scores-dataset09indices.csv')\n",
    "\n",
    "ranks = getTopFeatures(scores)\n",
    "\n",
    "# usage\n",
    "best30_features_fscore = ranks[:,1][:30]\n",
    "best30_features_ranksum = ranks[:,2][:30]\n",
    "best30_features_chi = ranks[:,3][:30]\n",
    "best30_features_mi = ranks[:,4][:30]\n",
    "best30_features_allscores = ranks[:,-1][:30]\n"
   ]
  },
  {
   "cell_type": "markdown",
   "metadata": {
    "collapsed": true
   },
   "source": [
    " UserWarning: Features [25] are constant.\n",
    " Bedeutet dass Feature mit index 25 (m-dash count) konstant ist und daher unbrauchbar. "
   ]
  }
 ],
 "metadata": {
  "kernelspec": {
   "display_name": "Python 2",
   "language": "python",
   "name": "python2"
  },
  "language_info": {
   "codemirror_mode": {
    "name": "ipython",
    "version": 2
   },
   "file_extension": ".py",
   "mimetype": "text/x-python",
   "name": "python",
   "nbconvert_exporter": "python",
   "pygments_lexer": "ipython2",
   "version": "2.7.10"
  }
 },
 "nbformat": 4,
 "nbformat_minor": 2
}
