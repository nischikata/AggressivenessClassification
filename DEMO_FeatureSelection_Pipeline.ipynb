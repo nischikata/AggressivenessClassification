{
 "cells": [
  {
   "cell_type": "code",
   "execution_count": null,
   "metadata": {},
   "outputs": [],
   "source": [
    "from Utils.split_dataset import save_devSet_valSet, scale_sets\n",
    "from Utils.setupDataset import get_dataset, save, load\n",
    "from Utils.feature_ranking import getRFE_ranking, getTopFeatures\n",
    "from Utils.univariate_featureSelection import single_selection\n",
    "from Utils.lasso_selections import get_LassoSelections\n",
    "import numpy as np\n",
    "\n",
    "m_dev_file  = \"Datasets/M_DEV_dataset.pickle\"\n",
    "m_val_file  = \"Datasets/M_VAL_dataset.pickle\"\n",
    "m_sel_univ  = \"Datasets/M_SELECTIONS_univariate.csv\"\n",
    "m_sel_RFE   = \"Datasets/M_SELECTIONS_RFE.csv\"\n",
    "m_sel_lasso = \"Datasets/M_SELECTIONS_lasso.pickle\"\n",
    "\n",
    "w_dev_file  = \"Datasets/W_DEV_dataset.pickle\"\n",
    "w_val_file  = \"Datasets/W_VAL_dataset.pickle\"\n",
    "w_sel_univ  = \"Datasets/W_SELECTIONS_univariate.csv\"\n",
    "w_sel_RFE   = \"Datasets/W_SELECTIONS_RFE.csv\"\n",
    "w_sel_lasso = \"Datasets/W_SELECTIONS_lasso.pickle\"\n"
   ]
  },
  {
   "cell_type": "markdown",
   "metadata": {},
   "source": [
    "# The Feature Selection Pipeline\n",
    "This Notebook shows the steps from the Datasets to the respective Feature Selections<br>\n",
    "Subsequently the results for these selections are computed, first using Logistic Regression, then SVM"
   ]
  },
  {
   "cell_type": "markdown",
   "metadata": {},
   "source": [
    "## step 1: Split the Datasets into Validation and Dev set"
   ]
  },
  {
   "cell_type": "code",
   "execution_count": 2,
   "metadata": {
    "collapsed": true
   },
   "outputs": [],
   "source": [
    "#save_devSet_valSet(\"Datasets/dataset.pickle\", m_dev_file, m_val_file)\n",
    "#save_devSet_valSet(\"Datasets/wiki_dataset.pickle\", w_dev_file, w_val_file)"
   ]
  },
  {
   "cell_type": "code",
   "execution_count": 3,
   "metadata": {
    "collapsed": true
   },
   "outputs": [],
   "source": [
    "m_devSet = get_dataset(m_dev_file)\n",
    "w_devSet = get_dataset(w_dev_file)\n",
    "\n",
    "m_val = get_dataset(m_val_file)\n",
    "w_val = get_dataset(w_val_file)"
   ]
  },
  {
   "cell_type": "markdown",
   "metadata": {},
   "source": [
    " ## step 2: Compute the Feature Selections"
   ]
  },
  {
   "cell_type": "markdown",
   "metadata": {},
   "source": [
    "### Univariate"
   ]
  },
  {
   "cell_type": "code",
   "execution_count": 4,
   "metadata": {
    "collapsed": true
   },
   "outputs": [],
   "source": [
    "M_RANKS = getTopFeatures(m_devSet, m_sel_univ)\n",
    "W_RANKS = getTopFeatures(w_devSet, w_sel_univ)"
   ]
  },
  {
   "cell_type": "markdown",
   "metadata": {},
   "source": [
    "### RFE"
   ]
  },
  {
   "cell_type": "code",
   "execution_count": 5,
   "metadata": {
    "collapsed": true
   },
   "outputs": [],
   "source": [
    "M_RFE = getRFE_ranking(m_devSet, m_sel_RFE)\n",
    "W_RFE = getRFE_ranking(w_devSet, w_sel_RFE)"
   ]
  },
  {
   "cell_type": "markdown",
   "metadata": {
    "collapsed": true
   },
   "source": [
    "### Lasso"
   ]
  },
  {
   "cell_type": "code",
   "execution_count": null,
   "metadata": {},
   "outputs": [],
   "source": [
    "M_LASSO = get_LassoSelections(m_devSet, out=m_sel_lasso)\n",
    "w_LASSO = get_LassoSelections(w_devSet, out=w_sel_lasso)"
   ]
  },
  {
   "cell_type": "markdown",
   "metadata": {},
   "source": [
    "## step 3: compute the Results (Logistic Regression)\n",
    "*(don't mind the warning, it will still work)*"
   ]
  },
  {
   "cell_type": "code",
   "execution_count": null,
   "metadata": {},
   "outputs": [],
   "source": [
    "from Utils.stepwise_selection_LR import get_LR_featureSelectionResults\n",
    "M_Results = get_LR_featureSelectionResults(m_devSet, m_val, m_sel_univ, m_sel_RFE, m_sel_lasso, out=\"Datasets/my_MODEL_LR_results.csv\")"
   ]
  },
  {
   "cell_type": "markdown",
   "metadata": {},
   "source": [
    "### Show top 5 Results"
   ]
  },
  {
   "cell_type": "code",
   "execution_count": null,
   "metadata": {},
   "outputs": [],
   "source": [
    "M_Results[:5]"
   ]
  },
  {
   "cell_type": "markdown",
   "metadata": {},
   "source": [
    "### Plot Results"
   ]
  },
  {
   "cell_type": "code",
   "execution_count": null,
   "metadata": {},
   "outputs": [],
   "source": [
    "from Utils.plot_results import plot_results\n",
    "plot_results(M_Results, score=\"f1\", title=\"Feature Selection Results, Logistic Regression\")"
   ]
  },
  {
   "cell_type": "markdown",
   "metadata": {},
   "source": [
    "## Support Vector Machines (SVM) Hyperparameter Tuning and Results\n",
    "This may take a loooong while..."
   ]
  },
  {
   "cell_type": "code",
   "execution_count": null,
   "metadata": {
    "collapsed": true
   },
   "outputs": [],
   "source": [
    "from Utils.stepwise_selection_SVM import featureSelectionResults_SVM\n",
    "M_SVM = featureSelectionResults_SVM(m_devSet, m_val, m_sel_univ, m_sel_RFE, m_sel_lasso, \"Datasets/my_MODEL_SVM_results.csv\", rfb_kernel=True)\n",
    "\n",
    "plot_results(M_SVM, score=\"f1\", title=\"Feature Selection Results, SVM\")\n",
    "M_SVM[:5]"
   ]
  },
  {
   "cell_type": "markdown",
   "metadata": {},
   "source": [
    "#### HINT: Check out the * 'DEMO_plotResults'  Notebook * to see the already computed results"
   ]
  }
 ],
 "metadata": {
  "kernelspec": {
   "display_name": "Python 2",
   "language": "python",
   "name": "python2"
  },
  "language_info": {
   "codemirror_mode": {
    "name": "ipython",
    "version": 2
   },
   "file_extension": ".py",
   "mimetype": "text/x-python",
   "name": "python",
   "nbconvert_exporter": "python",
   "pygments_lexer": "ipython2",
   "version": "2.7.10"
  }
 },
 "nbformat": 4,
 "nbformat_minor": 2
}
