{
 "cells": [
  {
   "cell_type": "code",
   "execution_count": 1,
   "metadata": {
    "collapsed": true
   },
   "outputs": [],
   "source": [
    "from Utils.imperative_demo import demo"
   ]
  },
  {
   "cell_type": "markdown",
   "metadata": {},
   "source": [
    "# Imperative Sentence Demo\n",
    "A demo for single sentences. *Note: No text normalization is applied for the Demo!*"
   ]
  },
  {
   "cell_type": "code",
   "execution_count": 2,
   "metadata": {},
   "outputs": [
    {
     "name": "stdout",
     "output_type": "stream",
     "text": [
      "\n",
      "----------------------------------------------------------------------------------\n",
      "INPUT SENTENCE: \n",
      "  Please shut the door. \n",
      "  [(u'Please', u'VB'), (u'shut', u'VB'), (u'the', u'DT'), (u'door', u'NN'), (u'.', u'.')] \n",
      "\n",
      " Imperative? ->  True   polite? ->  True   indirect? ->  False   strength:  0\n",
      "\n",
      "----------------------------------------------------------------------------------\n"
     ]
    },
    {
     "data": {
      "text/plain": [
       "{'imperative': True, 'indirect': False, 'polite': True, 'strength': 0}"
      ]
     },
     "execution_count": 2,
     "metadata": {},
     "output_type": "execute_result"
    }
   ],
   "source": [
    "demo(\"Please shut the door.\")"
   ]
  },
  {
   "cell_type": "code",
   "execution_count": 3,
   "metadata": {},
   "outputs": [
    {
     "name": "stdout",
     "output_type": "stream",
     "text": [
      "\n",
      "----------------------------------------------------------------------------------\n",
      "INPUT SENTENCE: \n",
      "  You be quiet now!!!! \n",
      "  [(u'You', u'PRP'), (u'be', u'VB'), (u'quiet', u'JJ'), (u'now', u'RB'), (u'!', u'.'), (u'!', u'.'), (u'!', u'.'), (u'!', u'.')] \n",
      "\n",
      " Imperative? ->  True   polite? ->  False   indirect? ->  False   strength:  7\n",
      "\n",
      "----------------------------------------------------------------------------------\n"
     ]
    },
    {
     "data": {
      "text/plain": [
       "{'imperative': True, 'indirect': False, 'polite': False, 'strength': 7}"
      ]
     },
     "execution_count": 3,
     "metadata": {},
     "output_type": "execute_result"
    }
   ],
   "source": [
    "demo(\"You be quiet now!!!!\")"
   ]
  }
 ],
 "metadata": {
  "kernelspec": {
   "display_name": "Python 2",
   "language": "python",
   "name": "python2"
  },
  "language_info": {
   "codemirror_mode": {
    "name": "ipython",
    "version": 2
   },
   "file_extension": ".py",
   "mimetype": "text/x-python",
   "name": "python",
   "nbconvert_exporter": "python",
   "pygments_lexer": "ipython2",
   "version": "2.7.10"
  }
 },
 "nbformat": 4,
 "nbformat_minor": 2
}
