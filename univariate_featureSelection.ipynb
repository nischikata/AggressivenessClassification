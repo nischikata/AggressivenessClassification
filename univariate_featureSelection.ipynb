{
 "cells": [
  {
   "cell_type": "code",
   "execution_count": 1,
   "metadata": {},
   "outputs": [],
   "source": [
    "from setupDataset import get_dataset, combine_datasets\n",
    "from Utils.split_dataset import separateByCategory, getFinalDatasetChunk, getTestSets\n",
    "from Utils.feature_ranking import getTopFeatures\n",
    "import numpy as np"
   ]
  },
  {
   "cell_type": "code",
   "execution_count": 2,
   "metadata": {},
   "outputs": [
    {
     "name": "stdout",
     "output_type": "stream",
     "text": [
      "<type 'dict'>\n",
      "<type 'numpy.ndarray'>\n",
      "68\n"
     ]
    },
    {
     "data": {
      "text/plain": [
       "array([[  0.,  60.,  60.,  40.,  60.,  60.],\n",
       "       [  1.,  61.,  56.,  36.,  56.,   7.],\n",
       "       [  2.,  62.,  40.,  10.,  40.,  40.],\n",
       "       [  3.,  24.,   1.,  43.,  62.,   1.],\n",
       "       [  4.,   4.,  12.,   1.,  24.,  56.],\n",
       "       [  5.,   0.,  62.,  56.,  12.,  62.],\n",
       "       [  6.,   7.,  51.,   7.,  61.,  33.],\n",
       "       [  7.,  33.,  18.,  16.,   1.,  24.],\n",
       "       [  8.,  32.,  13.,  21.,   7.,  61.],\n",
       "       [  9.,  53.,  19.,  45.,  33.,  43.],\n",
       "       [ 10.,   6.,   7.,  34.,  32.,   4.],\n",
       "       [ 11.,  44.,  20.,  55.,  13.,   0.],\n",
       "       [ 12.,  23.,  33.,   9.,  51.,  10.],\n",
       "       [ 13.,  49.,  10.,  39.,  36.,  32.],\n",
       "       [ 14.,  59.,  43.,  50.,  19.,  36.],\n",
       "       [ 15.,  54.,  24.,  44.,  43.,  12.],\n",
       "       [ 16.,  35.,  32.,  42.,  18.,  13.],\n",
       "       [ 17.,  26.,   4.,  61.,  23.,  54.],\n",
       "       [ 18.,  64.,   6.,   0.,   6.,  44.],\n",
       "       [ 19.,   1.,  23.,  20.,   4.,  23.],\n",
       "       [ 20.,  31.,  41.,  46.,  26.,  53.],\n",
       "       [ 21.,  34.,  48.,   3.,  20.,  51.],\n",
       "       [ 22.,  67.,  31.,  19.,  46.,  34.],\n",
       "       [ 23.,  66.,  26.,  60.,   0.,  19.],\n",
       "       [ 24.,  47.,   0.,  54.,  59.,  26.],\n",
       "       [ 25.,  11.,  57.,  12.,  10.,   6.],\n",
       "       [ 26.,  29.,  11.,  41.,  35.,  20.],\n",
       "       [ 27.,  40.,  54.,  53.,  53.,  18.],\n",
       "       [ 28.,  28.,  14.,   4.,  11.,  31.],\n",
       "       [ 29.,   5.,   9.,   2.,  31.,  59.],\n",
       "       [ 30.,  13.,  44.,  17.,  54.,  49.],\n",
       "       [ 31.,   2.,  36.,  18.,  48.,  46.],\n",
       "       [ 32.,  10.,   2.,  51.,  37.,  35.],\n",
       "       [ 33.,  46.,  64.,  33.,  34.,   9.],\n",
       "       [ 34.,  30.,  52.,  47.,  58.,  45.],\n",
       "       [ 35.,  43.,  35.,  49.,  22.,  64.],\n",
       "       [ 36.,  36.,  59.,  57.,   8.,  11.],\n",
       "       [ 37.,  27.,  58.,  67.,  57.,  41.],\n",
       "       [ 38.,  14.,  61.,  66.,  14.,  50.],\n",
       "       [ 39.,   3.,  50.,  24.,  49.,  57.],\n",
       "       [ 40.,  63.,  53.,  62.,  64.,  14.],\n",
       "       [ 41.,  56.,  34.,   8.,  52.,  66.],\n",
       "       [ 42.,  45.,  49.,  13.,  44.,   2.],\n",
       "       [ 43.,  65.,  37.,  29.,  45.,  47.],\n",
       "       [ 44.,  17.,  39.,   5.,  66.,  67.],\n",
       "       [ 45.,  16.,  45.,  32.,  50.,  29.],\n",
       "       [ 46.,  58.,  27.,  28.,  41.,   3.],\n",
       "       [ 47.,   9.,   5.,  26.,  47.,  21.],\n",
       "       [ 48.,  21.,  21.,  37.,  27.,  28.],\n",
       "       [ 49.,  15.,  28.,  31.,   9.,  39.],\n",
       "       [ 50.,  12.,  29.,  64.,  28.,  16.],\n",
       "       [ 51.,  22.,   8.,  59.,  55.,  48.],\n",
       "       [ 52.,  50.,  66.,  14.,  29.,   5.],\n",
       "       [ 53.,  39.,  67.,  15.,  30.,  55.],\n",
       "       [ 54.,  51.,  47.,  23.,  67.,  58.],\n",
       "       [ 55.,  55.,   3.,  30.,  65.,  27.],\n",
       "       [ 56.,  41.,  30.,  27.,   3.,  37.],\n",
       "       [ 57.,  42.,  46.,  65.,  38.,   8.],\n",
       "       [ 58.,  57.,  22.,  35.,   5.,  17.],\n",
       "       [ 59.,  25.,  17.,  38.,  15.,  30.],\n",
       "       [ 60.,  20.,  38.,  48.,  16.,  42.],\n",
       "       [ 61.,  19.,  55.,  25.,  17.,  52.],\n",
       "       [ 62.,   8.,  63.,  11.,  42.,  22.],\n",
       "       [ 63.,  38.,  65.,  63.,  25.,  65.],\n",
       "       [ 64.,  18.,  15.,   6.,  63.,  15.],\n",
       "       [ 65.,  37.,  25.,  58.,  39.,  63.],\n",
       "       [ 66.,  48.,  16.,  52.,   2.,  38.],\n",
       "       [ 67.,  52.,  42.,  22.,  21.,  25.]])"
      ]
     },
     "execution_count": 2,
     "metadata": {},
     "output_type": "execute_result"
    }
   ],
   "source": [
    "m_dataset = get_dataset(\"dataset.pickle\")\n",
    "w_dataset = get_dataset(\"wiki_dataset.pickle\")\n",
    "\n",
    "c_dataset = combine_datasets(m_dataset, w_dataset)\n",
    "\n",
    "def get_selectedFeatures(X, indices = []):\n",
    "    \"\"\"\n",
    "    Returns the feature vector for the given Comment\n",
    "    :param X: the data part of the dataset (array of feature vectors)\n",
    "    :param indices: a list of the (feature column) indices to select\n",
    "    :return: numpy array of selected features\n",
    "    \"\"\"\n",
    "    # select column indices\n",
    "    return X[:, indices]\n",
    "\n",
    "def featureSelectionResults(dataset):\n",
    "    # 1. get the feature rankings\n",
    "    ranks = getTopFeatures(dataset)\n",
    "    # 2. separate into test validation sets\n",
    "    # and\n",
    "    \n",
    "    \n",
    "    \n",
    "    good, bad = separateByCategory(dataset)\n",
    "    final, good, bad = getFinalDatasetChunk(good, bad)\n",
    "    sets = getTestSets(good, bad)\n",
    "    return ranks\n",
    "\n",
    "featureSelectionResults(c_dataset)"
   ]
  },
  {
   "cell_type": "code",
   "execution_count": 3,
   "metadata": {},
   "outputs": [
    {
     "data": {
      "text/plain": [
       "6022"
      ]
     },
     "execution_count": 3,
     "metadata": {},
     "output_type": "execute_result"
    }
   ],
   "source": [
    "len(c_dataset[\"target\"])"
   ]
  },
  {
   "cell_type": "code",
   "execution_count": 4,
   "metadata": {},
   "outputs": [
    {
     "data": {
      "text/plain": [
       "3008"
      ]
     },
     "execution_count": 4,
     "metadata": {},
     "output_type": "execute_result"
    }
   ],
   "source": [
    "len(np.where(c_dataset[\"target\"] == 0)[0])"
   ]
  },
  {
   "cell_type": "code",
   "execution_count": 5,
   "metadata": {},
   "outputs": [
    {
     "data": {
      "text/plain": [
       "3014"
      ]
     },
     "execution_count": 5,
     "metadata": {},
     "output_type": "execute_result"
    }
   ],
   "source": [
    "len(np.where(c_dataset[\"target\"] == 1)[0])"
   ]
  },
  {
   "cell_type": "code",
   "execution_count": null,
   "metadata": {},
   "outputs": [],
   "source": []
  },
  {
   "cell_type": "code",
   "execution_count": null,
   "metadata": {
    "collapsed": true
   },
   "outputs": [],
   "source": []
  }
 ],
 "metadata": {
  "kernelspec": {
   "display_name": "Python 2",
   "language": "python",
   "name": "python2"
  },
  "language_info": {
   "codemirror_mode": {
    "name": "ipython",
    "version": 2
   },
   "file_extension": ".py",
   "mimetype": "text/x-python",
   "name": "python",
   "nbconvert_exporter": "python",
   "pygments_lexer": "ipython2",
   "version": "2.7.10"
  }
 },
 "nbformat": 4,
 "nbformat_minor": 2
}
