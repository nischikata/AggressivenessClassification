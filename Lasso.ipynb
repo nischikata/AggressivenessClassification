{
 "cells": [
  {
   "cell_type": "code",
   "execution_count": 61,
   "metadata": {},
   "outputs": [],
   "source": [
    "import numpy as np\n",
    "from setupDataset import get_dataset, combine_datasets\n",
    "from model import compute_avg\n",
    "from feature_vector import get_feature_names\n",
    "from sklearn.feature_selection import SelectFromModel\n",
    "from sklearn.linear_model import LassoCV\n",
    "\n",
    "fnames = get_feature_names()\n",
    "\n",
    "m_dataset = get_dataset(\"dataset.pickle\")\n",
    "w_dataset = get_dataset(\"wiki_dataset.pickle\")\n",
    "\n",
    "c_dataset = combine_datasets(m_dataset, w_dataset)\n",
    "\n",
    "Xm = m_dataset[\"data\"]\n",
    "Xw = w_dataset[\"data\"]\n",
    "Xc = c_dataset[\"data\"]\n",
    "\n",
    "ym = m_dataset[\"target\"]\n",
    "yw = w_dataset[\"target\"]\n",
    "yc = c_dataset[\"target\"]\n",
    "\n",
    "# We use the base estimator LassoCV since the L1 norm promotes sparsity of features.\n",
    "clf = LassoCV() #alpha = 0.00100)\n",
    "\n",
    "# Set a minimum threshold of 0.25\n",
    "sfm = SelectFromModel(clf, threshold=0.015)\n",
    "sfm.fit(Xm, ym)\n",
    "n_features = sfm.transform(Xc).shape[1]\n",
    "\n",
    "selection = sfm.get_support(indices=True)"
   ]
  },
  {
   "cell_type": "code",
   "execution_count": 62,
   "metadata": {},
   "outputs": [
    {
     "data": {
      "text/plain": [
       "21"
      ]
     },
     "execution_count": 62,
     "metadata": {},
     "output_type": "execute_result"
    }
   ],
   "source": [
    "len(selection)"
   ]
  },
  {
   "cell_type": "code",
   "execution_count": 63,
   "metadata": {},
   "outputs": [
    {
     "data": {
      "text/plain": [
       "array([ 0,  1,  2,  3,  5,  7,  8,  9, 14, 33, 34, 36, 37, 38, 39, 40, 41,\n",
       "       44, 46, 51, 54])"
      ]
     },
     "execution_count": 63,
     "metadata": {},
     "output_type": "execute_result"
    }
   ],
   "source": [
    "selection"
   ]
  },
  {
   "cell_type": "code",
   "execution_count": null,
   "metadata": {
    "collapsed": true
   },
   "outputs": [],
   "source": [
    "from sklearn import linear_model\n",
    "clf = linear_model.LassoLars(alpha=0.000001)\n",
    "sfm = SelectFromModel(clf, threshold=0.12)\n",
    "sfm.fit(Xc, yc)\n",
    "n_features = sfm.transform(Xc).shape[1]\n",
    "\n",
    "selection = sfm.get_support(indices=True)"
   ]
  },
  {
   "cell_type": "code",
   "execution_count": null,
   "metadata": {
    "collapsed": true
   },
   "outputs": [],
   "source": [
    "selection"
   ]
  },
  {
   "cell_type": "code",
   "execution_count": null,
   "metadata": {
    "collapsed": true
   },
   "outputs": [],
   "source": [
    "from sklearn import linear_model\n",
    "clf = linear_model.ElasticNet(alpha=0.000001)\n",
    "sfm = SelectFromModel(clf, threshold=0.12)\n",
    "sfm.fit(Xc, yc)\n",
    "n_features = sfm.transform(Xc).shape[1]\n",
    "\n",
    "selection = sfm.get_support(indices=True)\n",
    "len(selection)\n",
    "selection"
   ]
  },
  {
   "cell_type": "code",
   "execution_count": null,
   "metadata": {
    "collapsed": true
   },
   "outputs": [],
   "source": [
    "from sklearn.linear_model import RandomizedLogisticRegression\n",
    "sfm = RandomizedLogisticRegression()\n",
    "\n",
    "#sfm = SelectFromModel(clf)\n",
    "sfm.fit(Xm, ym)\n",
    "#n_features = sfm.transform(Xc).shape[1]\n",
    "\n",
    "selection = sfm.get_support(indices=True)\n",
    " \n",
    "#using the Boston housing data. \n",
    "#Data gets scaled automatically by sklearn's implementation\n",
    "\n",
    "selection"
   ]
  },
  {
   "cell_type": "code",
   "execution_count": null,
   "metadata": {
    "collapsed": true
   },
   "outputs": [],
   "source": [
    "import matplotlib.pyplot as plt\n",
    "\n",
    "from sklearn.datasets import make_classification\n",
    "from sklearn.ensemble import ExtraTreesClassifier\n",
    "\n",
    "# Build a classification task using 3 informative features\n",
    "X, y = Xc, yc\n",
    "\n",
    "# Build a forest and compute the feature importances\n",
    "forest = ExtraTreesClassifier(n_estimators=1050,\n",
    "                              random_state=0)\n",
    "\n",
    "forest.fit(X, y)\n",
    "importances = forest.feature_importances_\n",
    "std = np.std([tree.feature_importances_ for tree in forest.estimators_],\n",
    "             axis=0)\n",
    "indices = np.argsort(importances)[::-1]\n",
    "\n",
    "# Print the feature ranking\n",
    "print(\"Feature ranking:\")\n",
    "\n",
    "for f in range(X.shape[1]):\n",
    "    print(\"%d. feature %d (%f)\" % (f + 1, indices[f], importances[indices[f]]))\n",
    "\n",
    "# Plot the feature importances of the forest\n",
    "plt.figure()\n",
    "plt.title(\"Feature importances\")\n",
    "plt.bar(range(X.shape[1]), importances[indices],\n",
    "       color=\"r\", yerr=std[indices], align=\"center\")\n",
    "plt.xticks(range(X.shape[1]), indices)\n",
    "plt.xlim([-1, X.shape[1]])\n",
    "#plt.show()"
   ]
  },
  {
   "cell_type": "code",
   "execution_count": null,
   "metadata": {
    "collapsed": true
   },
   "outputs": [],
   "source": [
    "indices[:20]"
   ]
  },
  {
   "cell_type": "code",
   "execution_count": null,
   "metadata": {
    "collapsed": true
   },
   "outputs": [],
   "source": []
  }
 ],
 "metadata": {
  "kernelspec": {
   "display_name": "Python 2",
   "language": "python",
   "name": "python2"
  },
  "language_info": {
   "codemirror_mode": {
    "name": "ipython",
    "version": 2
   },
   "file_extension": ".py",
   "mimetype": "text/x-python",
   "name": "python",
   "nbconvert_exporter": "python",
   "pygments_lexer": "ipython2",
   "version": "2.7.10"
  }
 },
 "nbformat": 4,
 "nbformat_minor": 2
}
