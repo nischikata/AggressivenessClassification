{
 "cells": [
  {
   "cell_type": "code",
   "execution_count": 15,
   "metadata": {},
   "outputs": [
    {
     "name": "stdout",
     "output_type": "stream",
     "text": [
      "   recall 0.779590596777   precision:  0.803471290061    accuracy:  0.795212355212 f-score:  0.791350821746\n",
      "[[ 5284.  1231.]\n",
      " [ 1421.  5014.]]\n"
     ]
    }
   ],
   "source": [
    "from setupDataset import get_dataset, combine_datasets\n",
    "from feature_vector import get_feature_names\n",
    "from model import compute_avg\n",
    "fnames = get_feature_names()\n",
    "import numpy as np\n",
    "from Utils.univariate_featureSelection import get_selectedFeatures\n",
    "\n",
    "\n",
    "fnames = get_feature_names()\n",
    "\n",
    "m_dataset = get_dataset(\"dataset.pickle\")\n",
    "w_dataset = get_dataset(\"wiki_dataset.pickle\")\n",
    "\n",
    "c_dataset = combine_datasets(m_dataset, w_dataset)\n",
    "\n",
    "\n",
    "c_filename = 'rankSelections_combined.csv'\n",
    "m_filename = 'rankSelections_myDataset.csv'\n",
    "w_filename = 'rankSelections_wikiDataset.csv'\n",
    "\n",
    "selection = [ 5,  6, 11, 22, 24, 26, 28, 29, 32, 35, 47, 49, 58, 59, 60, 61, 62,\n",
    "       63, 64, 67] # lasso for combined dataset, 20 features\n",
    "\n",
    "selection = [ 4,  5,  6, 11, 13, 22, 24, 26, 28, 29, 30, 31, 35, 36, 40, 49, 52,\n",
    "       57, 58, 59, 60, 61, 62, 63, 64, 67] # lasso for my dataset, 26 features\n",
    "\n",
    "selection = [ 1,  2,  3,  4,  5,  7,  8,  9, 11, 13, 14, 24, 26, 27, 28, 29, 32,\n",
    "       33, 34, 36, 37, 38, 39, 40, 41, 42, 44, 45, 46, 47, 48, 50, 52, 54,\n",
    "       61, 66, 67] # m_dataset, alpha = 0.00100, threshold 0.01, 37 Features, f-score: 0.79\n",
    "\n",
    "data = get_selectedFeatures(m_dataset[\"data\"], selection)\n",
    "compute_avg(data, m_dataset[\"target\"])"
   ]
  },
  {
   "cell_type": "code",
   "execution_count": 14,
   "metadata": {},
   "outputs": [
    {
     "data": {
      "text/plain": [
       "37"
      ]
     },
     "execution_count": 14,
     "metadata": {},
     "output_type": "execute_result"
    }
   ],
   "source": [
    "len([ 1,  2,  3,  4,  5,  7,  8,  9, 11, 13, 14, 24, 26, 27, 28, 29, 32,\n",
    "       33, 34, 36, 37, 38, 39, 40, 41, 42, 44, 45, 46, 47, 48, 50, 52, 54,\n",
    "       61, 66, 67])"
   ]
  },
  {
   "cell_type": "code",
   "execution_count": null,
   "metadata": {
    "collapsed": true
   },
   "outputs": [],
   "source": []
  }
 ],
 "metadata": {
  "kernelspec": {
   "display_name": "Python 2",
   "language": "python",
   "name": "python2"
  },
  "language_info": {
   "codemirror_mode": {
    "name": "ipython",
    "version": 2
   },
   "file_extension": ".py",
   "mimetype": "text/x-python",
   "name": "python",
   "nbconvert_exporter": "python",
   "pygments_lexer": "ipython2",
   "version": "2.7.10"
  }
 },
 "nbformat": 4,
 "nbformat_minor": 2
}
