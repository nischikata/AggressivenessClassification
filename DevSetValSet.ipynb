{
 "cells": [
  {
   "cell_type": "code",
   "execution_count": 1,
   "metadata": {
    "collapsed": true
   },
   "outputs": [],
   "source": [
    "from Utils.split_dataset import save_devSet_valSet\n",
    "from Utils.setupDataset import get_dataset, save, load\n",
    "from Utils.feature_ranking import getRFE_ranking, getTopFeatures\n",
    "import numpy as np"
   ]
  },
  {
   "cell_type": "code",
   "execution_count": 13,
   "metadata": {},
   "outputs": [
    {
     "name": "stdout",
     "output_type": "stream",
     "text": [
      "devset  776   valset:  258\n"
     ]
    }
   ],
   "source": [
    "#save_devSet_valSet(\"Datasets/dataset.pickle\", \"Datasets/M_DEV_dataset.pickle\", \"Datasets/M_VAL_dataset.pickle\")"
   ]
  },
  {
   "cell_type": "markdown",
   "metadata": {},
   "source": [
    "* step 1: Split the Datasets into Validation and Dev set"
   ]
  },
  {
   "cell_type": "code",
   "execution_count": 2,
   "metadata": {},
   "outputs": [
    {
     "name": "stdout",
     "output_type": "stream",
     "text": [
      "devset  5241   valset:  1746\n"
     ]
    },
    {
     "data": {
      "text/plain": [
       "({'data': array([[ 0.,  1.,  0., ...,  0.,  0.,  0.],\n",
       "         [ 0.,  2.,  0., ...,  0.,  0.,  0.],\n",
       "         [ 0.,  7.,  0., ...,  0.,  0.,  0.],\n",
       "         ..., \n",
       "         [ 0.,  3.,  0., ...,  0.,  0.,  0.],\n",
       "         [ 0.,  3.,  0., ...,  0.,  0.,  0.],\n",
       "         [ 0.,  0.,  1., ...,  0.,  0.,  0.]]),\n",
       "  'target': array([ 0.,  0.,  0., ...,  0.,  0.,  1.])},\n",
       " {'data': array([[  0.        ,   1.        ,   1.        , ...,   0.        ,\n",
       "            0.        ,   0.        ],\n",
       "         [  1.        ,   3.        ,   0.        , ...,   0.        ,\n",
       "            0.        ,   0.        ],\n",
       "         [  0.        ,  42.        ,   2.        , ...,   0.        ,\n",
       "            0.        ,   0.        ],\n",
       "         ..., \n",
       "         [  0.        ,   8.        ,   1.        , ...,   0.        ,\n",
       "            0.        ,   0.        ],\n",
       "         [  0.        ,   2.        ,   1.        , ...,   0.        ,\n",
       "            0.        ,   0.        ],\n",
       "         [  0.33333333,   1.        ,   1.        , ...,   0.        ,\n",
       "            0.        ,   0.        ]]),\n",
       "  'target': array([ 0.,  1.,  0., ...,  0.,  1.,  1.])})"
      ]
     },
     "execution_count": 2,
     "metadata": {},
     "output_type": "execute_result"
    }
   ],
   "source": [
    "save_devSet_valSet(\"Datasets/wiki_dataset.pickle\", \"Datasets/W_DEV_dataset.pickle\", \"Datasets/W_VAL_dataset.pickle\")"
   ]
  },
  {
   "cell_type": "code",
   "execution_count": 3,
   "metadata": {
    "collapsed": true
   },
   "outputs": [],
   "source": [
    "m_dev_file  = \"Datasets/M_DEV_dataset.pickle\"\n",
    "m_val_file  = \"Datasets/M_VAL_dataset.pickle\"\n",
    "m_sel_univ  = \"Datasets/M_SELECTIONS_univariate.csv\"\n",
    "m_sel_RFE   = \"Datasets/M_SELECTIONS_RFE.csv\"\n",
    "m_sel_lasso = \"Datasets/M_SELECTIONS_lasso.pickle\"\n",
    "\n",
    "w_dev_file  = \"Datasets/W_DEV_dataset.pickle\"\n",
    "w_val_file  = \"Datasets/W_VAL_dataset.pickle\"\n",
    "w_sel_univ  = \"Datasets/W_SELECTIONS_univariate.csv\"\n",
    "w_sel_RFE   = \"Datasets/W_SELECTIONS_RFE.csv\"\n",
    "w_sel_lasso = \"Datasets/W_SELECTIONS_lasso.pickle\""
   ]
  },
  {
   "cell_type": "code",
   "execution_count": 4,
   "metadata": {
    "collapsed": true
   },
   "outputs": [],
   "source": [
    "m_devSet = get_dataset(m_dev_file)\n",
    "w_devSet = get_dataset(w_dev_file)\n"
   ]
  },
  {
   "cell_type": "markdown",
   "metadata": {},
   "source": [
    "  * step 2: Compute the Selections for Univariate Feature Selection and and RFE:"
   ]
  },
  {
   "cell_type": "markdown",
   "metadata": {},
   "source": [
    "# Univariate"
   ]
  },
  {
   "cell_type": "code",
   "execution_count": 6,
   "metadata": {},
   "outputs": [
    {
     "name": "stderr",
     "output_type": "stream",
     "text": [
      "/Users/nischikata/Documents/FHHGB/PycharmProjects/AggressivenessClassification/venv/lib/python2.7/site-packages/sklearn/feature_selection/univariate_selection.py:113: UserWarning: Features [25] are constant.\n",
      "  UserWarning)\n",
      "/Users/nischikata/Documents/FHHGB/PycharmProjects/AggressivenessClassification/venv/lib/python2.7/site-packages/sklearn/feature_selection/univariate_selection.py:114: RuntimeWarning: invalid value encountered in divide\n",
      "  f = msb / msw\n"
     ]
    }
   ],
   "source": [
    "#M_RANKS = getTopFeatures(m_devSet, m_sel_univ)\n",
    "W_RANKS = getTopFeatures(w_devSet, w_sel_univ)"
   ]
  },
  {
   "cell_type": "markdown",
   "metadata": {},
   "source": [
    "# RFE"
   ]
  },
  {
   "cell_type": "code",
   "execution_count": null,
   "metadata": {
    "collapsed": true
   },
   "outputs": [],
   "source": [
    "\n",
    "M_RFE = getRFE_ranking(m_devSet, m_sel_RFE)\n",
    "W_RFE = getRFE_ranking(w_devSet, w_sel_RFE)"
   ]
  },
  {
   "cell_type": "markdown",
   "metadata": {
    "collapsed": true
   },
   "source": [
    "# Lasso"
   ]
  },
  {
   "cell_type": "code",
   "execution_count": null,
   "metadata": {},
   "outputs": [],
   "source": [
    "from Utils.lasso_selections import get_LassoSelections\n",
    "#get_LassoSelections(m_devSet, out=m_sel_lasso)\n",
    "get_LassoSelections(w_devSet, out=w_sel_lasso)\n",
    "\n",
    "m_lasso_selections = load(m_sel_lasso)\n",
    "w_lasso_selections = load(w_sel_lasso)\n",
    "\n",
    "print m_lasso_selections, \"\\n\\n\"\n",
    "print w_lasso_selections"
   ]
  },
  {
   "cell_type": "code",
   "execution_count": 6,
   "metadata": {},
   "outputs": [
    {
     "data": {
      "text/plain": [
       "16"
      ]
     },
     "execution_count": 6,
     "metadata": {},
     "output_type": "execute_result"
    }
   ],
   "source": [
    "len(m_lasso_selections)"
   ]
  },
  {
   "cell_type": "code",
   "execution_count": 9,
   "metadata": {},
   "outputs": [
    {
     "data": {
      "text/plain": [
       "68"
      ]
     },
     "execution_count": 9,
     "metadata": {},
     "output_type": "execute_result"
    }
   ],
   "source": [
    "len(w_lasso_selections[2])"
   ]
  },
  {
   "cell_type": "code",
   "execution_count": 10,
   "metadata": {
    "collapsed": true
   },
   "outputs": [],
   "source": [
    "oldwlasso = load(\"Datasets/archive/W_SELECTIONS_lasso.pickle\")"
   ]
  },
  {
   "cell_type": "code",
   "execution_count": 13,
   "metadata": {},
   "outputs": [
    {
     "data": {
      "text/plain": [
       "12"
      ]
     },
     "execution_count": 13,
     "metadata": {},
     "output_type": "execute_result"
    }
   ],
   "source": [
    "len(oldwlasso[1])"
   ]
  },
  {
   "cell_type": "code",
   "execution_count": 12,
   "metadata": {},
   "outputs": [
    {
     "data": {
      "text/plain": [
       "[array([7]),\n",
       " array([ 1,  7,  8,  9, 10, 16, 21, 37, 39, 40, 43, 46]),\n",
       " array([ 0,  1,  2,  3,  4,  5,  6,  7,  8,  9, 10, 11, 12, 13, 14, 15, 16,\n",
       "        17, 18, 19, 20, 21, 22, 23, 24, 25, 26, 27, 28, 29, 30, 31, 32, 33,\n",
       "        34, 35, 36, 37, 38, 39, 40, 41, 42, 43, 44, 45, 46, 47, 48, 49, 50,\n",
       "        51, 52, 53, 54, 55, 56, 57, 58, 59, 60, 61, 62, 63, 64, 65, 66, 67])]"
      ]
     },
     "execution_count": 12,
     "metadata": {},
     "output_type": "execute_result"
    }
   ],
   "source": [
    "oldwlasso"
   ]
  },
  {
   "cell_type": "code",
   "execution_count": null,
   "metadata": {
    "collapsed": true
   },
   "outputs": [],
   "source": []
  }
 ],
 "metadata": {
  "kernelspec": {
   "display_name": "Python 2",
   "language": "python",
   "name": "python2"
  },
  "language_info": {
   "codemirror_mode": {
    "name": "ipython",
    "version": 2
   },
   "file_extension": ".py",
   "mimetype": "text/x-python",
   "name": "python",
   "nbconvert_exporter": "python",
   "pygments_lexer": "ipython2",
   "version": "2.7.10"
  }
 },
 "nbformat": 4,
 "nbformat_minor": 2
}
