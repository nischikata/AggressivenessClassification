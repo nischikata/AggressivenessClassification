{
 "cells": [
  {
   "cell_type": "code",
   "execution_count": 1,
   "metadata": {},
   "outputs": [],
   "source": [
    "from Utils.split_dataset import save_devSet_valSet, scale_sets\n",
    "from Utils.setupDataset import get_dataset, save, load\n",
    "from Utils.feature_ranking import getRFE_ranking, getTopFeatures\n",
    "from Utils.univariate_featureSelection import single_selection\n",
    "import numpy as np"
   ]
  },
  {
   "cell_type": "code",
   "execution_count": null,
   "metadata": {},
   "outputs": [],
   "source": [
    "#save_devSet_valSet(\"Datasets/dataset.pickle\", \"Datasets/M_DEV_dataset.pickle\", \"Datasets/M_VAL_dataset.pickle\")"
   ]
  },
  {
   "cell_type": "markdown",
   "metadata": {},
   "source": [
    "* step 1: Split the Datasets into Validation and Dev set"
   ]
  },
  {
   "cell_type": "code",
   "execution_count": null,
   "metadata": {},
   "outputs": [],
   "source": [
    "#save_devSet_valSet(\"Datasets/wiki_dataset.pickle\", \"Datasets/W_DEV_dataset.pickle\", \"Datasets/W_VAL_dataset.pickle\")"
   ]
  },
  {
   "cell_type": "code",
   "execution_count": 2,
   "metadata": {
    "collapsed": true
   },
   "outputs": [],
   "source": [
    "m_dev_file  = \"Datasets/M_DEV_dataset.pickle\"\n",
    "m_val_file  = \"Datasets/M_VAL_dataset.pickle\"\n",
    "m_sel_univ  = \"Datasets/M_SELECTIONS_univariate.csv\"\n",
    "m_sel_RFE   = \"Datasets/M_SELECTIONS_RFE.csv\"\n",
    "m_sel_lasso = \"Datasets/M_SELECTIONS_lasso.pickle\"\n",
    "\n",
    "w_dev_file  = \"Datasets/W_DEV_dataset.pickle\"\n",
    "w_val_file  = \"Datasets/W_VAL_dataset.pickle\"\n",
    "w_sel_univ  = \"Datasets/W_SELECTIONS_univariate.csv\"\n",
    "w_sel_RFE   = \"Datasets/W_SELECTIONS_RFE.csv\"\n",
    "w_sel_lasso = \"Datasets/W_SELECTIONS_lasso.pickle\""
   ]
  },
  {
   "cell_type": "code",
   "execution_count": 3,
   "metadata": {
    "collapsed": true
   },
   "outputs": [],
   "source": [
    "m_devSet = get_dataset(m_dev_file)\n",
    "w_devSet = get_dataset(w_dev_file)\n",
    "\n",
    "m_val = get_dataset(m_val_file)\n",
    "w_val = get_dataset(w_val_file)\n"
   ]
  },
  {
   "cell_type": "markdown",
   "metadata": {},
   "source": [
    "  * step 2: Compute the Selections for Univariate Feature Selection and and RFE:"
   ]
  },
  {
   "cell_type": "markdown",
   "metadata": {},
   "source": [
    "# Univariate"
   ]
  },
  {
   "cell_type": "code",
   "execution_count": null,
   "metadata": {},
   "outputs": [],
   "source": [
    "#M_RANKS = getTopFeatures(m_devSet, m_sel_univ)\n",
    "#W_RANKS = getTopFeatures(w_devSet, w_sel_univ)"
   ]
  },
  {
   "cell_type": "markdown",
   "metadata": {},
   "source": [
    "# RFE"
   ]
  },
  {
   "cell_type": "code",
   "execution_count": 5,
   "metadata": {},
   "outputs": [],
   "source": [
    "\n",
    "RFE = getRFE_ranking(m_devSet, m_sel_RFE)\n",
    "RFE = getRFE_ranking(w_devSet, w_sel_RFE)"
   ]
  },
  {
   "cell_type": "markdown",
   "metadata": {
    "collapsed": true
   },
   "source": [
    "# Lasso"
   ]
  },
  {
   "cell_type": "code",
   "execution_count": 6,
   "metadata": {},
   "outputs": [
    {
     "name": "stderr",
     "output_type": "stream",
     "text": [
      "/Users/nischikata/Documents/FHHGB/PycharmProjects/AggressivenessClassification/venv/lib/python2.7/site-packages/sklearn/linear_model/coordinate_descent.py:484: ConvergenceWarning: Objective did not converge. You might want to increase the number of iterations. Fitting data with very small alpha may cause precision problems.\n",
      "  ConvergenceWarning)\n",
      "/Users/nischikata/Documents/FHHGB/PycharmProjects/AggressivenessClassification/venv/lib/python2.7/site-packages/sklearn/feature_selection/base.py:80: UserWarning: No features were selected: either the data is too noisy or the selection test too strict.\n",
      "  UserWarning)\n"
     ]
    },
    {
     "ename": "NameError",
     "evalue": "name 'sw_sel_lasso' is not defined",
     "output_type": "error",
     "traceback": [
      "\u001b[0;31m---------------------------------------------------------------------------\u001b[0m",
      "\u001b[0;31mNameError\u001b[0m                                 Traceback (most recent call last)",
      "\u001b[0;32m<ipython-input-6-8b14c3f56a06>\u001b[0m in \u001b[0;36m<module>\u001b[0;34m()\u001b[0m\n\u001b[1;32m      8\u001b[0m \u001b[0mm_lasso_selections\u001b[0m \u001b[0;34m=\u001b[0m \u001b[0mload\u001b[0m\u001b[0;34m(\u001b[0m\u001b[0mm_sel_lasso\u001b[0m\u001b[0;34m)\u001b[0m\u001b[0;34m\u001b[0m\u001b[0m\n\u001b[1;32m      9\u001b[0m \u001b[0mw_lasso_selections\u001b[0m \u001b[0;34m=\u001b[0m \u001b[0mload\u001b[0m\u001b[0;34m(\u001b[0m\u001b[0mw_sel_lasso\u001b[0m\u001b[0;34m)\u001b[0m\u001b[0;34m\u001b[0m\u001b[0m\n\u001b[0;32m---> 10\u001b[0;31m \u001b[0msw_lasso_selections\u001b[0m \u001b[0;34m=\u001b[0m \u001b[0mload\u001b[0m\u001b[0;34m(\u001b[0m\u001b[0msw_sel_lasso\u001b[0m\u001b[0;34m)\u001b[0m\u001b[0;34m\u001b[0m\u001b[0m\n\u001b[0m",
      "\u001b[0;31mNameError\u001b[0m: name 'sw_sel_lasso' is not defined"
     ]
    }
   ],
   "source": [
    "from Utils.lasso_selections import get_LassoSelections\n",
    "\n",
    "\n",
    "get_LassoSelections(m_devSet, out=m_sel_lasso)\n",
    "get_LassoSelections(w_devSet, out=w_sel_lasso)\n",
    "\n",
    "\n",
    "m_lasso_selections = load(m_sel_lasso)\n",
    "w_lasso_selections = load(w_sel_lasso)\n"
   ]
  },
  {
   "cell_type": "code",
   "execution_count": null,
   "metadata": {
    "collapsed": true
   },
   "outputs": [],
   "source": []
  }
 ],
 "metadata": {
  "kernelspec": {
   "display_name": "Python 2",
   "language": "python",
   "name": "python2"
  },
  "language_info": {
   "codemirror_mode": {
    "name": "ipython",
    "version": 2
   },
   "file_extension": ".py",
   "mimetype": "text/x-python",
   "name": "python",
   "nbconvert_exporter": "python",
   "pygments_lexer": "ipython2",
   "version": "2.7.10"
  }
 },
 "nbformat": 4,
 "nbformat_minor": 2
}
