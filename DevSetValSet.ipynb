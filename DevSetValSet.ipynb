{
 "cells": [
  {
   "cell_type": "code",
   "execution_count": 1,
   "metadata": {
    "collapsed": true
   },
   "outputs": [],
   "source": [
    "from Utils.split_dataset import save_devSet_valSet\n",
    "from setupDataset import get_dataset"
   ]
  },
  {
   "cell_type": "code",
   "execution_count": 2,
   "metadata": {},
   "outputs": [
    {
     "name": "stdout",
     "output_type": "stream",
     "text": [
      "devset  776   valset:  258\n"
     ]
    }
   ],
   "source": [
    "#save_devSet_valSet(\"dataset.pickle\", \"M_DEV_dataset.pickle\", \"M_VAL_dataset.pickle\")"
   ]
  },
  {
   "cell_type": "code",
   "execution_count": 3,
   "metadata": {},
   "outputs": [
    {
     "name": "stdout",
     "output_type": "stream",
     "text": [
      "devset  5241   valset:  1746\n"
     ]
    }
   ],
   "source": [
    "#save_devSet_valSet(\"wiki_dataset_new.pickle\", \"W_DEV_dataset.pickle\", \"W_VAL_dataset.pickle\")"
   ]
  },
  {
   "cell_type": "code",
   "execution_count": 2,
   "metadata": {},
   "outputs": [],
   "source": [
    "m_devSet = get_dataset(\"M_DEV_dataset.pickle\")\n",
    "w_devSet = get_dataset(\"W_DEV_dataset.pickle\")\n"
   ]
  },
  {
   "cell_type": "markdown",
   "metadata": {},
   "source": [
    "Next step is the new calculation of the RANKS\n",
    "for Univariate and RFE\n",
    "\n",
    "    ranks = getTopFeatures(dataset, rankfile)\n",
    "    RFE_ranks = getRFE_ranking(dataset, RFE_rankfile)"
   ]
  },
  {
   "cell_type": "markdown",
   "metadata": {},
   "source": [
    "# Univariate"
   ]
  },
  {
   "cell_type": "code",
   "execution_count": 3,
   "metadata": {},
   "outputs": [],
   "source": [
    "from Utils.feature_ranking import getRFE_ranking, getTopFeatures\n",
    "M_RANKS = getTopFeatures(m_devSet, \"M_SELECTIONS_univariate.csv\")\n",
    "W_RANKS = getTopFeatures(w_devSet, \"W_SELECTIONS_univariate.csv\")"
   ]
  },
  {
   "cell_type": "markdown",
   "metadata": {},
   "source": [
    "# RFE"
   ]
  },
  {
   "cell_type": "code",
   "execution_count": 4,
   "metadata": {},
   "outputs": [],
   "source": [
    "\n",
    "M_RFE = getRFE_ranking(m_devSet, \"M_SELECTIONS_RFE.csv\")\n",
    "W_RFE = getRFE_ranking(w_devSet, \"W_SELECTIONS_RFE.csv\")"
   ]
  },
  {
   "cell_type": "code",
   "execution_count": null,
   "metadata": {
    "collapsed": true
   },
   "outputs": [],
   "source": []
  }
 ],
 "metadata": {
  "kernelspec": {
   "display_name": "Python 2",
   "language": "python",
   "name": "python2"
  },
  "language_info": {
   "codemirror_mode": {
    "name": "ipython",
    "version": 2
   },
   "file_extension": ".py",
   "mimetype": "text/x-python",
   "name": "python",
   "nbconvert_exporter": "python",
   "pygments_lexer": "ipython2",
   "version": "2.7.10"
  }
 },
 "nbformat": 4,
 "nbformat_minor": 2
}
