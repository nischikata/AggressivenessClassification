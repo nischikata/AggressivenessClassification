{
 "cells": [
  {
   "cell_type": "code",
   "execution_count": 2,
   "metadata": {},
   "outputs": [],
   "source": [
    "from Utils.normalize_demos import corrections_demo"
   ]
  },
  {
   "cell_type": "code",
   "execution_count": 3,
   "metadata": {},
   "outputs": [
    {
     "name": "stdout",
     "output_type": "stream",
     "text": [
      "\n",
      "\n",
      "\n",
      "\n",
      "         A U T O - C O R R E C T I O N   D E M O\n",
      "\n",
      "\n",
      "\n",
      "---------ORIGINAL TEXT---------------------------------------------------------------------------------\n",
      "\n",
      "  Hellllloooo w0rld! W3lc0m3 70 th!s b@d@$$ presentaton. C o o l ........ $300 send an em@il to vogon@poetry.com! ? !\n",
      "\n",
      "---------AUTO-CORRECTED TEXT---------------------------------------------------------------------------\n",
      "\n",
      "  Hellespont world ! W3lc0m3 70 th ! s b @ d @ $ $ presentation . C o o l ... ... .. $ 300 send an em @ IL to Vogel @ poetry ! ? ! \n",
      "\n",
      "---------NORMALIZED TEXT-------------------------------------------------------------------------------\n",
      "\n",
      "  Hello world! Welcome 70 this badass presentaton. Cool ... $ 300 send an email to vogon@poetry.com!?!\n",
      "\n",
      "-------------------------------------------------------------------------------------------------------\n",
      "\n",
      "\n",
      "\n",
      "\n"
     ]
    }
   ],
   "source": [
    "corrections_demo(u\"Hellllloooo w0rld! W3lc0m3 70 th!s b@d@$$ presentaton. C o o l ........ $300 send an em@il to vogon@poetry.com! ? !\")"
   ]
  },
  {
   "cell_type": "code",
   "execution_count": null,
   "metadata": {
    "collapsed": true
   },
   "outputs": [],
   "source": []
  }
 ],
 "metadata": {
  "kernelspec": {
   "display_name": "Python 2",
   "language": "python",
   "name": "python2"
  },
  "language_info": {
   "codemirror_mode": {
    "name": "ipython",
    "version": 2
   },
   "file_extension": ".py",
   "mimetype": "text/x-python",
   "name": "python",
   "nbconvert_exporter": "python",
   "pygments_lexer": "ipython2",
   "version": "2.7.10"
  }
 },
 "nbformat": 4,
 "nbformat_minor": 2
}
