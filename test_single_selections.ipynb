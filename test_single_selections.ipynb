{
 "cells": [
  {
   "cell_type": "markdown",
   "metadata": {},
   "source": [
    "# TODO: Testmodus angleichen\n",
    "für vergleichbare Testergebnisse\n",
    "idealerweise auch zum automatisierten Testen der Lasso Selections"
   ]
  },
  {
   "cell_type": "code",
   "execution_count": 65,
   "metadata": {},
   "outputs": [
    {
     "name": "stdout",
     "output_type": "stream",
     "text": [
      "   recall 0.77935024802   precision:  0.789071674954    accuracy:  0.787567567568 f-score:  0.784180833707\n",
      "[[ 5212.  1335.]\n",
      " [ 1416.  4987.]]\n"
     ]
    }
   ],
   "source": [
    "from setupDataset import get_dataset, combine_datasets\n",
    "from feature_vector import get_feature_names\n",
    "from model import compute_avg\n",
    "fnames = get_feature_names()\n",
    "import numpy as np\n",
    "from Utils.univariate_featureSelection import get_selectedFeatures\n",
    "\n",
    "\n",
    "fnames = get_feature_names()\n",
    "\n",
    "m_dataset = get_dataset(\"dataset.pickle\")\n",
    "w_dataset = get_dataset(\"wiki_dataset.pickle\")\n",
    "\n",
    "c_dataset = combine_datasets(m_dataset, w_dataset)\n",
    "\n",
    "\n",
    "c_filename = 'rankSelections_combined.csv'\n",
    "m_filename = 'rankSelections_myDataset.csv'\n",
    "w_filename = 'rankSelections_wikiDataset.csv'\n",
    "\n",
    "selection = [ 5,  6, 11, 22, 24, 26, 28, 29, 32, 35, 47, 49, 58, 59, 60, 61, 62,\n",
    "       63, 64, 67] # lasso for combined dataset, 20 features\n",
    "\n",
    "selection = [ 4,  5,  6, 11, 13, 22, 24, 26, 28, 29, 30, 31, 35, 36, 40, 49, 52,\n",
    "       57, 58, 59, 60, 61, 62, 63, 64, 67] # lasso for my dataset, 26 features\n",
    "\n",
    "selection = [ 1,  2,  3,  4,  5,  7,  8,  9, 11, 13, 14, 24, 26, 27, 28, 29, 32,\n",
    "       33, 34, 36, 37, 38, 39, 40, 41, 42, 44, 45, 46, 47, 48, 50, 52, 54,\n",
    "       61, 66, 67] # m_dataset, alpha = 0.00100, threshold 0.01, 37 Features, f-score: 0.79\n",
    "\n",
    "\n",
    "selection = [ 0,  1,  2,  3,  5,  7,  8,  9, 12, 14, 16, 33, 34, 36, 37, 38, 39,\n",
    "       40, 41, 44, 45, 46, 51, 54, 55] # LassoCV 25 features m_dataset f-score:  0.78\n",
    "\n",
    "selection = [ 0,  1,  2,  3,  5,  7,  8,  9, 12, 14, 16, 18, 19, 21, 32, 33, 34,\n",
    "       36, 37, 38, 39, 40, 41, 42, 43, 44, 45, 46, 50, 51, 54, 55] #LassoCV threshold 0.001, \n",
    "#32 Features fscore 0.78-0.79\n",
    "\n",
    "selection = [ 0,  1,  2,  3,  5,  8, 33, 34, 36, 37, 40, 41, \n",
    "             44, 46, 54] #LassoCV, threshold 0.025 15 features fscore 0.78\n",
    "\n",
    "selection = [ 0,  1,  2,  3,  5,  8, 33, 34, 36, 37, 40, 41, 44, 46, 54] #lassoCV, 17features, thresh 0.02, fsc0.78\n",
    "\n",
    "selection = [ 0,  1,  2,  3,  5,  7,  8,  9, 14, 33, 34, 36, 37, 38, 39, 40, 41,\n",
    "       44, 46, 51, 54] #21 features, thresh=0.015, f0.78 (relativ konstant gut!)\n",
    "data = get_selectedFeatures(m_dataset[\"data\"], selection)\n",
    "compute_avg(data, m_dataset[\"target\"])"
   ]
  },
  {
   "cell_type": "markdown",
   "metadata": {},
   "source": [
    "Plan fuer Lasso: LassoCV mittels SelectFromModel feature Selection durchführen, params: cv=5 oder 10\n",
    "\n",
    "SfM params threshold=0.01, threshold in 0.005er schritten anpassen, alpha automatisch auswaehlen lassen\n",
    "see http://localhost:8888/notebooks/Lasso.ipynb"
   ]
  },
  {
   "cell_type": "code",
   "execution_count": null,
   "metadata": {
    "collapsed": true
   },
   "outputs": [],
   "source": []
  }
 ],
 "metadata": {
  "kernelspec": {
   "display_name": "Python 2",
   "language": "python",
   "name": "python2"
  },
  "language_info": {
   "codemirror_mode": {
    "name": "ipython",
    "version": 2
   },
   "file_extension": ".py",
   "mimetype": "text/x-python",
   "name": "python",
   "nbconvert_exporter": "python",
   "pygments_lexer": "ipython2",
   "version": "2.7.10"
  }
 },
 "nbformat": 4,
 "nbformat_minor": 2
}
