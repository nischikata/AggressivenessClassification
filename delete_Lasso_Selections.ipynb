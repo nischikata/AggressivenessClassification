{
 "cells": [
  {
   "cell_type": "code",
   "execution_count": 114,
   "metadata": {
    "collapsed": true
   },
   "outputs": [],
   "source": [
    "from setupDataset import get_dataset, save, load\n",
    "from sklearn.feature_selection import SelectFromModel\n",
    "from sklearn.linear_model import LassoCV\n",
    "import numpy as np\n",
    "import pandas as pd\n",
    "\n",
    "\n",
    "\n",
    "m_devSet = get_dataset(\"M_DEV_dataset.pickle\")\n",
    "w_devSet = get_dataset(\"W_DEV_dataset.pickle\")"
   ]
  },
  {
   "cell_type": "code",
   "execution_count": 161,
   "metadata": {
    "collapsed": true
   },
   "outputs": [],
   "source": [
    "\n",
    "\n",
    "def get_LassoSelections(dataset, out='SELECTIONS_lasso.pickle', step=0.005, maxThresh=0.25, minThresh=0.000005):\n",
    "    X = dataset[\"data\"]\n",
    "    y = dataset[\"target\"]\n",
    "    \n",
    "    thr_range =  np.arange(0.000005, 0.25, 0.005)\n",
    "    no_selection = np.arange(0,68)\n",
    "    \n",
    "    selections = [no_selection]\n",
    "    \n",
    "    for thresh in thr_range:\n",
    "        \n",
    "        clf = LassoCV()\n",
    "        sfm = SelectFromModel(clf, threshold=thresh)\n",
    "        sfm.fit(X,y)\n",
    "        sel = sfm.get_support(indices=True)\n",
    "        n_features = sfm.transform(X).shape[1]\n",
    "        \n",
    "        if len(sel) > 0 and len(sel) != len(selections[-1]):\n",
    "            selections.append(sel)\n",
    "          \n",
    "    selections.reverse()\n",
    "    save(selections, out)\n",
    "    return selections\n",
    "\n",
    "\n",
    "def save_lassoDf(selections, out):\n",
    "    df = pd.DataFrame({'selections': selections}) # df = pd.DataFrame({0: [[1,2,3],[3,4,5],[5,6,7]]})\n",
    "    df.to_csv(out)\n",
    "    return df\n",
    "\n",
    "def load_lassoDf(file):\n",
    "    df = pd.read_csv(file)\n",
    "    sel = df.values\n",
    "    return sel"
   ]
  },
  {
   "cell_type": "code",
   "execution_count": 160,
   "metadata": {},
   "outputs": [
    {
     "data": {
      "text/plain": [
       "[array([40]),\n",
       " array([ 0, 40]),\n",
       " array([ 0,  5, 40]),\n",
       " array([ 0,  2,  5, 40]),\n",
       " array([ 0,  2,  5, 37, 40, 41, 44, 54]),\n",
       " array([ 0,  2,  5, 37, 40, 41, 42, 44, 46, 54]),\n",
       " array([ 0,  2,  5,  9, 37, 40, 41, 42, 44, 46, 54]),\n",
       " array([ 0,  1,  2,  5,  8,  9, 32, 37, 40, 41, 42, 44, 46, 51, 54, 61]),\n",
       " array([ 0,  1,  2,  5,  7,  8,  9, 12, 32, 34, 37, 39, 40, 41, 42, 44, 46,\n",
       "        51, 54, 61]),\n",
       " array([ 0,  1,  2,  3,  5,  7,  8,  9, 12, 16, 32, 34, 37, 39, 40, 41, 42,\n",
       "        44, 46, 51, 54, 61]),\n",
       " array([ 0,  1,  2,  3,  5,  7,  8,  9, 12, 16, 32, 34, 37, 39, 40, 41, 42,\n",
       "        43, 44, 45, 46, 48, 51, 54, 55, 61]),\n",
       " array([ 0,  1,  2,  3,  5,  7,  8,  9, 12, 16, 18, 19, 20, 21, 32, 34, 37,\n",
       "        39, 40, 41, 42, 43, 44, 45, 46, 48, 51, 54, 55, 61]),\n",
       " array([ 0,  1,  2,  3,  4,  5,  6,  7,  8,  9, 10, 11, 12, 13, 14, 15, 16,\n",
       "        17, 18, 19, 20, 21, 22, 23, 24, 25, 26, 27, 28, 29, 30, 31, 32, 33,\n",
       "        34, 35, 36, 37, 38, 39, 40, 41, 42, 43, 44, 45, 46, 47, 48, 49, 50,\n",
       "        51, 52, 53, 54, 55, 56, 57, 58, 59, 60, 61, 62, 63, 64, 65, 66, 67])]"
      ]
     },
     "execution_count": 160,
     "metadata": {},
     "output_type": "execute_result"
    }
   ],
   "source": [
    "from Utils.feature_ranking import load_rankSelections\n",
    "mm = load('M_SELECTIONS_lasso.pickle')\n",
    "mm"
   ]
  },
  {
   "cell_type": "code",
   "execution_count": 159,
   "metadata": {},
   "outputs": [],
   "source": [
    "get_LassoSelections(m_devSet, out='M_SELECTIONS_lasso.pickle')"
   ]
  },
  {
   "cell_type": "code",
   "execution_count": 163,
   "metadata": {},
   "outputs": [
    {
     "data": {
      "text/plain": [
       "[array([7]),\n",
       " array([ 1,  7,  8,  9, 10, 16, 21, 37, 39, 40, 43, 46]),\n",
       " array([ 0,  1,  2,  3,  4,  5,  6,  7,  8,  9, 10, 11, 12, 13, 14, 15, 16,\n",
       "        17, 18, 19, 20, 21, 22, 23, 24, 25, 26, 27, 28, 29, 30, 31, 32, 33,\n",
       "        34, 35, 36, 37, 38, 39, 40, 41, 42, 43, 44, 45, 46, 47, 48, 49, 50,\n",
       "        51, 52, 53, 54, 55, 56, 57, 58, 59, 60, 61, 62, 63, 64, 65, 66, 67])]"
      ]
     },
     "execution_count": 163,
     "metadata": {},
     "output_type": "execute_result"
    }
   ],
   "source": [
    "get_LassoSelections(w_devSet, out='W_SELECTIONS_lasso.pickle')"
   ]
  },
  {
   "cell_type": "code",
   "execution_count": 91,
   "metadata": {},
   "outputs": [
    {
     "name": "stdout",
     "output_type": "stream",
     "text": [
      "2\n"
     ]
    },
    {
     "data": {
      "text/plain": [
       "[array([ 0,  1,  2,  3,  4,  5,  6,  7,  8,  9, 10, 11, 12, 13, 14, 15, 16,\n",
       "        17, 18, 19, 20, 21, 22, 23, 24, 25, 26, 27, 28, 29, 30, 31, 32, 33,\n",
       "        34, 35, 36, 37, 38, 39, 40, 41, 42, 43, 44, 45, 46, 47, 48, 49, 50,\n",
       "        51, 52, 53, 54, 55, 56, 57, 58, 59, 60, 61, 62, 63, 64, 65, 66, 67]),\n",
       " array([ 1,  7,  8,  9, 10, 16, 21, 37, 39, 40, 43, 46])]"
      ]
     },
     "execution_count": 91,
     "metadata": {},
     "output_type": "execute_result"
    }
   ],
   "source": [
    "ws = get_LassoSelections(w_devSet)\n",
    "print len(ws)\n",
    "ws"
   ]
  },
  {
   "cell_type": "code",
   "execution_count": 77,
   "metadata": {},
   "outputs": [
    {
     "data": {
      "text/plain": [
       "numpy.ndarray"
      ]
     },
     "execution_count": 77,
     "metadata": {},
     "output_type": "execute_result"
    }
   ],
   "source": [
    "type(ws)"
   ]
  },
  {
   "cell_type": "code",
   "execution_count": 78,
   "metadata": {},
   "outputs": [
    {
     "data": {
      "text/plain": [
       "numpy.int64"
      ]
     },
     "execution_count": 78,
     "metadata": {},
     "output_type": "execute_result"
    }
   ],
   "source": [
    "type(ws[1])"
   ]
  },
  {
   "cell_type": "code",
   "execution_count": 81,
   "metadata": {},
   "outputs": [
    {
     "data": {
      "text/plain": [
       "30"
      ]
     },
     "execution_count": 81,
     "metadata": {},
     "output_type": "execute_result"
    }
   ],
   "source": [
    "len([ 0,  1,  2,  3,  5,  7,  8,  9, 12, 16, 18, 19, 20, 21, 32, 34, 37,\n",
    "        39, 40, 41, 42, 43, 44, 45, 46, 48, 51, 54, 55, 61])"
   ]
  },
  {
   "cell_type": "code",
   "execution_count": 92,
   "metadata": {},
   "outputs": [
    {
     "data": {
      "text/plain": [
       "12"
      ]
     },
     "execution_count": 92,
     "metadata": {},
     "output_type": "execute_result"
    }
   ],
   "source": [
    "len([ 1,  7,  8,  9, 10, 16, 21, 37, 39, 40, 43, 46])"
   ]
  },
  {
   "cell_type": "code",
   "execution_count": 109,
   "metadata": {},
   "outputs": [
    {
     "data": {
      "text/plain": [
       "22"
      ]
     },
     "execution_count": 109,
     "metadata": {},
     "output_type": "execute_result"
    }
   ],
   "source": [
    "len([ 0,  1,  2,  3,  5,  7,  8,  9, 12, 16, 32, 34, 37, 39, 40, 41, 42,\n",
    "        44, 46, 51, 54, 61])"
   ]
  },
  {
   "cell_type": "code",
   "execution_count": null,
   "metadata": {
    "collapsed": true
   },
   "outputs": [],
   "source": []
  }
 ],
 "metadata": {
  "kernelspec": {
   "display_name": "Python 2",
   "language": "python",
   "name": "python2"
  },
  "language_info": {
   "codemirror_mode": {
    "name": "ipython",
    "version": 2
   },
   "file_extension": ".py",
   "mimetype": "text/x-python",
   "name": "python",
   "nbconvert_exporter": "python",
   "pygments_lexer": "ipython2",
   "version": "2.7.10"
  }
 },
 "nbformat": 4,
 "nbformat_minor": 2
}
