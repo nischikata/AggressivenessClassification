{
 "cells": [
  {
   "cell_type": "code",
   "execution_count": 1,
   "metadata": {},
   "outputs": [],
   "source": [
    "from Utils.model import DIY_selection\n",
    "from Utils.feature_vector import print_features"
   ]
  },
  {
   "cell_type": "markdown",
   "metadata": {},
   "source": [
    "# Test performance of your own selection\n",
    "1. Select Features by their indices (check below), compile a list\n",
    "2. press shift + enter to see result"
   ]
  },
  {
   "cell_type": "code",
   "execution_count": 2,
   "metadata": {},
   "outputs": [
    {
     "data": {
      "text/html": [
       "<div>\n",
       "<table border=\"1\" class=\"dataframe\">\n",
       "  <thead>\n",
       "    <tr style=\"text-align: right;\">\n",
       "      <th></th>\n",
       "      <th>f1</th>\n",
       "      <th>precision</th>\n",
       "      <th>recall</th>\n",
       "      <th>accuracy</th>\n",
       "      <th>TN</th>\n",
       "      <th>FP</th>\n",
       "      <th>FN</th>\n",
       "      <th>TP</th>\n",
       "    </tr>\n",
       "  </thead>\n",
       "  <tbody>\n",
       "    <tr>\n",
       "      <th>wiki</th>\n",
       "      <td>0.757667</td>\n",
       "      <td>0.799492</td>\n",
       "      <td>0.720000</td>\n",
       "      <td>0.769187</td>\n",
       "      <td>713</td>\n",
       "      <td>158</td>\n",
       "      <td>245</td>\n",
       "      <td>630</td>\n",
       "    </tr>\n",
       "    <tr>\n",
       "      <th>martin</th>\n",
       "      <td>0.830040</td>\n",
       "      <td>0.840000</td>\n",
       "      <td>0.820312</td>\n",
       "      <td>0.833333</td>\n",
       "      <td>110</td>\n",
       "      <td>20</td>\n",
       "      <td>23</td>\n",
       "      <td>105</td>\n",
       "    </tr>\n",
       "  </tbody>\n",
       "</table>\n",
       "</div>"
      ],
      "text/plain": [
       "              f1  precision    recall  accuracy   TN   FP   FN   TP\n",
       "wiki    0.757667   0.799492  0.720000  0.769187  713  158  245  630\n",
       "martin  0.830040   0.840000  0.820312  0.833333  110   20   23  105"
      ]
     },
     "execution_count": 2,
     "metadata": {},
     "output_type": "execute_result"
    }
   ],
   "source": [
    "DIY_selection(selection=[40, 1, 59, 24, 46, 34, 17, 7, 5, 61, 3])"
   ]
  },
  {
   "cell_type": "code",
   "execution_count": 3,
   "metadata": {},
   "outputs": [
    {
     "data": {
      "text/html": [
       "<div>\n",
       "<table border=\"1\" class=\"dataframe\">\n",
       "  <thead>\n",
       "    <tr style=\"text-align: right;\">\n",
       "      <th></th>\n",
       "      <th>f1</th>\n",
       "      <th>precision</th>\n",
       "      <th>recall</th>\n",
       "      <th>accuracy</th>\n",
       "      <th>TN</th>\n",
       "      <th>FP</th>\n",
       "      <th>FN</th>\n",
       "      <th>TP</th>\n",
       "    </tr>\n",
       "  </thead>\n",
       "  <tbody>\n",
       "    <tr>\n",
       "      <th>wiki</th>\n",
       "      <td>0.850589</td>\n",
       "      <td>0.929539</td>\n",
       "      <td>0.784000</td>\n",
       "      <td>0.861970</td>\n",
       "      <td>819</td>\n",
       "      <td>52</td>\n",
       "      <td>189</td>\n",
       "      <td>686</td>\n",
       "    </tr>\n",
       "    <tr>\n",
       "      <th>martin</th>\n",
       "      <td>0.725738</td>\n",
       "      <td>0.788991</td>\n",
       "      <td>0.671875</td>\n",
       "      <td>0.748062</td>\n",
       "      <td>107</td>\n",
       "      <td>23</td>\n",
       "      <td>42</td>\n",
       "      <td>86</td>\n",
       "    </tr>\n",
       "  </tbody>\n",
       "</table>\n",
       "</div>"
      ],
      "text/plain": [
       "              f1  precision    recall  accuracy   TN  FP   FN   TP\n",
       "wiki    0.850589   0.929539  0.784000  0.861970  819  52  189  686\n",
       "martin  0.725738   0.788991  0.671875  0.748062  107  23   42   86"
      ]
     },
     "execution_count": 3,
     "metadata": {},
     "output_type": "execute_result"
    }
   ],
   "source": [
    "DIY_selection([60, 24, 62, 61, 35, 63, 54, 59]) # interesection of best of under 20 wiki/martin"
   ]
  },
  {
   "cell_type": "code",
   "execution_count": 4,
   "metadata": {},
   "outputs": [
    {
     "data": {
      "text/html": [
       "<div>\n",
       "<table border=\"1\" class=\"dataframe\">\n",
       "  <thead>\n",
       "    <tr style=\"text-align: right;\">\n",
       "      <th></th>\n",
       "      <th>f1</th>\n",
       "      <th>precision</th>\n",
       "      <th>recall</th>\n",
       "      <th>accuracy</th>\n",
       "      <th>TN</th>\n",
       "      <th>FP</th>\n",
       "      <th>FN</th>\n",
       "      <th>TP</th>\n",
       "    </tr>\n",
       "  </thead>\n",
       "  <tbody>\n",
       "    <tr>\n",
       "      <th>wiki</th>\n",
       "      <td>0.859423</td>\n",
       "      <td>0.928382</td>\n",
       "      <td>0.80000</td>\n",
       "      <td>0.868843</td>\n",
       "      <td>817</td>\n",
       "      <td>54</td>\n",
       "      <td>175</td>\n",
       "      <td>700</td>\n",
       "    </tr>\n",
       "    <tr>\n",
       "      <th>martin</th>\n",
       "      <td>0.827586</td>\n",
       "      <td>0.812030</td>\n",
       "      <td>0.84375</td>\n",
       "      <td>0.825581</td>\n",
       "      <td>105</td>\n",
       "      <td>25</td>\n",
       "      <td>20</td>\n",
       "      <td>108</td>\n",
       "    </tr>\n",
       "  </tbody>\n",
       "</table>\n",
       "</div>"
      ],
      "text/plain": [
       "              f1  precision   recall  accuracy   TN  FP   FN   TP\n",
       "wiki    0.859423   0.928382  0.80000  0.868843  817  54  175  700\n",
       "martin  0.827586   0.812030  0.84375  0.825581  105  25   20  108"
      ]
     },
     "execution_count": 4,
     "metadata": {},
     "output_type": "execute_result"
    }
   ],
   "source": [
    "DIY_selection([60, 24, 62, 61, 35, 63, 54, 59, 1, 40, 34, 5, 33, 44, 7, 18]) # hand selection by tina :-)"
   ]
  },
  {
   "cell_type": "code",
   "execution_count": 5,
   "metadata": {},
   "outputs": [
    {
     "name": "stdout",
     "output_type": "stream",
     "text": [
      "0 ... as_is___exclamation_ratio\n",
      "1 ... as_is___long_words_count\n",
      "2 ... as_is___wh_pronouns\n",
      "3 ... as_is___ellipsis_count\n",
      "4 ... as_is___period_ratio\n",
      "5 ... as_is___questionmark_ratio\n",
      "6 ... as_is___whitespace_ratio\n",
      "7 ... as_is___highlighters_count\n",
      "8 ... as_is___paras_count\n",
      "9 ... as_is___sent_count\n",
      "10 ... as_is___word_count\n",
      "11 ... as_is___ttr\n",
      "12 ... as_is___max_wordlength\n",
      "13 ... as_is___average_wordlength\n",
      "14 ... as_is___median_wordlength\n",
      "15 ... as_is___spaced_words_count\n",
      "16 ... as_is___edit_distance\n",
      "17 ... as_is___lengthening_counts\n",
      "18 ... as_is___longest_sent_len\n",
      "19 ... as_is___avg_sent_len\n",
      "20 ... as_is___median_sent_len\n",
      "21 ... as_is___shortest_sent_len\n",
      "22 ... as_is___subj_ratio\n",
      "23 ... as_is___subj_pos_ratio\n",
      "24 ... as_is___subj_neg_ratio\n",
      "25 ... as_is___mdash_count\n",
      "26 ... as_is___pos_type_ratio\n",
      "27 ... as_is___JJR_ratio\n",
      "28 ... as_is___JJS_ratio\n",
      "29 ... as_is___RBR_ratio\n",
      "30 ... as_is___RBS_ratio\n",
      "31 ... as_is___modal_ratio\n",
      "32 ... as_is___present_ratio\n",
      "33 ... as_is___past_ratio\n",
      "34 ... as_is___rep_punc_len_avg\n",
      "35 ... as_is___non_alphanum_ratio\n",
      "36 ... as_is___blacklist_CAPS\n",
      "37 ... as_is___mixed_case_word_count\n",
      "38 ... as_is___noise_count\n",
      "39 ... as_is___urbdict_only\n",
      "40 ... as_is___blacklist\n",
      "41 ... as_is___no_dict\n",
      "42 ... as_is___modified_tokens_count\n",
      "43 ... as_is___in_dict\n",
      "44 ... as_is___polite\n",
      "45 ... as_is___imperative_count\n",
      "46 ... per_sent___sent_endings_count\n",
      "47 ... per_sent___ellipsis_count\n",
      "48 ... per_sent___modal_count\n",
      "49 ... per_sent___imperative_count\n",
      "50 ... per_sent___one_char_token_count\n",
      "51 ... per_sent___connectors_count\n",
      "52 ... per_sent___wh_pronouns\n",
      "53 ... per_sent___rep_punc_count\n",
      "54 ... per_sent___paras_count\n",
      "55 ... per_sent___urbdict_only\n",
      "56 ... per_sent___blacklist\n",
      "57 ... per_sent___no_dict\n",
      "58 ... per_tokens___no_dict\n",
      "59 ... per_tokens___urbdict_only\n",
      "60 ... per_tokens___blacklist\n",
      "61 ... per_tokens___all_caps_count\n",
      "62 ... per_tokens___long_words_count\n",
      "63 ... per_tokens___modified_tokens_count\n",
      "64 ... per_tokens___num_count\n",
      "65 ... per_imperatives___imperative_indirect\n",
      "66 ... per_imperatives___imperative_strength\n",
      "67 ... per_imperatives___imperative_polite\n"
     ]
    }
   ],
   "source": [
    "print_features()"
   ]
  },
  {
   "cell_type": "code",
   "execution_count": null,
   "metadata": {
    "collapsed": true
   },
   "outputs": [],
   "source": []
  }
 ],
 "metadata": {
  "kernelspec": {
   "display_name": "Python 2",
   "language": "python",
   "name": "python2"
  },
  "language_info": {
   "codemirror_mode": {
    "name": "ipython",
    "version": 2
   },
   "file_extension": ".py",
   "mimetype": "text/x-python",
   "name": "python",
   "nbconvert_exporter": "python",
   "pygments_lexer": "ipython2",
   "version": "2.7.10"
  }
 },
 "nbformat": 4,
 "nbformat_minor": 2
}
