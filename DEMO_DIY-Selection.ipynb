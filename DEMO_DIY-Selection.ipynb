{
 "cells": [
  {
   "cell_type": "code",
   "execution_count": 1,
   "metadata": {
    "collapsed": true
   },
   "outputs": [],
   "source": [
    "from Utils.model import DIY_selection\n",
    "from Utils.feature_vector import print_features"
   ]
  },
  {
   "cell_type": "markdown",
   "metadata": {},
   "source": [
    "# Test performance of your own selection\n",
    "1. Select Features by their indices (check below), compile a list\n",
    "2. press shift + enter to see result"
   ]
  },
  {
   "cell_type": "code",
   "execution_count": 12,
   "metadata": {},
   "outputs": [
    {
     "data": {
      "text/html": [
       "<div>\n",
       "<table border=\"1\" class=\"dataframe\">\n",
       "  <thead>\n",
       "    <tr style=\"text-align: right;\">\n",
       "      <th></th>\n",
       "      <th>f1</th>\n",
       "      <th>precision</th>\n",
       "      <th>recall</th>\n",
       "      <th>accuracy</th>\n",
       "      <th>TN</th>\n",
       "      <th>FP</th>\n",
       "      <th>FN</th>\n",
       "      <th>TP</th>\n",
       "    </tr>\n",
       "  </thead>\n",
       "  <tbody>\n",
       "    <tr>\n",
       "      <th>wiki</th>\n",
       "      <td>0.715427</td>\n",
       "      <td>0.773936</td>\n",
       "      <td>0.665143</td>\n",
       "      <td>0.734822</td>\n",
       "      <td>701</td>\n",
       "      <td>170</td>\n",
       "      <td>293</td>\n",
       "      <td>582</td>\n",
       "    </tr>\n",
       "    <tr>\n",
       "      <th>martin</th>\n",
       "      <td>0.832000</td>\n",
       "      <td>0.852459</td>\n",
       "      <td>0.812500</td>\n",
       "      <td>0.837209</td>\n",
       "      <td>112</td>\n",
       "      <td>18</td>\n",
       "      <td>24</td>\n",
       "      <td>104</td>\n",
       "    </tr>\n",
       "  </tbody>\n",
       "</table>\n",
       "</div>"
      ],
      "text/plain": [
       "              f1  precision    recall  accuracy   TN   FP   FN   TP\n",
       "wiki    0.715427   0.773936  0.665143  0.734822  701  170  293  582\n",
       "martin  0.832000   0.852459  0.812500  0.837209  112   18   24  104"
      ]
     },
     "execution_count": 12,
     "metadata": {},
     "output_type": "execute_result"
    }
   ],
   "source": [
    "DIY_selection(selection=[40, 1, 59, 24, 46, 34, 17, 7, 5, 61, 3])"
   ]
  },
  {
   "cell_type": "code",
   "execution_count": 13,
   "metadata": {},
   "outputs": [
    {
     "data": {
      "text/html": [
       "<div>\n",
       "<table border=\"1\" class=\"dataframe\">\n",
       "  <thead>\n",
       "    <tr style=\"text-align: right;\">\n",
       "      <th></th>\n",
       "      <th>f1</th>\n",
       "      <th>precision</th>\n",
       "      <th>recall</th>\n",
       "      <th>accuracy</th>\n",
       "      <th>TN</th>\n",
       "      <th>FP</th>\n",
       "      <th>FN</th>\n",
       "      <th>TP</th>\n",
       "    </tr>\n",
       "  </thead>\n",
       "  <tbody>\n",
       "    <tr>\n",
       "      <th>wiki</th>\n",
       "      <td>0.845245</td>\n",
       "      <td>0.926431</td>\n",
       "      <td>0.777143</td>\n",
       "      <td>0.857388</td>\n",
       "      <td>817</td>\n",
       "      <td>54</td>\n",
       "      <td>195</td>\n",
       "      <td>680</td>\n",
       "    </tr>\n",
       "    <tr>\n",
       "      <th>martin</th>\n",
       "      <td>0.769874</td>\n",
       "      <td>0.828829</td>\n",
       "      <td>0.718750</td>\n",
       "      <td>0.786822</td>\n",
       "      <td>111</td>\n",
       "      <td>19</td>\n",
       "      <td>36</td>\n",
       "      <td>92</td>\n",
       "    </tr>\n",
       "  </tbody>\n",
       "</table>\n",
       "</div>"
      ],
      "text/plain": [
       "              f1  precision    recall  accuracy   TN  FP   FN   TP\n",
       "wiki    0.845245   0.926431  0.777143  0.857388  817  54  195  680\n",
       "martin  0.769874   0.828829  0.718750  0.786822  111  19   36   92"
      ]
     },
     "execution_count": 13,
     "metadata": {},
     "output_type": "execute_result"
    }
   ],
   "source": [
    "DIY_selection([60, 24, 62, 61, 35, 63, 54, 59]) # interesection of best of under 20 wiki/martin"
   ]
  },
  {
   "cell_type": "code",
   "execution_count": 14,
   "metadata": {},
   "outputs": [
    {
     "data": {
      "text/html": [
       "<div>\n",
       "<table border=\"1\" class=\"dataframe\">\n",
       "  <thead>\n",
       "    <tr style=\"text-align: right;\">\n",
       "      <th></th>\n",
       "      <th>f1</th>\n",
       "      <th>precision</th>\n",
       "      <th>recall</th>\n",
       "      <th>accuracy</th>\n",
       "      <th>TN</th>\n",
       "      <th>FP</th>\n",
       "      <th>FN</th>\n",
       "      <th>TP</th>\n",
       "    </tr>\n",
       "  </thead>\n",
       "  <tbody>\n",
       "    <tr>\n",
       "      <th>wiki</th>\n",
       "      <td>0.850617</td>\n",
       "      <td>0.924832</td>\n",
       "      <td>0.787429</td>\n",
       "      <td>0.861397</td>\n",
       "      <td>815</td>\n",
       "      <td>56</td>\n",
       "      <td>186</td>\n",
       "      <td>689</td>\n",
       "    </tr>\n",
       "    <tr>\n",
       "      <th>martin</th>\n",
       "      <td>0.818533</td>\n",
       "      <td>0.809160</td>\n",
       "      <td>0.828125</td>\n",
       "      <td>0.817829</td>\n",
       "      <td>105</td>\n",
       "      <td>25</td>\n",
       "      <td>22</td>\n",
       "      <td>106</td>\n",
       "    </tr>\n",
       "  </tbody>\n",
       "</table>\n",
       "</div>"
      ],
      "text/plain": [
       "              f1  precision    recall  accuracy   TN  FP   FN   TP\n",
       "wiki    0.850617   0.924832  0.787429  0.861397  815  56  186  689\n",
       "martin  0.818533   0.809160  0.828125  0.817829  105  25   22  106"
      ]
     },
     "execution_count": 14,
     "metadata": {},
     "output_type": "execute_result"
    }
   ],
   "source": [
    "DIY_selection([60, 24, 62, 61, 35, 63, 54, 59, 1, 40, 34, 5, 33, 44, 7, 18]) # hand selection by tina :-) n = 16"
   ]
  },
  {
   "cell_type": "code",
   "execution_count": 15,
   "metadata": {},
   "outputs": [
    {
     "data": {
      "text/html": [
       "<div>\n",
       "<table border=\"1\" class=\"dataframe\">\n",
       "  <thead>\n",
       "    <tr style=\"text-align: right;\">\n",
       "      <th></th>\n",
       "      <th>f1</th>\n",
       "      <th>precision</th>\n",
       "      <th>recall</th>\n",
       "      <th>accuracy</th>\n",
       "      <th>TN</th>\n",
       "      <th>FP</th>\n",
       "      <th>FN</th>\n",
       "      <th>TP</th>\n",
       "    </tr>\n",
       "  </thead>\n",
       "  <tbody>\n",
       "    <tr>\n",
       "      <th>wiki</th>\n",
       "      <td>0.854658</td>\n",
       "      <td>0.936054</td>\n",
       "      <td>0.786286</td>\n",
       "      <td>0.865979</td>\n",
       "      <td>824</td>\n",
       "      <td>47</td>\n",
       "      <td>187</td>\n",
       "      <td>688</td>\n",
       "    </tr>\n",
       "    <tr>\n",
       "      <th>martin</th>\n",
       "      <td>0.783333</td>\n",
       "      <td>0.839286</td>\n",
       "      <td>0.734375</td>\n",
       "      <td>0.798450</td>\n",
       "      <td>112</td>\n",
       "      <td>18</td>\n",
       "      <td>34</td>\n",
       "      <td>94</td>\n",
       "    </tr>\n",
       "  </tbody>\n",
       "</table>\n",
       "</div>"
      ],
      "text/plain": [
       "              f1  precision    recall  accuracy   TN  FP   FN   TP\n",
       "wiki    0.854658   0.936054  0.786286  0.865979  824  47  187  688\n",
       "martin  0.783333   0.839286  0.734375  0.798450  112  18   34   94"
      ]
     },
     "execution_count": 15,
     "metadata": {},
     "output_type": "execute_result"
    }
   ],
   "source": [
    "DIY_selection([60,7,62,24, 11, 61, 59, 16, 43, 5, 46, 44, 35]) #another hand selection n = 13"
   ]
  },
  {
   "cell_type": "code",
   "execution_count": null,
   "metadata": {
    "collapsed": true
   },
   "outputs": [],
   "source": [
    "0.857676 \t0.940054 \t0.788571 \t0.868843 \t827 \t44 \t185 \t690"
   ]
  },
  {
   "cell_type": "code",
   "execution_count": 7,
   "metadata": {},
   "outputs": [
    {
     "data": {
      "text/html": [
       "<div>\n",
       "<table border=\"1\" class=\"dataframe\">\n",
       "  <thead>\n",
       "    <tr style=\"text-align: right;\">\n",
       "      <th></th>\n",
       "      <th>f1</th>\n",
       "      <th>precision</th>\n",
       "      <th>recall</th>\n",
       "      <th>accuracy</th>\n",
       "      <th>TN</th>\n",
       "      <th>FP</th>\n",
       "      <th>FN</th>\n",
       "      <th>TP</th>\n",
       "    </tr>\n",
       "  </thead>\n",
       "  <tbody>\n",
       "    <tr>\n",
       "      <th>wiki</th>\n",
       "      <td>0.855895</td>\n",
       "      <td>0.942308</td>\n",
       "      <td>0.78400</td>\n",
       "      <td>0.867698</td>\n",
       "      <td>829</td>\n",
       "      <td>42</td>\n",
       "      <td>189</td>\n",
       "      <td>686</td>\n",
       "    </tr>\n",
       "    <tr>\n",
       "      <th>martin</th>\n",
       "      <td>0.840467</td>\n",
       "      <td>0.837209</td>\n",
       "      <td>0.84375</td>\n",
       "      <td>0.841085</td>\n",
       "      <td>109</td>\n",
       "      <td>21</td>\n",
       "      <td>20</td>\n",
       "      <td>108</td>\n",
       "    </tr>\n",
       "  </tbody>\n",
       "</table>\n",
       "</div>"
      ],
      "text/plain": [
       "              f1  precision   recall  accuracy   TN  FP   FN   TP\n",
       "wiki    0.855895   0.942308  0.78400  0.867698  829  42  189  686\n",
       "martin  0.840467   0.837209  0.84375  0.841085  109  21   20  108"
      ]
     },
     "execution_count": 7,
     "metadata": {},
     "output_type": "execute_result"
    }
   ],
   "source": [
    "DIY_selection([10, 43, 56, 1, 40,  61, 60, 24, 35, 63, 12, 46, 19, 7, 26, 33, 11, 39])"
   ]
  },
  {
   "cell_type": "code",
   "execution_count": 9,
   "metadata": {},
   "outputs": [
    {
     "data": {
      "text/html": [
       "<div>\n",
       "<table border=\"1\" class=\"dataframe\">\n",
       "  <thead>\n",
       "    <tr style=\"text-align: right;\">\n",
       "      <th></th>\n",
       "      <th>f1</th>\n",
       "      <th>precision</th>\n",
       "      <th>recall</th>\n",
       "      <th>accuracy</th>\n",
       "      <th>TN</th>\n",
       "      <th>FP</th>\n",
       "      <th>FN</th>\n",
       "      <th>TP</th>\n",
       "    </tr>\n",
       "  </thead>\n",
       "  <tbody>\n",
       "    <tr>\n",
       "      <th>wiki</th>\n",
       "      <td>0.845477</td>\n",
       "      <td>0.938633</td>\n",
       "      <td>0.769143</td>\n",
       "      <td>0.859107</td>\n",
       "      <td>827</td>\n",
       "      <td>44</td>\n",
       "      <td>202</td>\n",
       "      <td>673</td>\n",
       "    </tr>\n",
       "    <tr>\n",
       "      <th>martin</th>\n",
       "      <td>0.837209</td>\n",
       "      <td>0.830769</td>\n",
       "      <td>0.843750</td>\n",
       "      <td>0.837209</td>\n",
       "      <td>108</td>\n",
       "      <td>22</td>\n",
       "      <td>20</td>\n",
       "      <td>108</td>\n",
       "    </tr>\n",
       "  </tbody>\n",
       "</table>\n",
       "</div>"
      ],
      "text/plain": [
       "              f1  precision    recall  accuracy   TN  FP   FN   TP\n",
       "wiki    0.845477   0.938633  0.769143  0.859107  827  44  202  673\n",
       "martin  0.837209   0.830769  0.843750  0.837209  108  22   20  108"
      ]
     },
     "execution_count": 9,
     "metadata": {},
     "output_type": "execute_result"
    }
   ],
   "source": [
    "DIY_selection([ 40,  61, 60, 24, 35, 63, 12, 46, 19, 7, 1, 26, 33, 11, 39, 10, 43, 56])"
   ]
  },
  {
   "cell_type": "code",
   "execution_count": 2,
   "metadata": {},
   "outputs": [
    {
     "name": "stderr",
     "output_type": "stream",
     "text": [
      "/System/Library/Frameworks/Python.framework/Versions/2.7/Extras/lib/python/scipy/sparse/coo.py:200: VisibleDeprecationWarning: `rank` is deprecated; use the `ndim` attribute or function instead. To find the rank of a matrix see `numpy.linalg.matrix_rank`.\n",
      "  if np.rank(self.data) != 1 or np.rank(self.row) != 1 or np.rank(self.col) != 1:\n"
     ]
    },
    {
     "data": {
      "text/html": [
       "<div>\n",
       "<table border=\"1\" class=\"dataframe\">\n",
       "  <thead>\n",
       "    <tr style=\"text-align: right;\">\n",
       "      <th></th>\n",
       "      <th>f1</th>\n",
       "      <th>precision</th>\n",
       "      <th>recall</th>\n",
       "      <th>accuracy</th>\n",
       "      <th>TN</th>\n",
       "      <th>FP</th>\n",
       "      <th>FN</th>\n",
       "      <th>TP</th>\n",
       "    </tr>\n",
       "  </thead>\n",
       "  <tbody>\n",
       "    <tr>\n",
       "      <th>wiki</th>\n",
       "      <td>0.852684</td>\n",
       "      <td>0.939477</td>\n",
       "      <td>0.780571</td>\n",
       "      <td>0.864834</td>\n",
       "      <td>827</td>\n",
       "      <td>44</td>\n",
       "      <td>192</td>\n",
       "      <td>683</td>\n",
       "    </tr>\n",
       "    <tr>\n",
       "      <th>martin</th>\n",
       "      <td>0.830040</td>\n",
       "      <td>0.840000</td>\n",
       "      <td>0.820312</td>\n",
       "      <td>0.833333</td>\n",
       "      <td>110</td>\n",
       "      <td>20</td>\n",
       "      <td>23</td>\n",
       "      <td>105</td>\n",
       "    </tr>\n",
       "  </tbody>\n",
       "</table>\n",
       "</div>"
      ],
      "text/plain": [
       "              f1  precision    recall  accuracy   TN  FP   FN   TP\n",
       "wiki    0.852684   0.939477  0.780571  0.864834  827  44  192  683\n",
       "martin  0.830040   0.840000  0.820312  0.833333  110  20   23  105"
      ]
     },
     "execution_count": 2,
     "metadata": {},
     "output_type": "execute_result"
    }
   ],
   "source": [
    "DIY_selection([ 40,  61, 60, 24, 35, 63, 12, 46, 19, 7, 1, 26, 33, 11, 39, 10, 43, 56])"
   ]
  },
  {
   "cell_type": "code",
   "execution_count": 17,
   "metadata": {},
   "outputs": [
    {
     "data": {
      "text/html": [
       "<div>\n",
       "<table border=\"1\" class=\"dataframe\">\n",
       "  <thead>\n",
       "    <tr style=\"text-align: right;\">\n",
       "      <th></th>\n",
       "      <th>f1</th>\n",
       "      <th>precision</th>\n",
       "      <th>recall</th>\n",
       "      <th>accuracy</th>\n",
       "      <th>TN</th>\n",
       "      <th>FP</th>\n",
       "      <th>FN</th>\n",
       "      <th>TP</th>\n",
       "    </tr>\n",
       "  </thead>\n",
       "  <tbody>\n",
       "    <tr>\n",
       "      <th>wiki</th>\n",
       "      <td>0.853416</td>\n",
       "      <td>0.934694</td>\n",
       "      <td>0.785143</td>\n",
       "      <td>0.864834</td>\n",
       "      <td>823</td>\n",
       "      <td>48</td>\n",
       "      <td>188</td>\n",
       "      <td>687</td>\n",
       "    </tr>\n",
       "    <tr>\n",
       "      <th>martin</th>\n",
       "      <td>0.836653</td>\n",
       "      <td>0.853659</td>\n",
       "      <td>0.820312</td>\n",
       "      <td>0.841085</td>\n",
       "      <td>112</td>\n",
       "      <td>18</td>\n",
       "      <td>23</td>\n",
       "      <td>105</td>\n",
       "    </tr>\n",
       "  </tbody>\n",
       "</table>\n",
       "</div>"
      ],
      "text/plain": [
       "              f1  precision    recall  accuracy   TN  FP   FN   TP\n",
       "wiki    0.853416   0.934694  0.785143  0.864834  823  48  188  687\n",
       "martin  0.836653   0.853659  0.820312  0.841085  112  18   23  105"
      ]
     },
     "execution_count": 17,
     "metadata": {},
     "output_type": "execute_result"
    }
   ],
   "source": [
    "DIY_selection([1, 10, 43, 56, 40,  61, 60, 24, 35, 63, 12, 46, 19, 7, 26, 33, 39, 62])"
   ]
  },
  {
   "cell_type": "code",
   "execution_count": 5,
   "metadata": {},
   "outputs": [
    {
     "name": "stdout",
     "output_type": "stream",
     "text": [
      "0 ... as_is___exclamation_ratio\n",
      "1 ... as_is___long_words_count\n",
      "2 ... as_is___wh_pronouns\n",
      "3 ... as_is___ellipsis_count\n",
      "4 ... as_is___period_ratio\n",
      "5 ... as_is___questionmark_ratio\n",
      "6 ... as_is___whitespace_ratio\n",
      "7 ... as_is___highlighters_count\n",
      "8 ... as_is___paras_count\n",
      "9 ... as_is___sent_count\n",
      "10 ... as_is___word_count\n",
      "11 ... as_is___ttr\n",
      "12 ... as_is___max_wordlength\n",
      "13 ... as_is___average_wordlength\n",
      "14 ... as_is___median_wordlength\n",
      "15 ... as_is___spaced_words_count\n",
      "16 ... as_is___edit_distance\n",
      "17 ... as_is___lengthening_counts\n",
      "18 ... as_is___longest_sent_len\n",
      "19 ... as_is___avg_sent_len\n",
      "20 ... as_is___median_sent_len\n",
      "21 ... as_is___shortest_sent_len\n",
      "22 ... as_is___subj_ratio\n",
      "23 ... as_is___subj_pos_ratio\n",
      "24 ... as_is___subj_neg_ratio\n",
      "25 ... as_is___mdash_count\n",
      "26 ... as_is___pos_type_ratio\n",
      "27 ... as_is___JJR_ratio\n",
      "28 ... as_is___JJS_ratio\n",
      "29 ... as_is___RBR_ratio\n",
      "30 ... as_is___RBS_ratio\n",
      "31 ... as_is___modal_ratio\n",
      "32 ... as_is___present_ratio\n",
      "33 ... as_is___past_ratio\n",
      "34 ... as_is___rep_punc_len_avg\n",
      "35 ... as_is___non_alphanum_ratio\n",
      "36 ... as_is___blacklist_CAPS\n",
      "37 ... as_is___mixed_case_word_count\n",
      "38 ... as_is___noise_count\n",
      "39 ... as_is___urbdict_only\n",
      "40 ... as_is___blacklist\n",
      "41 ... as_is___no_dict\n",
      "42 ... as_is___modified_tokens_count\n",
      "43 ... as_is___in_dict\n",
      "44 ... as_is___polite\n",
      "45 ... as_is___imperative_count\n",
      "46 ... per_sent___sent_endings_count\n",
      "47 ... per_sent___ellipsis_count\n",
      "48 ... per_sent___modal_count\n",
      "49 ... per_sent___imperative_count\n",
      "50 ... per_sent___one_char_token_count\n",
      "51 ... per_sent___connectors_count\n",
      "52 ... per_sent___wh_pronouns\n",
      "53 ... per_sent___rep_punc_count\n",
      "54 ... per_sent___paras_count\n",
      "55 ... per_sent___urbdict_only\n",
      "56 ... per_sent___blacklist\n",
      "57 ... per_sent___no_dict\n",
      "58 ... per_tokens___no_dict\n",
      "59 ... per_tokens___urbdict_only\n",
      "60 ... per_tokens___blacklist\n",
      "61 ... per_tokens___all_caps_count\n",
      "62 ... per_tokens___long_words_count\n",
      "63 ... per_tokens___modified_tokens_count\n",
      "64 ... per_tokens___num_count\n",
      "65 ... per_imperatives___imperative_indirect\n",
      "66 ... per_imperatives___imperative_strength\n",
      "67 ... per_imperatives___imperative_polite\n"
     ]
    }
   ],
   "source": [
    "print_features()"
   ]
  },
  {
   "cell_type": "code",
   "execution_count": null,
   "metadata": {
    "collapsed": true
   },
   "outputs": [],
   "source": []
  }
 ],
 "metadata": {
  "kernelspec": {
   "display_name": "Python 2",
   "language": "python",
   "name": "python2"
  },
  "language_info": {
   "codemirror_mode": {
    "name": "ipython",
    "version": 2
   },
   "file_extension": ".py",
   "mimetype": "text/x-python",
   "name": "python",
   "nbconvert_exporter": "python",
   "pygments_lexer": "ipython2",
   "version": "2.7.10"
  }
 },
 "nbformat": 4,
 "nbformat_minor": 2
}
