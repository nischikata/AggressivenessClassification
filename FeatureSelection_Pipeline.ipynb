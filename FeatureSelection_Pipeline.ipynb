{
 "cells": [
  {
   "cell_type": "code",
   "execution_count": null,
   "metadata": {
    "collapsed": true
   },
   "outputs": [],
   "source": [
    "from Utils.split_dataset import save_devSet_valSet, scale_sets\n",
    "from Utils.setupDataset import get_dataset, save, load\n",
    "from Utils.feature_ranking import getRFE_ranking, getTopFeatures\n",
    "from Utils.univariate_featureSelection import single_selection\n",
    "from Utils.lasso_selections import get_LassoSelections\n",
    "import numpy as np\n",
    "\n",
    "m_dev_file  = \"Datasets/M_DEV_dataset.pickle\"\n",
    "m_val_file  = \"Datasets/M_VAL_dataset.pickle\"\n",
    "m_sel_univ  = \"Datasets/M_SELECTIONS_univariate.csv\"\n",
    "m_sel_RFE   = \"Datasets/M_SELECTIONS_RFE.csv\"\n",
    "m_sel_lasso = \"Datasets/M_SELECTIONS_lasso.pickle\"\n",
    "\n",
    "w_dev_file  = \"Datasets/W_DEV_dataset.pickle\"\n",
    "w_val_file  = \"Datasets/W_VAL_dataset.pickle\"\n",
    "w_sel_univ  = \"Datasets/W_SELECTIONS_univariate.csv\"\n",
    "w_sel_RFE   = \"Datasets/W_SELECTIONS_RFE.csv\"\n",
    "w_sel_lasso = \"Datasets/W_SELECTIONS_lasso.pickle\""
   ]
  },
  {
   "cell_type": "markdown",
   "metadata": {},
   "source": [
    "# The Feature Selection Pipeline\n",
    "This Notebook shows the steps from the Datasets to the respective Feature Selections"
   ]
  },
  {
   "cell_type": "markdown",
   "metadata": {},
   "source": [
    "## step 1: Split the Datasets into Validation and Dev set"
   ]
  },
  {
   "cell_type": "code",
   "execution_count": null,
   "metadata": {
    "collapsed": true
   },
   "outputs": [],
   "source": [
    "#save_devSet_valSet(\"Datasets/dataset.pickle\", m_dev_file, m_val_file)\n",
    "#save_devSet_valSet(\"Datasets/wiki_dataset.pickle\", w_dev_file, w_val_file)"
   ]
  },
  {
   "cell_type": "code",
   "execution_count": null,
   "metadata": {
    "collapsed": true
   },
   "outputs": [],
   "source": [
    "m_devSet = get_dataset(m_dev_file)\n",
    "w_devSet = get_dataset(w_dev_file)\n",
    "\n",
    "m_val = get_dataset(m_val_file)\n",
    "w_val = get_dataset(w_val_file)"
   ]
  },
  {
   "cell_type": "markdown",
   "metadata": {},
   "source": [
    " ## step 2: Compute the Feature Selections"
   ]
  },
  {
   "cell_type": "markdown",
   "metadata": {},
   "source": [
    "### Univariate"
   ]
  },
  {
   "cell_type": "code",
   "execution_count": null,
   "metadata": {
    "collapsed": true
   },
   "outputs": [],
   "source": [
    "M_RANKS = getTopFeatures(m_devSet, m_sel_univ)\n",
    "W_RANKS = getTopFeatures(w_devSet, w_sel_univ)"
   ]
  },
  {
   "cell_type": "markdown",
   "metadata": {},
   "source": [
    "### RFE"
   ]
  },
  {
   "cell_type": "code",
   "execution_count": null,
   "metadata": {
    "collapsed": true
   },
   "outputs": [],
   "source": [
    "M_RFE = getRFE_ranking(m_devSet, m_sel_RFE)\n",
    "W_RFE = getRFE_ranking(w_devSet, w_sel_RFE)"
   ]
  },
  {
   "cell_type": "markdown",
   "metadata": {
    "collapsed": true
   },
   "source": [
    "### Lasso"
   ]
  },
  {
   "cell_type": "code",
   "execution_count": null,
   "metadata": {
    "collapsed": true
   },
   "outputs": [],
   "source": [
    "M_LASSO = get_LassoSelections(m_devSet, out=m_sel_lasso)\n",
    "w_LASSO = get_LassoSelections(w_devSet, out=w_sel_lasso)"
   ]
  }
 ],
 "metadata": {
  "kernelspec": {
   "display_name": "Python 2",
   "language": "python",
   "name": "python2"
  },
  "language_info": {
   "codemirror_mode": {
    "name": "ipython",
    "version": 2
   },
   "file_extension": ".py",
   "mimetype": "text/x-python",
   "name": "python",
   "nbconvert_exporter": "python",
   "pygments_lexer": "ipython2",
   "version": "2.7.10"
  }
 },
 "nbformat": 4,
 "nbformat_minor": 2
}
